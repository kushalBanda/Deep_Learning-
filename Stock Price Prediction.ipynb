{
 "cells": [
  {
   "cell_type": "markdown",
   "metadata": {},
   "source": [
    "## <b><u><i><span style = \"color:blue\"> <span style = \"font-family: Times New Roman\"> Stock Price Prediction and Forecasting using Stacked Biderectional LSTM </span>"
   ]
  },
  {
   "cell_type": "markdown",
   "metadata": {},
   "source": [
    "### Importing Libraries and packages"
   ]
  },
  {
   "cell_type": "code",
   "execution_count": 1,
   "metadata": {},
   "outputs": [],
   "source": [
    "from matplotlib import ticker \n",
    "import yfinance as yf\n",
    "import numpy as np \n",
    "import pandas as pd\n",
    "import matplotlib.pyplot as plt \n",
    "from datetime import time"
   ]
  },
  {
   "cell_type": "markdown",
   "metadata": {},
   "source": [
    "#### Ticker Symbol"
   ]
  },
  {
   "cell_type": "code",
   "execution_count": 2,
   "metadata": {},
   "outputs": [],
   "source": [
    "ticker_name = input(\"Enter the stock's ticker name\", )"
   ]
  },
  {
   "cell_type": "code",
   "execution_count": 3,
   "metadata": {},
   "outputs": [],
   "source": [
    "ticker_Data = yf.Ticker(ticker_name)"
   ]
  },
  {
   "cell_type": "markdown",
   "metadata": {},
   "source": [
    "#### Data Collection"
   ]
  },
  {
   "cell_type": "code",
   "execution_count": 4,
   "metadata": {},
   "outputs": [],
   "source": [
    "ticker_Df = ticker_Data.history(period = '5y')"
   ]
  },
  {
   "cell_type": "code",
   "execution_count": 5,
   "metadata": {},
   "outputs": [
    {
     "data": {
      "text/html": [
       "<div>\n",
       "<style scoped>\n",
       "    .dataframe tbody tr th:only-of-type {\n",
       "        vertical-align: middle;\n",
       "    }\n",
       "\n",
       "    .dataframe tbody tr th {\n",
       "        vertical-align: top;\n",
       "    }\n",
       "\n",
       "    .dataframe thead th {\n",
       "        text-align: right;\n",
       "    }\n",
       "</style>\n",
       "<table border=\"1\" class=\"dataframe\">\n",
       "  <thead>\n",
       "    <tr style=\"text-align: right;\">\n",
       "      <th></th>\n",
       "      <th>Open</th>\n",
       "      <th>High</th>\n",
       "      <th>Low</th>\n",
       "      <th>Close</th>\n",
       "      <th>Volume</th>\n",
       "      <th>Dividends</th>\n",
       "      <th>Stock Splits</th>\n",
       "    </tr>\n",
       "    <tr>\n",
       "      <th>Date</th>\n",
       "      <th></th>\n",
       "      <th></th>\n",
       "      <th></th>\n",
       "      <th></th>\n",
       "      <th></th>\n",
       "      <th></th>\n",
       "      <th></th>\n",
       "    </tr>\n",
       "  </thead>\n",
       "  <tbody>\n",
       "    <tr>\n",
       "      <th>2017-01-30</th>\n",
       "      <td>28.457307</td>\n",
       "      <td>28.622030</td>\n",
       "      <td>28.393771</td>\n",
       "      <td>28.622030</td>\n",
       "      <td>121510000</td>\n",
       "      <td>0.0</td>\n",
       "      <td>0.0</td>\n",
       "    </tr>\n",
       "    <tr>\n",
       "      <th>2017-01-31</th>\n",
       "      <td>28.509076</td>\n",
       "      <td>28.565552</td>\n",
       "      <td>28.384356</td>\n",
       "      <td>28.556139</td>\n",
       "      <td>196804000</td>\n",
       "      <td>0.0</td>\n",
       "      <td>0.0</td>\n",
       "    </tr>\n",
       "    <tr>\n",
       "      <th>2017-02-01</th>\n",
       "      <td>29.892751</td>\n",
       "      <td>30.706961</td>\n",
       "      <td>29.888046</td>\n",
       "      <td>30.297503</td>\n",
       "      <td>447940000</td>\n",
       "      <td>0.0</td>\n",
       "      <td>0.0</td>\n",
       "    </tr>\n",
       "    <tr>\n",
       "      <th>2017-02-02</th>\n",
       "      <td>30.116308</td>\n",
       "      <td>30.448109</td>\n",
       "      <td>30.069243</td>\n",
       "      <td>30.245733</td>\n",
       "      <td>134841600</td>\n",
       "      <td>0.0</td>\n",
       "      <td>0.0</td>\n",
       "    </tr>\n",
       "    <tr>\n",
       "      <th>2017-02-03</th>\n",
       "      <td>30.193966</td>\n",
       "      <td>30.401049</td>\n",
       "      <td>30.158670</td>\n",
       "      <td>30.375164</td>\n",
       "      <td>98029200</td>\n",
       "      <td>0.0</td>\n",
       "      <td>0.0</td>\n",
       "    </tr>\n",
       "  </tbody>\n",
       "</table>\n",
       "</div>"
      ],
      "text/plain": [
       "                 Open       High        Low      Close     Volume  Dividends  \\\n",
       "Date                                                                           \n",
       "2017-01-30  28.457307  28.622030  28.393771  28.622030  121510000        0.0   \n",
       "2017-01-31  28.509076  28.565552  28.384356  28.556139  196804000        0.0   \n",
       "2017-02-01  29.892751  30.706961  29.888046  30.297503  447940000        0.0   \n",
       "2017-02-02  30.116308  30.448109  30.069243  30.245733  134841600        0.0   \n",
       "2017-02-03  30.193966  30.401049  30.158670  30.375164   98029200        0.0   \n",
       "\n",
       "            Stock Splits  \n",
       "Date                      \n",
       "2017-01-30           0.0  \n",
       "2017-01-31           0.0  \n",
       "2017-02-01           0.0  \n",
       "2017-02-02           0.0  \n",
       "2017-02-03           0.0  "
      ]
     },
     "execution_count": 5,
     "metadata": {},
     "output_type": "execute_result"
    }
   ],
   "source": [
    "ticker_Df.head()"
   ]
  },
  {
   "cell_type": "code",
   "execution_count": 6,
   "metadata": {},
   "outputs": [
    {
     "data": {
      "text/html": [
       "<div>\n",
       "<style scoped>\n",
       "    .dataframe tbody tr th:only-of-type {\n",
       "        vertical-align: middle;\n",
       "    }\n",
       "\n",
       "    .dataframe tbody tr th {\n",
       "        vertical-align: top;\n",
       "    }\n",
       "\n",
       "    .dataframe thead th {\n",
       "        text-align: right;\n",
       "    }\n",
       "</style>\n",
       "<table border=\"1\" class=\"dataframe\">\n",
       "  <thead>\n",
       "    <tr style=\"text-align: right;\">\n",
       "      <th></th>\n",
       "      <th>Open</th>\n",
       "      <th>High</th>\n",
       "      <th>Low</th>\n",
       "      <th>Close</th>\n",
       "      <th>Volume</th>\n",
       "      <th>Dividends</th>\n",
       "      <th>Stock Splits</th>\n",
       "    </tr>\n",
       "    <tr>\n",
       "      <th>Date</th>\n",
       "      <th></th>\n",
       "      <th></th>\n",
       "      <th></th>\n",
       "      <th></th>\n",
       "      <th></th>\n",
       "      <th></th>\n",
       "      <th></th>\n",
       "    </tr>\n",
       "  </thead>\n",
       "  <tbody>\n",
       "    <tr>\n",
       "      <th>2022-01-24</th>\n",
       "      <td>160.020004</td>\n",
       "      <td>162.300003</td>\n",
       "      <td>154.699997</td>\n",
       "      <td>161.619995</td>\n",
       "      <td>162706700</td>\n",
       "      <td>0.0</td>\n",
       "      <td>0.0</td>\n",
       "    </tr>\n",
       "    <tr>\n",
       "      <th>2022-01-25</th>\n",
       "      <td>158.979996</td>\n",
       "      <td>162.759995</td>\n",
       "      <td>157.020004</td>\n",
       "      <td>159.779999</td>\n",
       "      <td>115798400</td>\n",
       "      <td>0.0</td>\n",
       "      <td>0.0</td>\n",
       "    </tr>\n",
       "    <tr>\n",
       "      <th>2022-01-26</th>\n",
       "      <td>163.500000</td>\n",
       "      <td>164.389999</td>\n",
       "      <td>157.820007</td>\n",
       "      <td>159.690002</td>\n",
       "      <td>108275300</td>\n",
       "      <td>0.0</td>\n",
       "      <td>0.0</td>\n",
       "    </tr>\n",
       "    <tr>\n",
       "      <th>2022-01-27</th>\n",
       "      <td>162.449997</td>\n",
       "      <td>163.839996</td>\n",
       "      <td>158.279999</td>\n",
       "      <td>159.220001</td>\n",
       "      <td>116691400</td>\n",
       "      <td>0.0</td>\n",
       "      <td>0.0</td>\n",
       "    </tr>\n",
       "    <tr>\n",
       "      <th>2022-01-28</th>\n",
       "      <td>165.710007</td>\n",
       "      <td>170.350006</td>\n",
       "      <td>162.800003</td>\n",
       "      <td>170.330002</td>\n",
       "      <td>179485800</td>\n",
       "      <td>0.0</td>\n",
       "      <td>0.0</td>\n",
       "    </tr>\n",
       "  </tbody>\n",
       "</table>\n",
       "</div>"
      ],
      "text/plain": [
       "                  Open        High         Low       Close     Volume  \\\n",
       "Date                                                                    \n",
       "2022-01-24  160.020004  162.300003  154.699997  161.619995  162706700   \n",
       "2022-01-25  158.979996  162.759995  157.020004  159.779999  115798400   \n",
       "2022-01-26  163.500000  164.389999  157.820007  159.690002  108275300   \n",
       "2022-01-27  162.449997  163.839996  158.279999  159.220001  116691400   \n",
       "2022-01-28  165.710007  170.350006  162.800003  170.330002  179485800   \n",
       "\n",
       "            Dividends  Stock Splits  \n",
       "Date                                 \n",
       "2022-01-24        0.0           0.0  \n",
       "2022-01-25        0.0           0.0  \n",
       "2022-01-26        0.0           0.0  \n",
       "2022-01-27        0.0           0.0  \n",
       "2022-01-28        0.0           0.0  "
      ]
     },
     "execution_count": 6,
     "metadata": {},
     "output_type": "execute_result"
    }
   ],
   "source": [
    "ticker_Df.tail()"
   ]
  },
  {
   "cell_type": "code",
   "execution_count": 7,
   "metadata": {},
   "outputs": [
    {
     "data": {
      "text/plain": [
       "(1260, 7)"
      ]
     },
     "execution_count": 7,
     "metadata": {},
     "output_type": "execute_result"
    }
   ],
   "source": [
    "ticker_Df.shape"
   ]
  },
  {
   "cell_type": "markdown",
   "metadata": {},
   "source": [
    "### Max Chart"
   ]
  },
  {
   "cell_type": "code",
   "execution_count": 8,
   "metadata": {},
   "outputs": [
    {
     "data": {
      "text/plain": [
       "[<matplotlib.lines.Line2D at 0x1b1ec3a0ee0>]"
      ]
     },
     "execution_count": 8,
     "metadata": {},
     "output_type": "execute_result"
    },
    {
     "data": {
      "image/png": "[encoded data removed]",
      "text/plain": [
       "<Figure size 432x288 with 1 Axes>"
      ]
     },
     "metadata": {
      "needs_background": "light"
     },
     "output_type": "display_data"
    }
   ],
   "source": [
    "plt.plot(ticker_Df['Close'])"
   ]
  },
  {
   "cell_type": "code",
   "execution_count": 9,
   "metadata": {},
   "outputs": [],
   "source": [
    "data = ticker_Df.reset_index()['Close']"
   ]
  },
  {
   "cell_type": "code",
   "execution_count": 10,
   "metadata": {},
   "outputs": [
    {
     "data": {
      "text/plain": [
       "0        28.622030\n",
       "1        28.556139\n",
       "2        30.297503\n",
       "3        30.245733\n",
       "4        30.375164\n",
       "           ...    \n",
       "1255    161.619995\n",
       "1256    159.779999\n",
       "1257    159.690002\n",
       "1258    159.220001\n",
       "1259    170.330002\n",
       "Name: Close, Length: 1260, dtype: float64"
      ]
     },
     "execution_count": 10,
     "metadata": {},
     "output_type": "execute_result"
    }
   ],
   "source": [
    "data"
   ]
  },
  {
   "cell_type": "markdown",
   "metadata": {},
   "source": [
    "### Scaling the data"
   ]
  },
  {
   "cell_type": "code",
   "execution_count": 11,
   "metadata": {},
   "outputs": [],
   "source": [
    "from sklearn.preprocessing import MinMaxScaler\n",
    "SC = MinMaxScaler(feature_range = (0 , 1))\n",
    "data = SC.fit_transform(np.array(data).reshape(-1 , 1))"
   ]
  },
  {
   "cell_type": "code",
   "execution_count": 12,
   "metadata": {},
   "outputs": [
    {
     "data": {
      "text/plain": [
       "(1260, 1)"
      ]
     },
     "execution_count": 12,
     "metadata": {},
     "output_type": "execute_result"
    }
   ],
   "source": [
    "data.shape"
   ]
  },
  {
   "cell_type": "markdown",
   "metadata": {},
   "source": [
    "### Splitting the dataset into train and test split"
   ]
  },
  {
   "cell_type": "code",
   "execution_count": 13,
   "metadata": {},
   "outputs": [],
   "source": [
    "training_size = int(len(data) * 0.80)\n",
    "test_size = len(data) - training_size\n",
    "\n",
    "train_data , test_data = data[0 : training_size, : ], data[training_size : len(data) , : 1]"
   ]
  },
  {
   "cell_type": "code",
   "execution_count": 14,
   "metadata": {},
   "outputs": [
    {
     "data": {
      "text/plain": [
       "(1008, 252)"
      ]
     },
     "execution_count": 14,
     "metadata": {},
     "output_type": "execute_result"
    }
   ],
   "source": [
    "training_size , test_size"
   ]
  },
  {
   "cell_type": "markdown",
   "metadata": {},
   "source": [
    "#### Creating a data structure with 120 timestamps and 1 output"
   ]
  },
  {
   "cell_type": "code",
   "execution_count": 15,
   "metadata": {},
   "outputs": [],
   "source": [
    "x_train = []\n",
    "y_train = []\n",
    "\n",
    "for i in range(120 , 1008) :\n",
    "    x_train.append(train_data[i - 120 : i , 0])\n",
    "    y_train.append(train_data[i , 0])\n",
    "    \n",
    "x_train , y_train = np.array(x_train) , np.array(y_train)"
   ]
  },
  {
   "cell_type": "markdown",
   "metadata": {},
   "source": [
    "#### Reshaping "
   ]
  },
  {
   "cell_type": "code",
   "execution_count": 16,
   "metadata": {},
   "outputs": [],
   "source": [
    "x_train = np.reshape(x_train , (x_train.shape[0] , x_train.shape[1] , 1))"
   ]
  },
  {
   "cell_type": "code",
   "execution_count": 17,
   "metadata": {},
   "outputs": [
    {
     "data": {
      "text/plain": [
       "((888, 120, 1), (888,))"
      ]
     },
     "execution_count": 17,
     "metadata": {},
     "output_type": "execute_result"
    }
   ],
   "source": [
    "x_train.shape , y_train.shape"
   ]
  },
  {
   "cell_type": "markdown",
   "metadata": {},
   "source": [
    "## <b><u><i> Building the RNN"
   ]
  },
  {
   "cell_type": "markdown",
   "metadata": {},
   "source": [
    "### Importing keras libraries and packages"
   ]
  },
  {
   "cell_type": "code",
   "execution_count": 18,
   "metadata": {},
   "outputs": [],
   "source": [
    "from keras.models import Sequential\n",
    "from keras.layers import Dense\n",
    "from keras.layers import Bidirectional\n",
    "from keras.layers import LSTM\n",
    "from keras.layers import Dropout"
   ]
  },
  {
   "cell_type": "markdown",
   "metadata": {},
   "source": [
    "#### Initializing the RNN"
   ]
  },
  {
   "cell_type": "code",
   "execution_count": 19,
   "metadata": {},
   "outputs": [],
   "source": [
    "regressor = Sequential()"
   ]
  },
  {
   "cell_type": "markdown",
   "metadata": {},
   "source": [
    "#### Adding the first LSTM layer and some Dropout Regularisation "
   ]
  },
  {
   "cell_type": "code",
   "execution_count": 20,
   "metadata": {},
   "outputs": [],
   "source": [
    "regressor.add(Bidirectional(LSTM(units = 80 , return_sequences= True , input_shape = (x_train.shape[1] , 1))))\n",
    "regressor.add(Dropout(0.2))"
   ]
  },
  {
   "cell_type": "markdown",
   "metadata": {},
   "source": [
    "#### Adding a Second layer and some Droput Regularisation"
   ]
  },
  {
   "cell_type": "code",
   "execution_count": 21,
   "metadata": {},
   "outputs": [],
   "source": [
    "regressor.add(Bidirectional(LSTM(units = 80 , return_sequences= True)))\n",
    "regressor.add(Dropout(0.2))"
   ]
  },
  {
   "cell_type": "markdown",
   "metadata": {},
   "source": [
    "#### Adding a Third layer and some Dropout Regularisation"
   ]
  },
  {
   "cell_type": "code",
   "execution_count": 22,
   "metadata": {},
   "outputs": [],
   "source": [
    "regressor.add(Bidirectional(LSTM(units = 80 , return_sequences= True)))\n",
    "regressor.add(Dropout(0.2))"
   ]
  },
  {
   "cell_type": "markdown",
   "metadata": {},
   "source": [
    "#### Adding a Fourth layer and some Dropout Regularisation"
   ]
  },
  {
   "cell_type": "code",
   "execution_count": 23,
   "metadata": {},
   "outputs": [],
   "source": [
    "regressor.add(Bidirectional(LSTM(units = 80)))\n",
    "regressor.add(Dropout(0.2))"
   ]
  },
  {
   "cell_type": "markdown",
   "metadata": {},
   "source": [
    "#### Adding the output layer"
   ]
  },
  {
   "cell_type": "code",
   "execution_count": 24,
   "metadata": {},
   "outputs": [],
   "source": [
    "regressor.add(Dense(units = 1))"
   ]
  },
  {
   "cell_type": "markdown",
   "metadata": {},
   "source": [
    "#### Compiling the RNN"
   ]
  },
  {
   "cell_type": "code",
   "execution_count": 25,
   "metadata": {},
   "outputs": [],
   "source": [
    "regressor.compile(optimizer= 'adam' , loss = 'mean_squared_error')"
   ]
  },
  {
   "cell_type": "markdown",
   "metadata": {},
   "source": [
    "#### Summary of the model"
   ]
  },
  {
   "cell_type": "code",
   "execution_count": 43,
   "metadata": {},
   "outputs": [
    {
     "name": "stdout",
     "output_type": "stream",
     "text": [
      "Model: \"sequential\"\n",
      "_________________________________________________________________\n",
      " Layer (type)                Output Shape              Param #   \n",
      "=================================================================\n",
      " bidirectional (Bidirectiona  (None, 120, 160)         52480     \n",
      " l)                                                              \n",
      "                                                                 \n",
      " dropout (Dropout)           (None, 120, 160)          0         \n",
      "                                                                 \n",
      " bidirectional_1 (Bidirectio  (None, 120, 160)         154240    \n",
      " nal)                                                            \n",
      "                                                                 \n",
      " dropout_1 (Dropout)         (None, 120, 160)          0         \n",
      "                                                                 \n",
      " bidirectional_2 (Bidirectio  (None, 120, 160)         154240    \n",
      " nal)                                                            \n",
      "                                                                 \n",
      " dropout_2 (Dropout)         (None, 120, 160)          0         \n",
      "                                                                 \n",
      " bidirectional_3 (Bidirectio  (None, 160)              154240    \n",
      " nal)                                                            \n",
      "                                                                 \n",
      " dropout_3 (Dropout)         (None, 160)               0         \n",
      "                                                                 \n",
      " dense (Dense)               (None, 1)                 161       \n",
      "                                                                 \n",
      "=================================================================\n",
      "Total params: 515,361\n",
      "Trainable params: 515,361\n",
      "Non-trainable params: 0\n",
      "_________________________________________________________________\n"
     ]
    }
   ],
   "source": [
    "regressor.summary()"
   ]
  },
  {
   "cell_type": "markdown",
   "metadata": {},
   "source": [
    "#### Fitting the RNN to the Training set"
   ]
  },
  {
   "cell_type": "code",
   "execution_count": 27,
   "metadata": {},
   "outputs": [
    {
     "name": "stdout",
     "output_type": "stream",
     "text": [
      "Epoch 1/100\n",
      "28/28 [==============================] - 44s 607ms/step - loss: 0.0091\n",
      "Epoch 2/100\n",
      "28/28 [==============================] - 18s 629ms/step - loss: 0.0015\n",
      "Epoch 3/100\n",
      "28/28 [==============================] - 19s 695ms/step - loss: 8.6940e-04\n",
      "Epoch 4/100\n",
      "28/28 [==============================] - 19s 674ms/step - loss: 9.3779e-04\n",
      "Epoch 5/100\n",
      "28/28 [==============================] - 19s 690ms/step - loss: 8.7713e-04\n",
      "Epoch 6/100\n",
      "28/28 [==============================] - 20s 699ms/step - loss: 8.7003e-04\n",
      "Epoch 7/100\n",
      "28/28 [==============================] - 19s 691ms/step - loss: 7.5259e-04\n",
      "Epoch 8/100\n",
      "28/28 [==============================] - 19s 681ms/step - loss: 0.0010\n",
      "Epoch 9/100\n",
      "28/28 [==============================] - 19s 697ms/step - loss: 8.0017e-04\n",
      "Epoch 10/100\n",
      "28/28 [==============================] - 20s 695ms/step - loss: 0.0010\n",
      "Epoch 11/100\n",
      "28/28 [==============================] - 19s 689ms/step - loss: 7.5543e-04\n",
      "Epoch 12/100\n",
      "28/28 [==============================] - 20s 710ms/step - loss: 7.0711e-04\n",
      "Epoch 13/100\n",
      "28/28 [==============================] - 19s 696ms/step - loss: 7.5144e-04\n",
      "Epoch 14/100\n",
      "28/28 [==============================] - 20s 697ms/step - loss: 7.7753e-04\n",
      "Epoch 15/100\n",
      "28/28 [==============================] - 20s 721ms/step - loss: 9.0924e-04\n",
      "Epoch 16/100\n",
      "28/28 [==============================] - 20s 714ms/step - loss: 6.2237e-04\n",
      "Epoch 17/100\n",
      "28/28 [==============================] - 20s 715ms/step - loss: 6.4285e-04\n",
      "Epoch 18/100\n",
      "28/28 [==============================] - 20s 720ms/step - loss: 7.2573e-04\n",
      "Epoch 19/100\n",
      "28/28 [==============================] - 20s 699ms/step - loss: 5.7628e-04\n",
      "Epoch 20/100\n",
      "28/28 [==============================] - 19s 691ms/step - loss: 5.4310e-04\n",
      "Epoch 21/100\n",
      "28/28 [==============================] - 19s 682ms/step - loss: 6.0836e-04\n",
      "Epoch 22/100\n",
      "28/28 [==============================] - 20s 717ms/step - loss: 9.4613e-04\n",
      "Epoch 23/100\n",
      "28/28 [==============================] - 20s 712ms/step - loss: 6.8609e-04\n",
      "Epoch 24/100\n",
      "28/28 [==============================] - 19s 687ms/step - loss: 6.1276e-04\n",
      "Epoch 25/100\n",
      "28/28 [==============================] - 19s 692ms/step - loss: 4.5610e-04\n",
      "Epoch 26/100\n",
      "28/28 [==============================] - 20s 708ms/step - loss: 5.1458e-04\n",
      "Epoch 27/100\n",
      "28/28 [==============================] - 17s 593ms/step - loss: 5.0260e-04\n",
      "Epoch 28/100\n",
      "28/28 [==============================] - 17s 598ms/step - loss: 7.0267e-04\n",
      "Epoch 29/100\n",
      "28/28 [==============================] - 20s 705ms/step - loss: 9.9762e-04\n",
      "Epoch 30/100\n",
      "28/28 [==============================] - 19s 690ms/step - loss: 7.9582e-04\n",
      "Epoch 31/100\n",
      "28/28 [==============================] - 19s 679ms/step - loss: 5.1497e-04\n",
      "Epoch 32/100\n",
      "28/28 [==============================] - 19s 679ms/step - loss: 5.7480e-04\n",
      "Epoch 33/100\n",
      "28/28 [==============================] - 20s 711ms/step - loss: 5.6911e-04\n",
      "Epoch 34/100\n",
      "28/28 [==============================] - 19s 694ms/step - loss: 5.1430e-04\n",
      "Epoch 35/100\n",
      "28/28 [==============================] - 20s 695ms/step - loss: 5.9966e-04\n",
      "Epoch 36/100\n",
      "28/28 [==============================] - 19s 685ms/step - loss: 5.6703e-04\n",
      "Epoch 37/100\n",
      "28/28 [==============================] - 20s 702ms/step - loss: 5.1856e-04\n",
      "Epoch 38/100\n",
      "28/28 [==============================] - 20s 709ms/step - loss: 4.5632e-04\n",
      "Epoch 39/100\n",
      "28/28 [==============================] - 19s 686ms/step - loss: 4.9028e-04\n",
      "Epoch 40/100\n",
      "28/28 [==============================] - 20s 718ms/step - loss: 4.3426e-04\n",
      "Epoch 41/100\n",
      "28/28 [==============================] - 22s 797ms/step - loss: 4.4548e-04\n",
      "Epoch 42/100\n",
      "28/28 [==============================] - 23s 811ms/step - loss: 4.7501e-04\n",
      "Epoch 43/100\n",
      "28/28 [==============================] - 20s 710ms/step - loss: 5.0315e-04\n",
      "Epoch 44/100\n",
      "28/28 [==============================] - 20s 699ms/step - loss: 4.7788e-04\n",
      "Epoch 45/100\n",
      "28/28 [==============================] - 20s 710ms/step - loss: 4.3461e-04\n",
      "Epoch 46/100\n",
      "28/28 [==============================] - 20s 710ms/step - loss: 4.4170e-04\n",
      "Epoch 47/100\n",
      "28/28 [==============================] - 20s 708ms/step - loss: 4.8244e-04\n",
      "Epoch 48/100\n",
      "28/28 [==============================] - 19s 686ms/step - loss: 4.6651e-04\n",
      "Epoch 49/100\n",
      "28/28 [==============================] - 19s 692ms/step - loss: 4.3858e-04\n",
      "Epoch 50/100\n",
      "28/28 [==============================] - 20s 709ms/step - loss: 4.1768e-04\n",
      "Epoch 51/100\n",
      "28/28 [==============================] - 19s 687ms/step - loss: 5.4869e-04\n",
      "Epoch 52/100\n",
      "28/28 [==============================] - 19s 694ms/step - loss: 5.3762e-04\n",
      "Epoch 53/100\n",
      "28/28 [==============================] - 19s 692ms/step - loss: 5.8245e-04\n",
      "Epoch 54/100\n",
      "28/28 [==============================] - 21s 738ms/step - loss: 4.7274e-04\n",
      "Epoch 55/100\n",
      "28/28 [==============================] - 20s 703ms/step - loss: 4.9957e-04\n",
      "Epoch 56/100\n",
      "28/28 [==============================] - 19s 682ms/step - loss: 4.1432e-04\n",
      "Epoch 57/100\n",
      "28/28 [==============================] - 20s 714ms/step - loss: 4.3108e-04\n",
      "Epoch 58/100\n",
      "28/28 [==============================] - 20s 697ms/step - loss: 4.0127e-04\n",
      "Epoch 59/100\n",
      "28/28 [==============================] - 20s 698ms/step - loss: 4.5156e-04\n",
      "Epoch 60/100\n",
      "28/28 [==============================] - 19s 694ms/step - loss: 3.0629e-04\n",
      "Epoch 61/100\n",
      "28/28 [==============================] - 20s 716ms/step - loss: 4.7753e-04\n",
      "Epoch 62/100\n",
      "28/28 [==============================] - 19s 674ms/step - loss: 4.1762e-04\n",
      "Epoch 63/100\n",
      "28/28 [==============================] - 19s 679ms/step - loss: 4.7763e-04\n",
      "Epoch 64/100\n",
      "28/28 [==============================] - 20s 702ms/step - loss: 4.2333e-04\n",
      "Epoch 65/100\n",
      "28/28 [==============================] - 19s 673ms/step - loss: 3.4464e-04\n",
      "Epoch 66/100\n",
      "28/28 [==============================] - 20s 699ms/step - loss: 4.0376e-04\n",
      "Epoch 67/100\n",
      "28/28 [==============================] - 18s 622ms/step - loss: 3.5330e-04\n",
      "Epoch 68/100\n",
      "28/28 [==============================] - 15s 541ms/step - loss: 4.0086e-04\n",
      "Epoch 69/100\n",
      "28/28 [==============================] - 15s 547ms/step - loss: 4.0749e-04\n",
      "Epoch 70/100\n",
      "28/28 [==============================] - 16s 560ms/step - loss: 4.2279e-04\n",
      "Epoch 71/100\n",
      "28/28 [==============================] - 15s 549ms/step - loss: 4.0495e-04\n",
      "Epoch 72/100\n",
      "28/28 [==============================] - 16s 568ms/step - loss: 4.1815e-04\n",
      "Epoch 73/100\n",
      "28/28 [==============================] - 15s 539ms/step - loss: 3.4399e-04\n",
      "Epoch 74/100\n",
      "28/28 [==============================] - 16s 560ms/step - loss: 3.0656e-04\n",
      "Epoch 75/100\n",
      "28/28 [==============================] - 15s 547ms/step - loss: 3.3644e-04\n",
      "Epoch 76/100\n",
      "28/28 [==============================] - 15s 550ms/step - loss: 3.6265e-04\n",
      "Epoch 77/100\n",
      "28/28 [==============================] - 16s 561ms/step - loss: 3.2921e-04\n",
      "Epoch 78/100\n",
      "28/28 [==============================] - 15s 551ms/step - loss: 3.5547e-04\n",
      "Epoch 79/100\n",
      "28/28 [==============================] - 16s 573ms/step - loss: 3.6889e-04\n",
      "Epoch 80/100\n",
      "28/28 [==============================] - 16s 579ms/step - loss: 4.2549e-04\n",
      "Epoch 81/100\n",
      "28/28 [==============================] - 16s 575ms/step - loss: 4.1239e-04\n",
      "Epoch 82/100\n",
      "28/28 [==============================] - 17s 593ms/step - loss: 3.8876e-04\n",
      "Epoch 83/100\n",
      "28/28 [==============================] - 16s 571ms/step - loss: 3.4977e-04\n",
      "Epoch 84/100\n",
      "28/28 [==============================] - 16s 578ms/step - loss: 4.5684e-04\n",
      "Epoch 85/100\n",
      "28/28 [==============================] - 16s 563ms/step - loss: 3.9519e-04\n",
      "Epoch 86/100\n",
      "28/28 [==============================] - 16s 575ms/step - loss: 3.5321e-04\n",
      "Epoch 87/100\n",
      "28/28 [==============================] - 16s 562ms/step - loss: 4.7167e-04\n",
      "Epoch 88/100\n",
      "28/28 [==============================] - 16s 558ms/step - loss: 3.9082e-04\n",
      "Epoch 89/100\n",
      "28/28 [==============================] - 15s 546ms/step - loss: 4.6966e-04\n",
      "Epoch 90/100\n",
      "28/28 [==============================] - 16s 560ms/step - loss: 4.0444e-04\n",
      "Epoch 91/100\n",
      "28/28 [==============================] - 16s 564ms/step - loss: 4.0962e-04\n",
      "Epoch 92/100\n",
      "28/28 [==============================] - 15s 552ms/step - loss: 3.8635e-04\n",
      "Epoch 93/100\n",
      "28/28 [==============================] - 16s 559ms/step - loss: 3.6338e-04\n",
      "Epoch 94/100\n",
      "28/28 [==============================] - 15s 543ms/step - loss: 4.3564e-04\n",
      "Epoch 95/100\n",
      "28/28 [==============================] - 15s 549ms/step - loss: 3.5095e-04\n",
      "Epoch 96/100\n",
      "28/28 [==============================] - 19s 673ms/step - loss: 3.3557e-04\n",
      "Epoch 97/100\n",
      "28/28 [==============================] - 17s 621ms/step - loss: 4.1501e-04\n",
      "Epoch 98/100\n",
      "28/28 [==============================] - 18s 634ms/step - loss: 3.5657e-04\n",
      "Epoch 99/100\n",
      "28/28 [==============================] - 15s 542ms/step - loss: 3.5191e-04\n",
      "Epoch 100/100\n",
      "28/28 [==============================] - 17s 603ms/step - loss: 4.4297e-04\n"
     ]
    },
    {
     "data": {
      "text/plain": [
       "<keras.callbacks.History at 0x1b1f5b1c880>"
      ]
     },
     "execution_count": 27,
     "metadata": {},
     "output_type": "execute_result"
    }
   ],
   "source": [
    "regressor.fit(x_train , y_train, epochs = 100 , batch_size = 32 , verbose = 1)"
   ]
  },
  {
   "cell_type": "markdown",
   "metadata": {},
   "source": [
    "## <b><u><i> Making the prediction and visualising the results"
   ]
  },
  {
   "cell_type": "markdown",
   "metadata": {},
   "source": [
    "#### Getting the real stock price"
   ]
  },
  {
   "cell_type": "code",
   "execution_count": 28,
   "metadata": {},
   "outputs": [],
   "source": [
    "Unscaled_data = ticker_Df.reset_index()['Close']\n",
    "Unscaled_data = np.array(Unscaled_data).reshape(-1 , 1)\n",
    "\n",
    "Unscaled_train_data , Unscaled_test_data = Unscaled_data[0 : training_size, : ], Unscaled_data[training_size : len(Unscaled_data) , : 1]"
   ]
  },
  {
   "cell_type": "markdown",
   "metadata": {},
   "source": [
    "#### Getting the predicted Stock Price"
   ]
  },
  {
   "cell_type": "code",
   "execution_count": 29,
   "metadata": {},
   "outputs": [],
   "source": [
    "Total_data = ticker_Df.reset_index()['Close']\n",
    "input = Total_data[len(Total_data) - len(test_data) - 120 :].values\n",
    "input = input.reshape(-1,1)\n",
    "input = SC.transform(input)\n",
    "\n",
    "x_test = []\n",
    "for i in range(120 , 373) :\n",
    "    x_test.append(input[i - 120 : i , 0])\n",
    "\n",
    "x_test = np.array(x_test)\n",
    "\n",
    "\n",
    "x_test = np.reshape(x_test , (x_test.shape[0] , x_test.shape[1] , 1))"
   ]
  },
  {
   "cell_type": "markdown",
   "metadata": {},
   "source": [
    "#### Predicted Stock Price"
   ]
  },
  {
   "cell_type": "code",
   "execution_count": 30,
   "metadata": {},
   "outputs": [],
   "source": [
    "predicted_stock_price = regressor.predict(x_test)\n",
    "predicted_stock_price = SC.inverse_transform(predicted_stock_price)"
   ]
  },
  {
   "cell_type": "markdown",
   "metadata": {},
   "source": [
    "## <b><u><i> Visualising "
   ]
  },
  {
   "cell_type": "code",
   "execution_count": 31,
   "metadata": {},
   "outputs": [
    {
     "data": {
      "text/plain": [
       "1008"
      ]
     },
     "execution_count": 31,
     "metadata": {},
     "output_type": "execute_result"
    }
   ],
   "source": [
    "len(Total_data) - len(test_data)"
   ]
  },
  {
   "cell_type": "code",
   "execution_count": 32,
   "metadata": {},
   "outputs": [
    {
     "data": {
      "image/png": "[encoded data removed]",
      "text/plain": [
       "<Figure size 432x288 with 1 Axes>"
      ]
     },
     "metadata": {
      "needs_background": "light"
     },
     "output_type": "display_data"
    }
   ],
   "source": [
    "plt.plot(Total_data[len(Total_data) - len(test_data):].values, color = 'red', label = 'Real Stock Price')\n",
    "plt.plot(predicted_stock_price , color = 'blue', label = 'Predicted Stock Price')\n",
    "plt.xlabel('Time')\n",
    "plt.ylabel(\"Stock Price\")\n",
    "plt.title('Stock Price Prediction')\n",
    "plt.show()"
   ]
  },
  {
   "cell_type": "markdown",
   "metadata": {},
   "source": [
    "* <b><u><i><span style = \"color:red\"> <span style = \"font-family: Times New Roman\"> <font size = 50 > Red represents original stock graph <span> </font>\n",
    "\n",
    "* <b><u><i><span style = \"color:blue\"> <span style = \"font-family: Times New Roman\"> <font size = 50 > Blue represents predicted stock graph <span> </font>"
   ]
  },
  {
   "cell_type": "markdown",
   "metadata": {},
   "source": [
    "## <b><u><i> Plotting "
   ]
  },
  {
   "cell_type": "code",
   "execution_count": 33,
   "metadata": {},
   "outputs": [
    {
     "data": {
      "text/plain": [
       "(252, 1)"
      ]
     },
     "execution_count": 33,
     "metadata": {},
     "output_type": "execute_result"
    }
   ],
   "source": [
    "test_data.shape"
   ]
  },
  {
   "cell_type": "code",
   "execution_count": 34,
   "metadata": {},
   "outputs": [
    {
     "data": {
      "text/plain": [
       "(1, 120)"
      ]
     },
     "execution_count": 34,
     "metadata": {},
     "output_type": "execute_result"
    }
   ],
   "source": [
    "x_input = test_data[132:].reshape(1,-1)\n",
    "x_input.shape"
   ]
  },
  {
   "cell_type": "code",
   "execution_count": 35,
   "metadata": {},
   "outputs": [],
   "source": [
    "temp_input=list(x_input)\n",
    "temp_input=temp_input[0].tolist()"
   ]
  },
  {
   "cell_type": "markdown",
   "metadata": {},
   "source": [
    "## <b><u><i> Prediction for next 30 days"
   ]
  },
  {
   "cell_type": "code",
   "execution_count": 36,
   "metadata": {},
   "outputs": [
    {
     "name": "stdout",
     "output_type": "stream",
     "text": [
      "[0.85300624]\n",
      "121\n",
      "1 day input [0.7630391  0.7827557  0.78412225 0.79726655 0.79121499 0.76629263\n",
      " 0.76850508 0.77820075 0.78809162 0.78750584 0.77930687 0.77397106\n",
      " 0.78086871 0.81028079 0.80188663 0.80631142 0.81372952 0.81795922\n",
      " 0.83351125 0.82323    0.81646261 0.78327625 0.78705043 0.77774514\n",
      " 0.78366663 0.7821049  0.76434051 0.74403833 0.74722674 0.76297407\n",
      " 0.76935108 0.76993665 0.75985059 0.73733597 0.74332259 0.73466811\n",
      " 0.74215124 0.71931126 0.73213031 0.73792164 0.74631581 0.74377801\n",
      " 0.74319243 0.73473314 0.7308289  0.74937415 0.75640187 0.76752902\n",
      " 0.7819097  0.78516334 0.78659481 0.78145429 0.78112893 0.78555382\n",
      " 0.78249548 0.8067019  0.7886772  0.78321122 0.79010877 0.79967429\n",
      " 0.79622546 0.79974439 0.79427045 0.79668157 0.77784855 0.7775227\n",
      " 0.791338   0.79140313 0.79791974 0.81414616 0.84268887 0.86015346\n",
      " 0.86321627 0.86575775 0.86921155 0.83578127 0.85813332 0.89110739\n",
      " 0.88765359 0.88107174 0.86855985 0.89123775 0.92942503 0.95483989\n",
      " 0.95145122 0.98331748 0.95914088 0.94995243 0.98234002 0.93646298\n",
      " 0.92916441 0.92010631 0.94122019 0.95848918 0.96265981 0.98905213\n",
      " 0.98227479 0.98286136 0.97517171 0.9710663  1.         0.98494663\n",
      " 0.95379721 0.9347687  0.93587651 0.93600687 0.95483989 0.95777235\n",
      " 0.93600687 0.94174153 0.92043216 0.89716779 0.8859592  0.87227437\n",
      " 0.86712618 0.85513563 0.85454916 0.85148634 0.92388596 0.85300624]\n",
      "1 day output [[0.8494401]]\n",
      "2 day input [0.7827557  0.78412225 0.79726655 0.79121499 0.76629263 0.76850508\n",
      " 0.77820075 0.78809162 0.78750584 0.77930687 0.77397106 0.78086871\n",
      " 0.81028079 0.80188663 0.80631142 0.81372952 0.81795922 0.83351125\n",
      " 0.82323    0.81646261 0.78327625 0.78705043 0.77774514 0.78366663\n",
      " 0.7821049  0.76434051 0.74403833 0.74722674 0.76297407 0.76935108\n",
      " 0.76993665 0.75985059 0.73733597 0.74332259 0.73466811 0.74215124\n",
      " 0.71931126 0.73213031 0.73792164 0.74631581 0.74377801 0.74319243\n",
      " 0.73473314 0.7308289  0.74937415 0.75640187 0.76752902 0.7819097\n",
      " 0.78516334 0.78659481 0.78145429 0.78112893 0.78555382 0.78249548\n",
      " 0.8067019  0.7886772  0.78321122 0.79010877 0.79967429 0.79622546\n",
      " 0.79974439 0.79427045 0.79668157 0.77784855 0.7775227  0.791338\n",
      " 0.79140313 0.79791974 0.81414616 0.84268887 0.86015346 0.86321627\n",
      " 0.86575775 0.86921155 0.83578127 0.85813332 0.89110739 0.88765359\n",
      " 0.88107174 0.86855985 0.89123775 0.92942503 0.95483989 0.95145122\n",
      " 0.98331748 0.95914088 0.94995243 0.98234002 0.93646298 0.92916441\n",
      " 0.92010631 0.94122019 0.95848918 0.96265981 0.98905213 0.98227479\n",
      " 0.98286136 0.97517171 0.9710663  1.         0.98494663 0.95379721\n",
      " 0.9347687  0.93587651 0.93600687 0.95483989 0.95777235 0.93600687\n",
      " 0.94174153 0.92043216 0.89716779 0.8859592  0.87227437 0.86712618\n",
      " 0.85513563 0.85454916 0.85148634 0.92388596 0.85300624 0.8494401 ]\n",
      "2 day output [[0.8418105]]\n",
      "3 day input [0.78412225 0.79726655 0.79121499 0.76629263 0.76850508 0.77820075\n",
      " 0.78809162 0.78750584 0.77930687 0.77397106 0.78086871 0.81028079\n",
      " 0.80188663 0.80631142 0.81372952 0.81795922 0.83351125 0.82323\n",
      " 0.81646261 0.78327625 0.78705043 0.77774514 0.78366663 0.7821049\n",
      " 0.76434051 0.74403833 0.74722674 0.76297407 0.76935108 0.76993665\n",
      " 0.75985059 0.73733597 0.74332259 0.73466811 0.74215124 0.71931126\n",
      " 0.73213031 0.73792164 0.74631581 0.74377801 0.74319243 0.73473314\n",
      " 0.7308289  0.74937415 0.75640187 0.76752902 0.7819097  0.78516334\n",
      " 0.78659481 0.78145429 0.78112893 0.78555382 0.78249548 0.8067019\n",
      " 0.7886772  0.78321122 0.79010877 0.79967429 0.79622546 0.79974439\n",
      " 0.79427045 0.79668157 0.77784855 0.7775227  0.791338   0.79140313\n",
      " 0.79791974 0.81414616 0.84268887 0.86015346 0.86321627 0.86575775\n",
      " 0.86921155 0.83578127 0.85813332 0.89110739 0.88765359 0.88107174\n",
      " 0.86855985 0.89123775 0.92942503 0.95483989 0.95145122 0.98331748\n",
      " 0.95914088 0.94995243 0.98234002 0.93646298 0.92916441 0.92010631\n",
      " 0.94122019 0.95848918 0.96265981 0.98905213 0.98227479 0.98286136\n",
      " 0.97517171 0.9710663  1.         0.98494663 0.95379721 0.9347687\n",
      " 0.93587651 0.93600687 0.95483989 0.95777235 0.93600687 0.94174153\n",
      " 0.92043216 0.89716779 0.8859592  0.87227437 0.86712618 0.85513563\n",
      " 0.85454916 0.85148634 0.92388596 0.85300624 0.8494401  0.84181052]\n",
      "3 day output [[0.8315128]]\n",
      "4 day input [0.79726655 0.79121499 0.76629263 0.76850508 0.77820075 0.78809162\n",
      " 0.78750584 0.77930687 0.77397106 0.78086871 0.81028079 0.80188663\n",
      " 0.80631142 0.81372952 0.81795922 0.83351125 0.82323    0.81646261\n",
      " 0.78327625 0.78705043 0.77774514 0.78366663 0.7821049  0.76434051\n",
      " 0.74403833 0.74722674 0.76297407 0.76935108 0.76993665 0.75985059\n",
      " 0.73733597 0.74332259 0.73466811 0.74215124 0.71931126 0.73213031\n",
      " 0.73792164 0.74631581 0.74377801 0.74319243 0.73473314 0.7308289\n",
      " 0.74937415 0.75640187 0.76752902 0.7819097  0.78516334 0.78659481\n",
      " 0.78145429 0.78112893 0.78555382 0.78249548 0.8067019  0.7886772\n",
      " 0.78321122 0.79010877 0.79967429 0.79622546 0.79974439 0.79427045\n",
      " 0.79668157 0.77784855 0.7775227  0.791338   0.79140313 0.79791974\n",
      " 0.81414616 0.84268887 0.86015346 0.86321627 0.86575775 0.86921155\n",
      " 0.83578127 0.85813332 0.89110739 0.88765359 0.88107174 0.86855985\n",
      " 0.89123775 0.92942503 0.95483989 0.95145122 0.98331748 0.95914088\n",
      " 0.94995243 0.98234002 0.93646298 0.92916441 0.92010631 0.94122019\n",
      " 0.95848918 0.96265981 0.98905213 0.98227479 0.98286136 0.97517171\n",
      " 0.9710663  1.         0.98494663 0.95379721 0.9347687  0.93587651\n",
      " 0.93600687 0.95483989 0.95777235 0.93600687 0.94174153 0.92043216\n",
      " 0.89716779 0.8859592  0.87227437 0.86712618 0.85513563 0.85454916\n",
      " 0.85148634 0.92388596 0.85300624 0.8494401  0.84181052 0.83151281]\n",
      "4 day output [[0.82034695]]\n",
      "5 day input [0.79121499 0.76629263 0.76850508 0.77820075 0.78809162 0.78750584\n",
      " 0.77930687 0.77397106 0.78086871 0.81028079 0.80188663 0.80631142\n",
      " 0.81372952 0.81795922 0.83351125 0.82323    0.81646261 0.78327625\n",
      " 0.78705043 0.77774514 0.78366663 0.7821049  0.76434051 0.74403833\n",
      " 0.74722674 0.76297407 0.76935108 0.76993665 0.75985059 0.73733597\n",
      " 0.74332259 0.73466811 0.74215124 0.71931126 0.73213031 0.73792164\n",
      " 0.74631581 0.74377801 0.74319243 0.73473314 0.7308289  0.74937415\n",
      " 0.75640187 0.76752902 0.7819097  0.78516334 0.78659481 0.78145429\n",
      " 0.78112893 0.78555382 0.78249548 0.8067019  0.7886772  0.78321122\n",
      " 0.79010877 0.79967429 0.79622546 0.79974439 0.79427045 0.79668157\n",
      " 0.77784855 0.7775227  0.791338   0.79140313 0.79791974 0.81414616\n",
      " 0.84268887 0.86015346 0.86321627 0.86575775 0.86921155 0.83578127\n",
      " 0.85813332 0.89110739 0.88765359 0.88107174 0.86855985 0.89123775\n",
      " 0.92942503 0.95483989 0.95145122 0.98331748 0.95914088 0.94995243\n",
      " 0.98234002 0.93646298 0.92916441 0.92010631 0.94122019 0.95848918\n",
      " 0.96265981 0.98905213 0.98227479 0.98286136 0.97517171 0.9710663\n",
      " 1.         0.98494663 0.95379721 0.9347687  0.93587651 0.93600687\n",
      " 0.95483989 0.95777235 0.93600687 0.94174153 0.92043216 0.89716779\n",
      " 0.8859592  0.87227437 0.86712618 0.85513563 0.85454916 0.85148634\n",
      " 0.92388596 0.85300624 0.8494401  0.84181052 0.83151281 0.82034695]\n",
      "5 day output [[0.809376]]\n",
      "6 day input [0.76629263 0.76850508 0.77820075 0.78809162 0.78750584 0.77930687\n",
      " 0.77397106 0.78086871 0.81028079 0.80188663 0.80631142 0.81372952\n",
      " 0.81795922 0.83351125 0.82323    0.81646261 0.78327625 0.78705043\n",
      " 0.77774514 0.78366663 0.7821049  0.76434051 0.74403833 0.74722674\n",
      " 0.76297407 0.76935108 0.76993665 0.75985059 0.73733597 0.74332259\n",
      " 0.73466811 0.74215124 0.71931126 0.73213031 0.73792164 0.74631581\n",
      " 0.74377801 0.74319243 0.73473314 0.7308289  0.74937415 0.75640187\n",
      " 0.76752902 0.7819097  0.78516334 0.78659481 0.78145429 0.78112893\n",
      " 0.78555382 0.78249548 0.8067019  0.7886772  0.78321122 0.79010877\n",
      " 0.79967429 0.79622546 0.79974439 0.79427045 0.79668157 0.77784855\n",
      " 0.7775227  0.791338   0.79140313 0.79791974 0.81414616 0.84268887\n",
      " 0.86015346 0.86321627 0.86575775 0.86921155 0.83578127 0.85813332\n",
      " 0.89110739 0.88765359 0.88107174 0.86855985 0.89123775 0.92942503\n",
      " 0.95483989 0.95145122 0.98331748 0.95914088 0.94995243 0.98234002\n",
      " 0.93646298 0.92916441 0.92010631 0.94122019 0.95848918 0.96265981\n",
      " 0.98905213 0.98227479 0.98286136 0.97517171 0.9710663  1.\n",
      " 0.98494663 0.95379721 0.9347687  0.93587651 0.93600687 0.95483989\n",
      " 0.95777235 0.93600687 0.94174153 0.92043216 0.89716779 0.8859592\n",
      " 0.87227437 0.86712618 0.85513563 0.85454916 0.85148634 0.92388596\n",
      " 0.85300624 0.8494401  0.84181052 0.83151281 0.82034695 0.809376  ]\n",
      "6 day output [[0.7998581]]\n",
      "7 day input [0.76850508 0.77820075 0.78809162 0.78750584 0.77930687 0.77397106\n",
      " 0.78086871 0.81028079 0.80188663 0.80631142 0.81372952 0.81795922\n",
      " 0.83351125 0.82323    0.81646261 0.78327625 0.78705043 0.77774514\n",
      " 0.78366663 0.7821049  0.76434051 0.74403833 0.74722674 0.76297407\n",
      " 0.76935108 0.76993665 0.75985059 0.73733597 0.74332259 0.73466811\n",
      " 0.74215124 0.71931126 0.73213031 0.73792164 0.74631581 0.74377801\n",
      " 0.74319243 0.73473314 0.7308289  0.74937415 0.75640187 0.76752902\n",
      " 0.7819097  0.78516334 0.78659481 0.78145429 0.78112893 0.78555382\n",
      " 0.78249548 0.8067019  0.7886772  0.78321122 0.79010877 0.79967429\n",
      " 0.79622546 0.79974439 0.79427045 0.79668157 0.77784855 0.7775227\n",
      " 0.791338   0.79140313 0.79791974 0.81414616 0.84268887 0.86015346\n",
      " 0.86321627 0.86575775 0.86921155 0.83578127 0.85813332 0.89110739\n",
      " 0.88765359 0.88107174 0.86855985 0.89123775 0.92942503 0.95483989\n",
      " 0.95145122 0.98331748 0.95914088 0.94995243 0.98234002 0.93646298\n",
      " 0.92916441 0.92010631 0.94122019 0.95848918 0.96265981 0.98905213\n",
      " 0.98227479 0.98286136 0.97517171 0.9710663  1.         0.98494663\n",
      " 0.95379721 0.9347687  0.93587651 0.93600687 0.95483989 0.95777235\n",
      " 0.93600687 0.94174153 0.92043216 0.89716779 0.8859592  0.87227437\n",
      " 0.86712618 0.85513563 0.85454916 0.85148634 0.92388596 0.85300624\n",
      " 0.8494401  0.84181052 0.83151281 0.82034695 0.809376   0.79985809]\n",
      "7 day output [[0.79232454]]\n",
      "8 day input [0.77820075 0.78809162 0.78750584 0.77930687 0.77397106 0.78086871\n",
      " 0.81028079 0.80188663 0.80631142 0.81372952 0.81795922 0.83351125\n",
      " 0.82323    0.81646261 0.78327625 0.78705043 0.77774514 0.78366663\n",
      " 0.7821049  0.76434051 0.74403833 0.74722674 0.76297407 0.76935108\n",
      " 0.76993665 0.75985059 0.73733597 0.74332259 0.73466811 0.74215124\n",
      " 0.71931126 0.73213031 0.73792164 0.74631581 0.74377801 0.74319243\n",
      " 0.73473314 0.7308289  0.74937415 0.75640187 0.76752902 0.7819097\n",
      " 0.78516334 0.78659481 0.78145429 0.78112893 0.78555382 0.78249548\n",
      " 0.8067019  0.7886772  0.78321122 0.79010877 0.79967429 0.79622546\n",
      " 0.79974439 0.79427045 0.79668157 0.77784855 0.7775227  0.791338\n",
      " 0.79140313 0.79791974 0.81414616 0.84268887 0.86015346 0.86321627\n",
      " 0.86575775 0.86921155 0.83578127 0.85813332 0.89110739 0.88765359\n",
      " 0.88107174 0.86855985 0.89123775 0.92942503 0.95483989 0.95145122\n",
      " 0.98331748 0.95914088 0.94995243 0.98234002 0.93646298 0.92916441\n",
      " 0.92010631 0.94122019 0.95848918 0.96265981 0.98905213 0.98227479\n",
      " 0.98286136 0.97517171 0.9710663  1.         0.98494663 0.95379721\n",
      " 0.9347687  0.93587651 0.93600687 0.95483989 0.95777235 0.93600687\n",
      " 0.94174153 0.92043216 0.89716779 0.8859592  0.87227437 0.86712618\n",
      " 0.85513563 0.85454916 0.85148634 0.92388596 0.85300624 0.8494401\n",
      " 0.84181052 0.83151281 0.82034695 0.809376   0.79985809 0.79232454]\n",
      "8 day output [[0.78658926]]\n",
      "9 day input [0.78809162 0.78750584 0.77930687 0.77397106 0.78086871 0.81028079\n",
      " 0.80188663 0.80631142 0.81372952 0.81795922 0.83351125 0.82323\n",
      " 0.81646261 0.78327625 0.78705043 0.77774514 0.78366663 0.7821049\n",
      " 0.76434051 0.74403833 0.74722674 0.76297407 0.76935108 0.76993665\n",
      " 0.75985059 0.73733597 0.74332259 0.73466811 0.74215124 0.71931126\n",
      " 0.73213031 0.73792164 0.74631581 0.74377801 0.74319243 0.73473314\n",
      " 0.7308289  0.74937415 0.75640187 0.76752902 0.7819097  0.78516334\n",
      " 0.78659481 0.78145429 0.78112893 0.78555382 0.78249548 0.8067019\n",
      " 0.7886772  0.78321122 0.79010877 0.79967429 0.79622546 0.79974439\n",
      " 0.79427045 0.79668157 0.77784855 0.7775227  0.791338   0.79140313\n",
      " 0.79791974 0.81414616 0.84268887 0.86015346 0.86321627 0.86575775\n",
      " 0.86921155 0.83578127 0.85813332 0.89110739 0.88765359 0.88107174\n",
      " 0.86855985 0.89123775 0.92942503 0.95483989 0.95145122 0.98331748\n",
      " 0.95914088 0.94995243 0.98234002 0.93646298 0.92916441 0.92010631\n",
      " 0.94122019 0.95848918 0.96265981 0.98905213 0.98227479 0.98286136\n",
      " 0.97517171 0.9710663  1.         0.98494663 0.95379721 0.9347687\n",
      " 0.93587651 0.93600687 0.95483989 0.95777235 0.93600687 0.94174153\n",
      " 0.92043216 0.89716779 0.8859592  0.87227437 0.86712618 0.85513563\n",
      " 0.85454916 0.85148634 0.92388596 0.85300624 0.8494401  0.84181052\n",
      " 0.83151281 0.82034695 0.809376   0.79985809 0.79232454 0.78658926]\n",
      "9 day output [[0.78305125]]\n",
      "10 day input [0.78750584 0.77930687 0.77397106 0.78086871 0.81028079 0.80188663\n",
      " 0.80631142 0.81372952 0.81795922 0.83351125 0.82323    0.81646261\n",
      " 0.78327625 0.78705043 0.77774514 0.78366663 0.7821049  0.76434051\n",
      " 0.74403833 0.74722674 0.76297407 0.76935108 0.76993665 0.75985059\n",
      " 0.73733597 0.74332259 0.73466811 0.74215124 0.71931126 0.73213031\n",
      " 0.73792164 0.74631581 0.74377801 0.74319243 0.73473314 0.7308289\n",
      " 0.74937415 0.75640187 0.76752902 0.7819097  0.78516334 0.78659481\n",
      " 0.78145429 0.78112893 0.78555382 0.78249548 0.8067019  0.7886772\n",
      " 0.78321122 0.79010877 0.79967429 0.79622546 0.79974439 0.79427045\n",
      " 0.79668157 0.77784855 0.7775227  0.791338   0.79140313 0.79791974\n",
      " 0.81414616 0.84268887 0.86015346 0.86321627 0.86575775 0.86921155\n",
      " 0.83578127 0.85813332 0.89110739 0.88765359 0.88107174 0.86855985\n",
      " 0.89123775 0.92942503 0.95483989 0.95145122 0.98331748 0.95914088\n",
      " 0.94995243 0.98234002 0.93646298 0.92916441 0.92010631 0.94122019\n",
      " 0.95848918 0.96265981 0.98905213 0.98227479 0.98286136 0.97517171\n",
      " 0.9710663  1.         0.98494663 0.95379721 0.9347687  0.93587651\n",
      " 0.93600687 0.95483989 0.95777235 0.93600687 0.94174153 0.92043216\n",
      " 0.89716779 0.8859592  0.87227437 0.86712618 0.85513563 0.85454916\n",
      " 0.85148634 0.92388596 0.85300624 0.8494401  0.84181052 0.83151281\n",
      " 0.82034695 0.809376   0.79985809 0.79232454 0.78658926 0.78305125]\n",
      "10 day output [[0.7821866]]\n",
      "11 day input [0.77930687 0.77397106 0.78086871 0.81028079 0.80188663 0.80631142\n",
      " 0.81372952 0.81795922 0.83351125 0.82323    0.81646261 0.78327625\n",
      " 0.78705043 0.77774514 0.78366663 0.7821049  0.76434051 0.74403833\n",
      " 0.74722674 0.76297407 0.76935108 0.76993665 0.75985059 0.73733597\n",
      " 0.74332259 0.73466811 0.74215124 0.71931126 0.73213031 0.73792164\n",
      " 0.74631581 0.74377801 0.74319243 0.73473314 0.7308289  0.74937415\n",
      " 0.75640187 0.76752902 0.7819097  0.78516334 0.78659481 0.78145429\n",
      " 0.78112893 0.78555382 0.78249548 0.8067019  0.7886772  0.78321122\n",
      " 0.79010877 0.79967429 0.79622546 0.79974439 0.79427045 0.79668157\n",
      " 0.77784855 0.7775227  0.791338   0.79140313 0.79791974 0.81414616\n",
      " 0.84268887 0.86015346 0.86321627 0.86575775 0.86921155 0.83578127\n",
      " 0.85813332 0.89110739 0.88765359 0.88107174 0.86855985 0.89123775\n",
      " 0.92942503 0.95483989 0.95145122 0.98331748 0.95914088 0.94995243\n",
      " 0.98234002 0.93646298 0.92916441 0.92010631 0.94122019 0.95848918\n",
      " 0.96265981 0.98905213 0.98227479 0.98286136 0.97517171 0.9710663\n",
      " 1.         0.98494663 0.95379721 0.9347687  0.93587651 0.93600687\n",
      " 0.95483989 0.95777235 0.93600687 0.94174153 0.92043216 0.89716779\n",
      " 0.8859592  0.87227437 0.86712618 0.85513563 0.85454916 0.85148634\n",
      " 0.92388596 0.85300624 0.8494401  0.84181052 0.83151281 0.82034695\n",
      " 0.809376   0.79985809 0.79232454 0.78658926 0.78305125 0.78218663]\n",
      "11 day output [[0.7842323]]\n",
      "12 day input [0.77397106 0.78086871 0.81028079 0.80188663 0.80631142 0.81372952\n",
      " 0.81795922 0.83351125 0.82323    0.81646261 0.78327625 0.78705043\n",
      " 0.77774514 0.78366663 0.7821049  0.76434051 0.74403833 0.74722674\n",
      " 0.76297407 0.76935108 0.76993665 0.75985059 0.73733597 0.74332259\n",
      " 0.73466811 0.74215124 0.71931126 0.73213031 0.73792164 0.74631581\n",
      " 0.74377801 0.74319243 0.73473314 0.7308289  0.74937415 0.75640187\n",
      " 0.76752902 0.7819097  0.78516334 0.78659481 0.78145429 0.78112893\n",
      " 0.78555382 0.78249548 0.8067019  0.7886772  0.78321122 0.79010877\n",
      " 0.79967429 0.79622546 0.79974439 0.79427045 0.79668157 0.77784855\n",
      " 0.7775227  0.791338   0.79140313 0.79791974 0.81414616 0.84268887\n",
      " 0.86015346 0.86321627 0.86575775 0.86921155 0.83578127 0.85813332\n",
      " 0.89110739 0.88765359 0.88107174 0.86855985 0.89123775 0.92942503\n",
      " 0.95483989 0.95145122 0.98331748 0.95914088 0.94995243 0.98234002\n",
      " 0.93646298 0.92916441 0.92010631 0.94122019 0.95848918 0.96265981\n",
      " 0.98905213 0.98227479 0.98286136 0.97517171 0.9710663  1.\n",
      " 0.98494663 0.95379721 0.9347687  0.93587651 0.93600687 0.95483989\n",
      " 0.95777235 0.93600687 0.94174153 0.92043216 0.89716779 0.8859592\n",
      " 0.87227437 0.86712618 0.85513563 0.85454916 0.85148634 0.92388596\n",
      " 0.85300624 0.8494401  0.84181052 0.83151281 0.82034695 0.809376\n",
      " 0.79985809 0.79232454 0.78658926 0.78305125 0.78218663 0.78423232]\n",
      "12 day output [[0.78873545]]\n",
      "13 day input [0.78086871 0.81028079 0.80188663 0.80631142 0.81372952 0.81795922\n",
      " 0.83351125 0.82323    0.81646261 0.78327625 0.78705043 0.77774514\n",
      " 0.78366663 0.7821049  0.76434051 0.74403833 0.74722674 0.76297407\n",
      " 0.76935108 0.76993665 0.75985059 0.73733597 0.74332259 0.73466811\n",
      " 0.74215124 0.71931126 0.73213031 0.73792164 0.74631581 0.74377801\n",
      " 0.74319243 0.73473314 0.7308289  0.74937415 0.75640187 0.76752902\n",
      " 0.7819097  0.78516334 0.78659481 0.78145429 0.78112893 0.78555382\n",
      " 0.78249548 0.8067019  0.7886772  0.78321122 0.79010877 0.79967429\n",
      " 0.79622546 0.79974439 0.79427045 0.79668157 0.77784855 0.7775227\n",
      " 0.791338   0.79140313 0.79791974 0.81414616 0.84268887 0.86015346\n",
      " 0.86321627 0.86575775 0.86921155 0.83578127 0.85813332 0.89110739\n",
      " 0.88765359 0.88107174 0.86855985 0.89123775 0.92942503 0.95483989\n",
      " 0.95145122 0.98331748 0.95914088 0.94995243 0.98234002 0.93646298\n",
      " 0.92916441 0.92010631 0.94122019 0.95848918 0.96265981 0.98905213\n",
      " 0.98227479 0.98286136 0.97517171 0.9710663  1.         0.98494663\n",
      " 0.95379721 0.9347687  0.93587651 0.93600687 0.95483989 0.95777235\n",
      " 0.93600687 0.94174153 0.92043216 0.89716779 0.8859592  0.87227437\n",
      " 0.86712618 0.85513563 0.85454916 0.85148634 0.92388596 0.85300624\n",
      " 0.8494401  0.84181052 0.83151281 0.82034695 0.809376   0.79985809\n",
      " 0.79232454 0.78658926 0.78305125 0.78218663 0.78423232 0.78873545]\n",
      "13 day output [[0.794564]]\n",
      "14 day input [0.81028079 0.80188663 0.80631142 0.81372952 0.81795922 0.83351125\n",
      " 0.82323    0.81646261 0.78327625 0.78705043 0.77774514 0.78366663\n",
      " 0.7821049  0.76434051 0.74403833 0.74722674 0.76297407 0.76935108\n",
      " 0.76993665 0.75985059 0.73733597 0.74332259 0.73466811 0.74215124\n",
      " 0.71931126 0.73213031 0.73792164 0.74631581 0.74377801 0.74319243\n",
      " 0.73473314 0.7308289  0.74937415 0.75640187 0.76752902 0.7819097\n",
      " 0.78516334 0.78659481 0.78145429 0.78112893 0.78555382 0.78249548\n",
      " 0.8067019  0.7886772  0.78321122 0.79010877 0.79967429 0.79622546\n",
      " 0.79974439 0.79427045 0.79668157 0.77784855 0.7775227  0.791338\n",
      " 0.79140313 0.79791974 0.81414616 0.84268887 0.86015346 0.86321627\n",
      " 0.86575775 0.86921155 0.83578127 0.85813332 0.89110739 0.88765359\n",
      " 0.88107174 0.86855985 0.89123775 0.92942503 0.95483989 0.95145122\n",
      " 0.98331748 0.95914088 0.94995243 0.98234002 0.93646298 0.92916441\n",
      " 0.92010631 0.94122019 0.95848918 0.96265981 0.98905213 0.98227479\n",
      " 0.98286136 0.97517171 0.9710663  1.         0.98494663 0.95379721\n",
      " 0.9347687  0.93587651 0.93600687 0.95483989 0.95777235 0.93600687\n",
      " 0.94174153 0.92043216 0.89716779 0.8859592  0.87227437 0.86712618\n",
      " 0.85513563 0.85454916 0.85148634 0.92388596 0.85300624 0.8494401\n",
      " 0.84181052 0.83151281 0.82034695 0.809376   0.79985809 0.79232454\n",
      " 0.78658926 0.78305125 0.78218663 0.78423232 0.78873545 0.79456401]\n",
      "14 day output [[0.80033493]]\n",
      "15 day input [0.80188663 0.80631142 0.81372952 0.81795922 0.83351125 0.82323\n",
      " 0.81646261 0.78327625 0.78705043 0.77774514 0.78366663 0.7821049\n",
      " 0.76434051 0.74403833 0.74722674 0.76297407 0.76935108 0.76993665\n",
      " 0.75985059 0.73733597 0.74332259 0.73466811 0.74215124 0.71931126\n",
      " 0.73213031 0.73792164 0.74631581 0.74377801 0.74319243 0.73473314\n",
      " 0.7308289  0.74937415 0.75640187 0.76752902 0.7819097  0.78516334\n",
      " 0.78659481 0.78145429 0.78112893 0.78555382 0.78249548 0.8067019\n",
      " 0.7886772  0.78321122 0.79010877 0.79967429 0.79622546 0.79974439\n",
      " 0.79427045 0.79668157 0.77784855 0.7775227  0.791338   0.79140313\n",
      " 0.79791974 0.81414616 0.84268887 0.86015346 0.86321627 0.86575775\n",
      " 0.86921155 0.83578127 0.85813332 0.89110739 0.88765359 0.88107174\n",
      " 0.86855985 0.89123775 0.92942503 0.95483989 0.95145122 0.98331748\n",
      " 0.95914088 0.94995243 0.98234002 0.93646298 0.92916441 0.92010631\n",
      " 0.94122019 0.95848918 0.96265981 0.98905213 0.98227479 0.98286136\n",
      " 0.97517171 0.9710663  1.         0.98494663 0.95379721 0.9347687\n",
      " 0.93587651 0.93600687 0.95483989 0.95777235 0.93600687 0.94174153\n",
      " 0.92043216 0.89716779 0.8859592  0.87227437 0.86712618 0.85513563\n",
      " 0.85454916 0.85148634 0.92388596 0.85300624 0.8494401  0.84181052\n",
      " 0.83151281 0.82034695 0.809376   0.79985809 0.79232454 0.78658926\n",
      " 0.78305125 0.78218663 0.78423232 0.78873545 0.79456401 0.80033493]\n",
      "15 day output [[0.8050031]]\n",
      "16 day input [0.80631142 0.81372952 0.81795922 0.83351125 0.82323    0.81646261\n",
      " 0.78327625 0.78705043 0.77774514 0.78366663 0.7821049  0.76434051\n",
      " 0.74403833 0.74722674 0.76297407 0.76935108 0.76993665 0.75985059\n",
      " 0.73733597 0.74332259 0.73466811 0.74215124 0.71931126 0.73213031\n",
      " 0.73792164 0.74631581 0.74377801 0.74319243 0.73473314 0.7308289\n",
      " 0.74937415 0.75640187 0.76752902 0.7819097  0.78516334 0.78659481\n",
      " 0.78145429 0.78112893 0.78555382 0.78249548 0.8067019  0.7886772\n",
      " 0.78321122 0.79010877 0.79967429 0.79622546 0.79974439 0.79427045\n",
      " 0.79668157 0.77784855 0.7775227  0.791338   0.79140313 0.79791974\n",
      " 0.81414616 0.84268887 0.86015346 0.86321627 0.86575775 0.86921155\n",
      " 0.83578127 0.85813332 0.89110739 0.88765359 0.88107174 0.86855985\n",
      " 0.89123775 0.92942503 0.95483989 0.95145122 0.98331748 0.95914088\n",
      " 0.94995243 0.98234002 0.93646298 0.92916441 0.92010631 0.94122019\n",
      " 0.95848918 0.96265981 0.98905213 0.98227479 0.98286136 0.97517171\n",
      " 0.9710663  1.         0.98494663 0.95379721 0.9347687  0.93587651\n",
      " 0.93600687 0.95483989 0.95777235 0.93600687 0.94174153 0.92043216\n",
      " 0.89716779 0.8859592  0.87227437 0.86712618 0.85513563 0.85454916\n",
      " 0.85148634 0.92388596 0.85300624 0.8494401  0.84181052 0.83151281\n",
      " 0.82034695 0.809376   0.79985809 0.79232454 0.78658926 0.78305125\n",
      " 0.78218663 0.78423232 0.78873545 0.79456401 0.80033493 0.80500311]\n",
      "16 day output [[0.80831426]]\n",
      "17 day input [0.81372952 0.81795922 0.83351125 0.82323    0.81646261 0.78327625\n",
      " 0.78705043 0.77774514 0.78366663 0.7821049  0.76434051 0.74403833\n",
      " 0.74722674 0.76297407 0.76935108 0.76993665 0.75985059 0.73733597\n",
      " 0.74332259 0.73466811 0.74215124 0.71931126 0.73213031 0.73792164\n",
      " 0.74631581 0.74377801 0.74319243 0.73473314 0.7308289  0.74937415\n",
      " 0.75640187 0.76752902 0.7819097  0.78516334 0.78659481 0.78145429\n",
      " 0.78112893 0.78555382 0.78249548 0.8067019  0.7886772  0.78321122\n",
      " 0.79010877 0.79967429 0.79622546 0.79974439 0.79427045 0.79668157\n",
      " 0.77784855 0.7775227  0.791338   0.79140313 0.79791974 0.81414616\n",
      " 0.84268887 0.86015346 0.86321627 0.86575775 0.86921155 0.83578127\n",
      " 0.85813332 0.89110739 0.88765359 0.88107174 0.86855985 0.89123775\n",
      " 0.92942503 0.95483989 0.95145122 0.98331748 0.95914088 0.94995243\n",
      " 0.98234002 0.93646298 0.92916441 0.92010631 0.94122019 0.95848918\n",
      " 0.96265981 0.98905213 0.98227479 0.98286136 0.97517171 0.9710663\n",
      " 1.         0.98494663 0.95379721 0.9347687  0.93587651 0.93600687\n",
      " 0.95483989 0.95777235 0.93600687 0.94174153 0.92043216 0.89716779\n",
      " 0.8859592  0.87227437 0.86712618 0.85513563 0.85454916 0.85148634\n",
      " 0.92388596 0.85300624 0.8494401  0.84181052 0.83151281 0.82034695\n",
      " 0.809376   0.79985809 0.79232454 0.78658926 0.78305125 0.78218663\n",
      " 0.78423232 0.78873545 0.79456401 0.80033493 0.80500311 0.80831426]\n",
      "17 day output [[0.80926937]]\n",
      "18 day input [0.81795922 0.83351125 0.82323    0.81646261 0.78327625 0.78705043\n",
      " 0.77774514 0.78366663 0.7821049  0.76434051 0.74403833 0.74722674\n",
      " 0.76297407 0.76935108 0.76993665 0.75985059 0.73733597 0.74332259\n",
      " 0.73466811 0.74215124 0.71931126 0.73213031 0.73792164 0.74631581\n",
      " 0.74377801 0.74319243 0.73473314 0.7308289  0.74937415 0.75640187\n",
      " 0.76752902 0.7819097  0.78516334 0.78659481 0.78145429 0.78112893\n",
      " 0.78555382 0.78249548 0.8067019  0.7886772  0.78321122 0.79010877\n",
      " 0.79967429 0.79622546 0.79974439 0.79427045 0.79668157 0.77784855\n",
      " 0.7775227  0.791338   0.79140313 0.79791974 0.81414616 0.84268887\n",
      " 0.86015346 0.86321627 0.86575775 0.86921155 0.83578127 0.85813332\n",
      " 0.89110739 0.88765359 0.88107174 0.86855985 0.89123775 0.92942503\n",
      " 0.95483989 0.95145122 0.98331748 0.95914088 0.94995243 0.98234002\n",
      " 0.93646298 0.92916441 0.92010631 0.94122019 0.95848918 0.96265981\n",
      " 0.98905213 0.98227479 0.98286136 0.97517171 0.9710663  1.\n",
      " 0.98494663 0.95379721 0.9347687  0.93587651 0.93600687 0.95483989\n",
      " 0.95777235 0.93600687 0.94174153 0.92043216 0.89716779 0.8859592\n",
      " 0.87227437 0.86712618 0.85513563 0.85454916 0.85148634 0.92388596\n",
      " 0.85300624 0.8494401  0.84181052 0.83151281 0.82034695 0.809376\n",
      " 0.79985809 0.79232454 0.78658926 0.78305125 0.78218663 0.78423232\n",
      " 0.78873545 0.79456401 0.80033493 0.80500311 0.80831426 0.80926937]\n",
      "18 day output [[0.80764675]]\n",
      "19 day input [0.83351125 0.82323    0.81646261 0.78327625 0.78705043 0.77774514\n",
      " 0.78366663 0.7821049  0.76434051 0.74403833 0.74722674 0.76297407\n",
      " 0.76935108 0.76993665 0.75985059 0.73733597 0.74332259 0.73466811\n",
      " 0.74215124 0.71931126 0.73213031 0.73792164 0.74631581 0.74377801\n",
      " 0.74319243 0.73473314 0.7308289  0.74937415 0.75640187 0.76752902\n",
      " 0.7819097  0.78516334 0.78659481 0.78145429 0.78112893 0.78555382\n",
      " 0.78249548 0.8067019  0.7886772  0.78321122 0.79010877 0.79967429\n",
      " 0.79622546 0.79974439 0.79427045 0.79668157 0.77784855 0.7775227\n",
      " 0.791338   0.79140313 0.79791974 0.81414616 0.84268887 0.86015346\n",
      " 0.86321627 0.86575775 0.86921155 0.83578127 0.85813332 0.89110739\n",
      " 0.88765359 0.88107174 0.86855985 0.89123775 0.92942503 0.95483989\n",
      " 0.95145122 0.98331748 0.95914088 0.94995243 0.98234002 0.93646298\n",
      " 0.92916441 0.92010631 0.94122019 0.95848918 0.96265981 0.98905213\n",
      " 0.98227479 0.98286136 0.97517171 0.9710663  1.         0.98494663\n",
      " 0.95379721 0.9347687  0.93587651 0.93600687 0.95483989 0.95777235\n",
      " 0.93600687 0.94174153 0.92043216 0.89716779 0.8859592  0.87227437\n",
      " 0.86712618 0.85513563 0.85454916 0.85148634 0.92388596 0.85300624\n",
      " 0.8494401  0.84181052 0.83151281 0.82034695 0.809376   0.79985809\n",
      " 0.79232454 0.78658926 0.78305125 0.78218663 0.78423232 0.78873545\n",
      " 0.79456401 0.80033493 0.80500311 0.80831426 0.80926937 0.80764675]\n",
      "19 day output [[0.80381715]]\n",
      "20 day input [0.82323    0.81646261 0.78327625 0.78705043 0.77774514 0.78366663\n",
      " 0.7821049  0.76434051 0.74403833 0.74722674 0.76297407 0.76935108\n",
      " 0.76993665 0.75985059 0.73733597 0.74332259 0.73466811 0.74215124\n",
      " 0.71931126 0.73213031 0.73792164 0.74631581 0.74377801 0.74319243\n",
      " 0.73473314 0.7308289  0.74937415 0.75640187 0.76752902 0.7819097\n",
      " 0.78516334 0.78659481 0.78145429 0.78112893 0.78555382 0.78249548\n",
      " 0.8067019  0.7886772  0.78321122 0.79010877 0.79967429 0.79622546\n",
      " 0.79974439 0.79427045 0.79668157 0.77784855 0.7775227  0.791338\n",
      " 0.79140313 0.79791974 0.81414616 0.84268887 0.86015346 0.86321627\n",
      " 0.86575775 0.86921155 0.83578127 0.85813332 0.89110739 0.88765359\n",
      " 0.88107174 0.86855985 0.89123775 0.92942503 0.95483989 0.95145122\n",
      " 0.98331748 0.95914088 0.94995243 0.98234002 0.93646298 0.92916441\n",
      " 0.92010631 0.94122019 0.95848918 0.96265981 0.98905213 0.98227479\n",
      " 0.98286136 0.97517171 0.9710663  1.         0.98494663 0.95379721\n",
      " 0.9347687  0.93587651 0.93600687 0.95483989 0.95777235 0.93600687\n",
      " 0.94174153 0.92043216 0.89716779 0.8859592  0.87227437 0.86712618\n",
      " 0.85513563 0.85454916 0.85148634 0.92388596 0.85300624 0.8494401\n",
      " 0.84181052 0.83151281 0.82034695 0.809376   0.79985809 0.79232454\n",
      " 0.78658926 0.78305125 0.78218663 0.78423232 0.78873545 0.79456401\n",
      " 0.80033493 0.80500311 0.80831426 0.80926937 0.80764675 0.80381715]\n",
      "20 day output [[0.7985489]]\n",
      "21 day input [0.81646261 0.78327625 0.78705043 0.77774514 0.78366663 0.7821049\n",
      " 0.76434051 0.74403833 0.74722674 0.76297407 0.76935108 0.76993665\n",
      " 0.75985059 0.73733597 0.74332259 0.73466811 0.74215124 0.71931126\n",
      " 0.73213031 0.73792164 0.74631581 0.74377801 0.74319243 0.73473314\n",
      " 0.7308289  0.74937415 0.75640187 0.76752902 0.7819097  0.78516334\n",
      " 0.78659481 0.78145429 0.78112893 0.78555382 0.78249548 0.8067019\n",
      " 0.7886772  0.78321122 0.79010877 0.79967429 0.79622546 0.79974439\n",
      " 0.79427045 0.79668157 0.77784855 0.7775227  0.791338   0.79140313\n",
      " 0.79791974 0.81414616 0.84268887 0.86015346 0.86321627 0.86575775\n",
      " 0.86921155 0.83578127 0.85813332 0.89110739 0.88765359 0.88107174\n",
      " 0.86855985 0.89123775 0.92942503 0.95483989 0.95145122 0.98331748\n",
      " 0.95914088 0.94995243 0.98234002 0.93646298 0.92916441 0.92010631\n",
      " 0.94122019 0.95848918 0.96265981 0.98905213 0.98227479 0.98286136\n",
      " 0.97517171 0.9710663  1.         0.98494663 0.95379721 0.9347687\n",
      " 0.93587651 0.93600687 0.95483989 0.95777235 0.93600687 0.94174153\n",
      " 0.92043216 0.89716779 0.8859592  0.87227437 0.86712618 0.85513563\n",
      " 0.85454916 0.85148634 0.92388596 0.85300624 0.8494401  0.84181052\n",
      " 0.83151281 0.82034695 0.809376   0.79985809 0.79232454 0.78658926\n",
      " 0.78305125 0.78218663 0.78423232 0.78873545 0.79456401 0.80033493\n",
      " 0.80500311 0.80831426 0.80926937 0.80764675 0.80381715 0.79854888]\n",
      "21 day output [[0.7932232]]\n",
      "22 day input [0.78327625 0.78705043 0.77774514 0.78366663 0.7821049  0.76434051\n",
      " 0.74403833 0.74722674 0.76297407 0.76935108 0.76993665 0.75985059\n",
      " 0.73733597 0.74332259 0.73466811 0.74215124 0.71931126 0.73213031\n",
      " 0.73792164 0.74631581 0.74377801 0.74319243 0.73473314 0.7308289\n",
      " 0.74937415 0.75640187 0.76752902 0.7819097  0.78516334 0.78659481\n",
      " 0.78145429 0.78112893 0.78555382 0.78249548 0.8067019  0.7886772\n",
      " 0.78321122 0.79010877 0.79967429 0.79622546 0.79974439 0.79427045\n",
      " 0.79668157 0.77784855 0.7775227  0.791338   0.79140313 0.79791974\n",
      " 0.81414616 0.84268887 0.86015346 0.86321627 0.86575775 0.86921155\n",
      " 0.83578127 0.85813332 0.89110739 0.88765359 0.88107174 0.86855985\n",
      " 0.89123775 0.92942503 0.95483989 0.95145122 0.98331748 0.95914088\n",
      " 0.94995243 0.98234002 0.93646298 0.92916441 0.92010631 0.94122019\n",
      " 0.95848918 0.96265981 0.98905213 0.98227479 0.98286136 0.97517171\n",
      " 0.9710663  1.         0.98494663 0.95379721 0.9347687  0.93587651\n",
      " 0.93600687 0.95483989 0.95777235 0.93600687 0.94174153 0.92043216\n",
      " 0.89716779 0.8859592  0.87227437 0.86712618 0.85513563 0.85454916\n",
      " 0.85148634 0.92388596 0.85300624 0.8494401  0.84181052 0.83151281\n",
      " 0.82034695 0.809376   0.79985809 0.79232454 0.78658926 0.78305125\n",
      " 0.78218663 0.78423232 0.78873545 0.79456401 0.80033493 0.80500311\n",
      " 0.80831426 0.80926937 0.80764675 0.80381715 0.79854888 0.7932232 ]\n",
      "22 day output [[0.78855497]]\n",
      "23 day input [0.78705043 0.77774514 0.78366663 0.7821049  0.76434051 0.74403833\n",
      " 0.74722674 0.76297407 0.76935108 0.76993665 0.75985059 0.73733597\n",
      " 0.74332259 0.73466811 0.74215124 0.71931126 0.73213031 0.73792164\n",
      " 0.74631581 0.74377801 0.74319243 0.73473314 0.7308289  0.74937415\n",
      " 0.75640187 0.76752902 0.7819097  0.78516334 0.78659481 0.78145429\n",
      " 0.78112893 0.78555382 0.78249548 0.8067019  0.7886772  0.78321122\n",
      " 0.79010877 0.79967429 0.79622546 0.79974439 0.79427045 0.79668157\n",
      " 0.77784855 0.7775227  0.791338   0.79140313 0.79791974 0.81414616\n",
      " 0.84268887 0.86015346 0.86321627 0.86575775 0.86921155 0.83578127\n",
      " 0.85813332 0.89110739 0.88765359 0.88107174 0.86855985 0.89123775\n",
      " 0.92942503 0.95483989 0.95145122 0.98331748 0.95914088 0.94995243\n",
      " 0.98234002 0.93646298 0.92916441 0.92010631 0.94122019 0.95848918\n",
      " 0.96265981 0.98905213 0.98227479 0.98286136 0.97517171 0.9710663\n",
      " 1.         0.98494663 0.95379721 0.9347687  0.93587651 0.93600687\n",
      " 0.95483989 0.95777235 0.93600687 0.94174153 0.92043216 0.89716779\n",
      " 0.8859592  0.87227437 0.86712618 0.85513563 0.85454916 0.85148634\n",
      " 0.92388596 0.85300624 0.8494401  0.84181052 0.83151281 0.82034695\n",
      " 0.809376   0.79985809 0.79232454 0.78658926 0.78305125 0.78218663\n",
      " 0.78423232 0.78873545 0.79456401 0.80033493 0.80500311 0.80831426\n",
      " 0.80926937 0.80764675 0.80381715 0.79854888 0.7932232  0.78855497]\n",
      "23 day output [[0.78518164]]\n",
      "24 day input [0.77774514 0.78366663 0.7821049  0.76434051 0.74403833 0.74722674\n",
      " 0.76297407 0.76935108 0.76993665 0.75985059 0.73733597 0.74332259\n",
      " 0.73466811 0.74215124 0.71931126 0.73213031 0.73792164 0.74631581\n",
      " 0.74377801 0.74319243 0.73473314 0.7308289  0.74937415 0.75640187\n",
      " 0.76752902 0.7819097  0.78516334 0.78659481 0.78145429 0.78112893\n",
      " 0.78555382 0.78249548 0.8067019  0.7886772  0.78321122 0.79010877\n",
      " 0.79967429 0.79622546 0.79974439 0.79427045 0.79668157 0.77784855\n",
      " 0.7775227  0.791338   0.79140313 0.79791974 0.81414616 0.84268887\n",
      " 0.86015346 0.86321627 0.86575775 0.86921155 0.83578127 0.85813332\n",
      " 0.89110739 0.88765359 0.88107174 0.86855985 0.89123775 0.92942503\n",
      " 0.95483989 0.95145122 0.98331748 0.95914088 0.94995243 0.98234002\n",
      " 0.93646298 0.92916441 0.92010631 0.94122019 0.95848918 0.96265981\n",
      " 0.98905213 0.98227479 0.98286136 0.97517171 0.9710663  1.\n",
      " 0.98494663 0.95379721 0.9347687  0.93587651 0.93600687 0.95483989\n",
      " 0.95777235 0.93600687 0.94174153 0.92043216 0.89716779 0.8859592\n",
      " 0.87227437 0.86712618 0.85513563 0.85454916 0.85148634 0.92388596\n",
      " 0.85300624 0.8494401  0.84181052 0.83151281 0.82034695 0.809376\n",
      " 0.79985809 0.79232454 0.78658926 0.78305125 0.78218663 0.78423232\n",
      " 0.78873545 0.79456401 0.80033493 0.80500311 0.80831426 0.80926937\n",
      " 0.80764675 0.80381715 0.79854888 0.7932232  0.78855497 0.78518164]\n",
      "24 day output [[0.782796]]\n",
      "25 day input [0.78366663 0.7821049  0.76434051 0.74403833 0.74722674 0.76297407\n",
      " 0.76935108 0.76993665 0.75985059 0.73733597 0.74332259 0.73466811\n",
      " 0.74215124 0.71931126 0.73213031 0.73792164 0.74631581 0.74377801\n",
      " 0.74319243 0.73473314 0.7308289  0.74937415 0.75640187 0.76752902\n",
      " 0.7819097  0.78516334 0.78659481 0.78145429 0.78112893 0.78555382\n",
      " 0.78249548 0.8067019  0.7886772  0.78321122 0.79010877 0.79967429\n",
      " 0.79622546 0.79974439 0.79427045 0.79668157 0.77784855 0.7775227\n",
      " 0.791338   0.79140313 0.79791974 0.81414616 0.84268887 0.86015346\n",
      " 0.86321627 0.86575775 0.86921155 0.83578127 0.85813332 0.89110739\n",
      " 0.88765359 0.88107174 0.86855985 0.89123775 0.92942503 0.95483989\n",
      " 0.95145122 0.98331748 0.95914088 0.94995243 0.98234002 0.93646298\n",
      " 0.92916441 0.92010631 0.94122019 0.95848918 0.96265981 0.98905213\n",
      " 0.98227479 0.98286136 0.97517171 0.9710663  1.         0.98494663\n",
      " 0.95379721 0.9347687  0.93587651 0.93600687 0.95483989 0.95777235\n",
      " 0.93600687 0.94174153 0.92043216 0.89716779 0.8859592  0.87227437\n",
      " 0.86712618 0.85513563 0.85454916 0.85148634 0.92388596 0.85300624\n",
      " 0.8494401  0.84181052 0.83151281 0.82034695 0.809376   0.79985809\n",
      " 0.79232454 0.78658926 0.78305125 0.78218663 0.78423232 0.78873545\n",
      " 0.79456401 0.80033493 0.80500311 0.80831426 0.80926937 0.80764675\n",
      " 0.80381715 0.79854888 0.7932232  0.78855497 0.78518164 0.78279603]\n",
      "25 day output [[0.7819088]]\n",
      "26 day input [0.7821049  0.76434051 0.74403833 0.74722674 0.76297407 0.76935108\n",
      " 0.76993665 0.75985059 0.73733597 0.74332259 0.73466811 0.74215124\n",
      " 0.71931126 0.73213031 0.73792164 0.74631581 0.74377801 0.74319243\n",
      " 0.73473314 0.7308289  0.74937415 0.75640187 0.76752902 0.7819097\n",
      " 0.78516334 0.78659481 0.78145429 0.78112893 0.78555382 0.78249548\n",
      " 0.8067019  0.7886772  0.78321122 0.79010877 0.79967429 0.79622546\n",
      " 0.79974439 0.79427045 0.79668157 0.77784855 0.7775227  0.791338\n",
      " 0.79140313 0.79791974 0.81414616 0.84268887 0.86015346 0.86321627\n",
      " 0.86575775 0.86921155 0.83578127 0.85813332 0.89110739 0.88765359\n",
      " 0.88107174 0.86855985 0.89123775 0.92942503 0.95483989 0.95145122\n",
      " 0.98331748 0.95914088 0.94995243 0.98234002 0.93646298 0.92916441\n",
      " 0.92010631 0.94122019 0.95848918 0.96265981 0.98905213 0.98227479\n",
      " 0.98286136 0.97517171 0.9710663  1.         0.98494663 0.95379721\n",
      " 0.9347687  0.93587651 0.93600687 0.95483989 0.95777235 0.93600687\n",
      " 0.94174153 0.92043216 0.89716779 0.8859592  0.87227437 0.86712618\n",
      " 0.85513563 0.85454916 0.85148634 0.92388596 0.85300624 0.8494401\n",
      " 0.84181052 0.83151281 0.82034695 0.809376   0.79985809 0.79232454\n",
      " 0.78658926 0.78305125 0.78218663 0.78423232 0.78873545 0.79456401\n",
      " 0.80033493 0.80500311 0.80831426 0.80926937 0.80764675 0.80381715\n",
      " 0.79854888 0.7932232  0.78855497 0.78518164 0.78279603 0.78190881]\n",
      "26 day output [[0.78252435]]\n",
      "27 day input [0.76434051 0.74403833 0.74722674 0.76297407 0.76935108 0.76993665\n",
      " 0.75985059 0.73733597 0.74332259 0.73466811 0.74215124 0.71931126\n",
      " 0.73213031 0.73792164 0.74631581 0.74377801 0.74319243 0.73473314\n",
      " 0.7308289  0.74937415 0.75640187 0.76752902 0.7819097  0.78516334\n",
      " 0.78659481 0.78145429 0.78112893 0.78555382 0.78249548 0.8067019\n",
      " 0.7886772  0.78321122 0.79010877 0.79967429 0.79622546 0.79974439\n",
      " 0.79427045 0.79668157 0.77784855 0.7775227  0.791338   0.79140313\n",
      " 0.79791974 0.81414616 0.84268887 0.86015346 0.86321627 0.86575775\n",
      " 0.86921155 0.83578127 0.85813332 0.89110739 0.88765359 0.88107174\n",
      " 0.86855985 0.89123775 0.92942503 0.95483989 0.95145122 0.98331748\n",
      " 0.95914088 0.94995243 0.98234002 0.93646298 0.92916441 0.92010631\n",
      " 0.94122019 0.95848918 0.96265981 0.98905213 0.98227479 0.98286136\n",
      " 0.97517171 0.9710663  1.         0.98494663 0.95379721 0.9347687\n",
      " 0.93587651 0.93600687 0.95483989 0.95777235 0.93600687 0.94174153\n",
      " 0.92043216 0.89716779 0.8859592  0.87227437 0.86712618 0.85513563\n",
      " 0.85454916 0.85148634 0.92388596 0.85300624 0.8494401  0.84181052\n",
      " 0.83151281 0.82034695 0.809376   0.79985809 0.79232454 0.78658926\n",
      " 0.78305125 0.78218663 0.78423232 0.78873545 0.79456401 0.80033493\n",
      " 0.80500311 0.80831426 0.80926937 0.80764675 0.80381715 0.79854888\n",
      " 0.7932232  0.78855497 0.78518164 0.78279603 0.78190881 0.78252435]\n",
      "27 day output [[0.78487945]]\n",
      "28 day input [0.74403833 0.74722674 0.76297407 0.76935108 0.76993665 0.75985059\n",
      " 0.73733597 0.74332259 0.73466811 0.74215124 0.71931126 0.73213031\n",
      " 0.73792164 0.74631581 0.74377801 0.74319243 0.73473314 0.7308289\n",
      " 0.74937415 0.75640187 0.76752902 0.7819097  0.78516334 0.78659481\n",
      " 0.78145429 0.78112893 0.78555382 0.78249548 0.8067019  0.7886772\n",
      " 0.78321122 0.79010877 0.79967429 0.79622546 0.79974439 0.79427045\n",
      " 0.79668157 0.77784855 0.7775227  0.791338   0.79140313 0.79791974\n",
      " 0.81414616 0.84268887 0.86015346 0.86321627 0.86575775 0.86921155\n",
      " 0.83578127 0.85813332 0.89110739 0.88765359 0.88107174 0.86855985\n",
      " 0.89123775 0.92942503 0.95483989 0.95145122 0.98331748 0.95914088\n",
      " 0.94995243 0.98234002 0.93646298 0.92916441 0.92010631 0.94122019\n",
      " 0.95848918 0.96265981 0.98905213 0.98227479 0.98286136 0.97517171\n",
      " 0.9710663  1.         0.98494663 0.95379721 0.9347687  0.93587651\n",
      " 0.93600687 0.95483989 0.95777235 0.93600687 0.94174153 0.92043216\n",
      " 0.89716779 0.8859592  0.87227437 0.86712618 0.85513563 0.85454916\n",
      " 0.85148634 0.92388596 0.85300624 0.8494401  0.84181052 0.83151281\n",
      " 0.82034695 0.809376   0.79985809 0.79232454 0.78658926 0.78305125\n",
      " 0.78218663 0.78423232 0.78873545 0.79456401 0.80033493 0.80500311\n",
      " 0.80831426 0.80926937 0.80764675 0.80381715 0.79854888 0.7932232\n",
      " 0.78855497 0.78518164 0.78279603 0.78190881 0.78252435 0.78487945]\n",
      "28 day output [[0.7887273]]\n",
      "29 day input [0.74722674 0.76297407 0.76935108 0.76993665 0.75985059 0.73733597\n",
      " 0.74332259 0.73466811 0.74215124 0.71931126 0.73213031 0.73792164\n",
      " 0.74631581 0.74377801 0.74319243 0.73473314 0.7308289  0.74937415\n",
      " 0.75640187 0.76752902 0.7819097  0.78516334 0.78659481 0.78145429\n",
      " 0.78112893 0.78555382 0.78249548 0.8067019  0.7886772  0.78321122\n",
      " 0.79010877 0.79967429 0.79622546 0.79974439 0.79427045 0.79668157\n",
      " 0.77784855 0.7775227  0.791338   0.79140313 0.79791974 0.81414616\n",
      " 0.84268887 0.86015346 0.86321627 0.86575775 0.86921155 0.83578127\n",
      " 0.85813332 0.89110739 0.88765359 0.88107174 0.86855985 0.89123775\n",
      " 0.92942503 0.95483989 0.95145122 0.98331748 0.95914088 0.94995243\n",
      " 0.98234002 0.93646298 0.92916441 0.92010631 0.94122019 0.95848918\n",
      " 0.96265981 0.98905213 0.98227479 0.98286136 0.97517171 0.9710663\n",
      " 1.         0.98494663 0.95379721 0.9347687  0.93587651 0.93600687\n",
      " 0.95483989 0.95777235 0.93600687 0.94174153 0.92043216 0.89716779\n",
      " 0.8859592  0.87227437 0.86712618 0.85513563 0.85454916 0.85148634\n",
      " 0.92388596 0.85300624 0.8494401  0.84181052 0.83151281 0.82034695\n",
      " 0.809376   0.79985809 0.79232454 0.78658926 0.78305125 0.78218663\n",
      " 0.78423232 0.78873545 0.79456401 0.80033493 0.80500311 0.80831426\n",
      " 0.80926937 0.80764675 0.80381715 0.79854888 0.7932232  0.78855497\n",
      " 0.78518164 0.78279603 0.78190881 0.78252435 0.78487945 0.78872728]\n",
      "29 day output [[0.79304034]]\n"
     ]
    }
   ],
   "source": [
    "from numpy import array\n",
    "\n",
    "lst_output = []\n",
    "n_steps = 120\n",
    "i = 0\n",
    "while(i < 30):\n",
    "    \n",
    "    if(len(temp_input)>120):\n",
    "        #print(temp_input)\n",
    "        x_input = np.array(temp_input[1:])\n",
    "        print(\"{} day input {}\".format(i , x_input))\n",
    "        x_input = x_input.reshape(1 , -1)\n",
    "        x_input = x_input.reshape((1 , n_steps , 1))\n",
    "        #print(x_input)\n",
    "        yhat = regressor.predict(x_input, verbose=0)\n",
    "        print(\"{} day output {}\".format(i , yhat))\n",
    "        temp_input.extend(yhat[0].tolist())\n",
    "        temp_input = temp_input[1:]\n",
    "        #print(temp_input)\n",
    "        lst_output.extend(yhat.tolist())\n",
    "        i = i + 1\n",
    "    else:\n",
    "        x_input = x_input.reshape((1, n_steps,1))\n",
    "        yhat = regressor.predict(x_input, verbose=0)\n",
    "        print(yhat[0])\n",
    "        temp_input.extend(yhat[0].tolist())\n",
    "        print(len(temp_input))\n",
    "        lst_output.extend(yhat.tolist())\n",
    "        i = i + 1\n",
    "    "
   ]
  },
  {
   "cell_type": "code",
   "execution_count": 37,
   "metadata": {},
   "outputs": [],
   "source": [
    "day_new = np.arange(1 , 121)\n",
    "day_pred = np.arange(121 , 151)"
   ]
  },
  {
   "cell_type": "code",
   "execution_count": 38,
   "metadata": {},
   "outputs": [
    {
     "data": {
      "text/plain": [
       "1140"
      ]
     },
     "execution_count": 38,
     "metadata": {},
     "output_type": "execute_result"
    }
   ],
   "source": [
    "len(data) - 120"
   ]
  },
  {
   "cell_type": "code",
   "execution_count": 39,
   "metadata": {},
   "outputs": [
    {
     "data": {
      "text/plain": [
       "[<matplotlib.lines.Line2D at 0x1b189b6ec70>]"
      ]
     },
     "execution_count": 39,
     "metadata": {},
     "output_type": "execute_result"
    },
    {
     "data": {
      "image/png": "[encoded data removed]",
      "text/plain": [
       "<Figure size 432x288 with 1 Axes>"
      ]
     },
     "metadata": {
      "needs_background": "light"
     },
     "output_type": "display_data"
    }
   ],
   "source": [
    "plt.plot(day_new, SC.inverse_transform(data[1140:]))\n",
    "plt.plot(day_pred, SC.inverse_transform(lst_output))"
   ]
  },
  {
   "cell_type": "code",
   "execution_count": 40,
   "metadata": {},
   "outputs": [
    {
     "data": {
      "text/plain": [
       "[<matplotlib.lines.Line2D at 0x1b189c47790>]"
      ]
     },
     "execution_count": 40,
     "metadata": {},
     "output_type": "execute_result"
    },
    {
     "data": {
      "image/png": "[encoded data removed]",
      "text/plain": [
       "<Figure size 432x288 with 1 Axes>"
      ]
     },
     "metadata": {
      "needs_background": "light"
     },
     "output_type": "display_data"
    }
   ],
   "source": [
    "df3 = data.tolist()\n",
    "df3.extend(lst_output)\n",
    "plt.plot(df3[1140:])"
   ]
  },
  {
   "cell_type": "code",
   "execution_count": 41,
   "metadata": {},
   "outputs": [],
   "source": [
    "df3 = SC.inverse_transform(df3).tolist()"
   ]
  },
  {
   "cell_type": "code",
   "execution_count": 42,
   "metadata": {},
   "outputs": [
    {
     "data": {
      "text/plain": [
       "[<matplotlib.lines.Line2D at 0x1b189b4f0d0>]"
      ]
     },
     "execution_count": 42,
     "metadata": {},
     "output_type": "execute_result"
    },
    {
     "data": {
      "image/png": "[encoded data removed]",
      "text/plain": [
       "<Figure size 432x288 with 1 Axes>"
      ]
     },
     "metadata": {
      "needs_background": "light"
     },
     "output_type": "display_data"
    }
   ],
   "source": [
    "plt.plot(df3 , color = 'blue')\n",
    "plt.plot(ticker_Df['Close'].values , color = 'red')"
   ]
  }
 ],
 "metadata": {
  "interpreter": {
   "hash": "3ba20c9b3d080635768f0bd7ce5f3158a65b5f0f28269279444906c652d310d1"
  },
  "kernelspec": {
   "display_name": "Python 3.8.8 64-bit ('base': conda)",
   "language": "python",
   "name": "python3"
  },
  "language_info": {
   "codemirror_mode": {
    "name": "ipython",
    "version": 3
   },
   "file_extension": ".py",
   "mimetype": "text/x-python",
   "name": "python",
   "nbconvert_exporter": "python",
   "pygments_lexer": "ipython3",
   "version": "3.8.8"
  },
  "orig_nbformat": 4
 },
 "nbformat": 4,
 "nbformat_minor": 2
}
