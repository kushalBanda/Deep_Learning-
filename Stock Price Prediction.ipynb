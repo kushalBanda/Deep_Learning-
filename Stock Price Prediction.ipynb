{
 "cells": [
  {
   "cell_type": "markdown",
   "metadata": {},
   "source": [
    "## <b><u><i><span style = \"color:blue\"> <span style = \"font-family: Times New Roman\"> Stock Market Prediction and Forecasting using Stacked LSTM </span>"
   ]
  },
  {
   "cell_type": "markdown",
   "metadata": {},
   "source": [
    "### Importing Libraries and packages"
   ]
  },
  {
   "cell_type": "code",
   "execution_count": 1,
   "metadata": {},
   "outputs": [],
   "source": [
    "from matplotlib import ticker \n",
    "import yfinance as yf\n",
    "import numpy as np \n",
    "import pandas as pd\n",
    "import matplotlib.pyplot as plt \n",
    "from datetime import time"
   ]
  },
  {
   "cell_type": "markdown",
   "metadata": {},
   "source": [
    "#### Ticker Symbol"
   ]
  },
  {
   "cell_type": "code",
   "execution_count": 2,
   "metadata": {},
   "outputs": [],
   "source": [
    "ticker_symbol = input(\"Enter the Stock Ticker Name :\", )"
   ]
  },
  {
   "cell_type": "code",
   "execution_count": 3,
   "metadata": {},
   "outputs": [],
   "source": [
    "ticker_Data = yf.Ticker(ticker_symbol)"
   ]
  },
  {
   "cell_type": "markdown",
   "metadata": {},
   "source": [
    "#### Data Collection"
   ]
  },
  {
   "cell_type": "code",
   "execution_count": 4,
   "metadata": {},
   "outputs": [],
   "source": [
    "ticker_Df = ticker_Data.history(period = '5y')"
   ]
  },
  {
   "cell_type": "code",
   "execution_count": 5,
   "metadata": {},
   "outputs": [
    {
     "data": {
      "text/html": [
       "<div>\n",
       "<style scoped>\n",
       "    .dataframe tbody tr th:only-of-type {\n",
       "        vertical-align: middle;\n",
       "    }\n",
       "\n",
       "    .dataframe tbody tr th {\n",
       "        vertical-align: top;\n",
       "    }\n",
       "\n",
       "    .dataframe thead th {\n",
       "        text-align: right;\n",
       "    }\n",
       "</style>\n",
       "<table border=\"1\" class=\"dataframe\">\n",
       "  <thead>\n",
       "    <tr style=\"text-align: right;\">\n",
       "      <th></th>\n",
       "      <th>Open</th>\n",
       "      <th>High</th>\n",
       "      <th>Low</th>\n",
       "      <th>Close</th>\n",
       "      <th>Volume</th>\n",
       "      <th>Dividends</th>\n",
       "      <th>Stock Splits</th>\n",
       "    </tr>\n",
       "    <tr>\n",
       "      <th>Date</th>\n",
       "      <th></th>\n",
       "      <th></th>\n",
       "      <th></th>\n",
       "      <th></th>\n",
       "      <th></th>\n",
       "      <th></th>\n",
       "      <th></th>\n",
       "    </tr>\n",
       "  </thead>\n",
       "  <tbody>\n",
       "    <tr>\n",
       "      <th>2017-01-30</th>\n",
       "      <td>28.457303</td>\n",
       "      <td>28.622026</td>\n",
       "      <td>28.393767</td>\n",
       "      <td>28.622026</td>\n",
       "      <td>121510000</td>\n",
       "      <td>0.0</td>\n",
       "      <td>0.0</td>\n",
       "    </tr>\n",
       "    <tr>\n",
       "      <th>2017-01-31</th>\n",
       "      <td>28.509072</td>\n",
       "      <td>28.565548</td>\n",
       "      <td>28.384352</td>\n",
       "      <td>28.556135</td>\n",
       "      <td>196804000</td>\n",
       "      <td>0.0</td>\n",
       "      <td>0.0</td>\n",
       "    </tr>\n",
       "    <tr>\n",
       "      <th>2017-02-01</th>\n",
       "      <td>29.892757</td>\n",
       "      <td>30.706967</td>\n",
       "      <td>29.888051</td>\n",
       "      <td>30.297508</td>\n",
       "      <td>447940000</td>\n",
       "      <td>0.0</td>\n",
       "      <td>0.0</td>\n",
       "    </tr>\n",
       "    <tr>\n",
       "      <th>2017-02-02</th>\n",
       "      <td>30.116308</td>\n",
       "      <td>30.448109</td>\n",
       "      <td>30.069243</td>\n",
       "      <td>30.245733</td>\n",
       "      <td>134841600</td>\n",
       "      <td>0.0</td>\n",
       "      <td>0.0</td>\n",
       "    </tr>\n",
       "    <tr>\n",
       "      <th>2017-02-03</th>\n",
       "      <td>30.193966</td>\n",
       "      <td>30.401049</td>\n",
       "      <td>30.158670</td>\n",
       "      <td>30.375164</td>\n",
       "      <td>98029200</td>\n",
       "      <td>0.0</td>\n",
       "      <td>0.0</td>\n",
       "    </tr>\n",
       "  </tbody>\n",
       "</table>\n",
       "</div>"
      ],
      "text/plain": [
       "                 Open       High        Low      Close     Volume  Dividends  \\\n",
       "Date                                                                           \n",
       "2017-01-30  28.457303  28.622026  28.393767  28.622026  121510000        0.0   \n",
       "2017-01-31  28.509072  28.565548  28.384352  28.556135  196804000        0.0   \n",
       "2017-02-01  29.892757  30.706967  29.888051  30.297508  447940000        0.0   \n",
       "2017-02-02  30.116308  30.448109  30.069243  30.245733  134841600        0.0   \n",
       "2017-02-03  30.193966  30.401049  30.158670  30.375164   98029200        0.0   \n",
       "\n",
       "            Stock Splits  \n",
       "Date                      \n",
       "2017-01-30           0.0  \n",
       "2017-01-31           0.0  \n",
       "2017-02-01           0.0  \n",
       "2017-02-02           0.0  \n",
       "2017-02-03           0.0  "
      ]
     },
     "execution_count": 5,
     "metadata": {},
     "output_type": "execute_result"
    }
   ],
   "source": [
    "ticker_Df.head()"
   ]
  },
  {
   "cell_type": "code",
   "execution_count": 6,
   "metadata": {},
   "outputs": [
    {
     "data": {
      "text/html": [
       "<div>\n",
       "<style scoped>\n",
       "    .dataframe tbody tr th:only-of-type {\n",
       "        vertical-align: middle;\n",
       "    }\n",
       "\n",
       "    .dataframe tbody tr th {\n",
       "        vertical-align: top;\n",
       "    }\n",
       "\n",
       "    .dataframe thead th {\n",
       "        text-align: right;\n",
       "    }\n",
       "</style>\n",
       "<table border=\"1\" class=\"dataframe\">\n",
       "  <thead>\n",
       "    <tr style=\"text-align: right;\">\n",
       "      <th></th>\n",
       "      <th>Open</th>\n",
       "      <th>High</th>\n",
       "      <th>Low</th>\n",
       "      <th>Close</th>\n",
       "      <th>Volume</th>\n",
       "      <th>Dividends</th>\n",
       "      <th>Stock Splits</th>\n",
       "    </tr>\n",
       "    <tr>\n",
       "      <th>Date</th>\n",
       "      <th></th>\n",
       "      <th></th>\n",
       "      <th></th>\n",
       "      <th></th>\n",
       "      <th></th>\n",
       "      <th></th>\n",
       "      <th></th>\n",
       "    </tr>\n",
       "  </thead>\n",
       "  <tbody>\n",
       "    <tr>\n",
       "      <th>2022-01-24</th>\n",
       "      <td>160.020004</td>\n",
       "      <td>162.300003</td>\n",
       "      <td>154.699997</td>\n",
       "      <td>161.619995</td>\n",
       "      <td>162706700</td>\n",
       "      <td>0.0</td>\n",
       "      <td>0.0</td>\n",
       "    </tr>\n",
       "    <tr>\n",
       "      <th>2022-01-25</th>\n",
       "      <td>158.979996</td>\n",
       "      <td>162.759995</td>\n",
       "      <td>157.020004</td>\n",
       "      <td>159.779999</td>\n",
       "      <td>115798400</td>\n",
       "      <td>0.0</td>\n",
       "      <td>0.0</td>\n",
       "    </tr>\n",
       "    <tr>\n",
       "      <th>2022-01-26</th>\n",
       "      <td>163.500000</td>\n",
       "      <td>164.389999</td>\n",
       "      <td>157.820007</td>\n",
       "      <td>159.690002</td>\n",
       "      <td>108275300</td>\n",
       "      <td>0.0</td>\n",
       "      <td>0.0</td>\n",
       "    </tr>\n",
       "    <tr>\n",
       "      <th>2022-01-27</th>\n",
       "      <td>162.449997</td>\n",
       "      <td>163.839996</td>\n",
       "      <td>158.279999</td>\n",
       "      <td>159.220001</td>\n",
       "      <td>116691400</td>\n",
       "      <td>0.0</td>\n",
       "      <td>0.0</td>\n",
       "    </tr>\n",
       "    <tr>\n",
       "      <th>2022-01-28</th>\n",
       "      <td>165.710007</td>\n",
       "      <td>170.350006</td>\n",
       "      <td>162.800003</td>\n",
       "      <td>170.330002</td>\n",
       "      <td>179485800</td>\n",
       "      <td>0.0</td>\n",
       "      <td>0.0</td>\n",
       "    </tr>\n",
       "  </tbody>\n",
       "</table>\n",
       "</div>"
      ],
      "text/plain": [
       "                  Open        High         Low       Close     Volume  \\\n",
       "Date                                                                    \n",
       "2022-01-24  160.020004  162.300003  154.699997  161.619995  162706700   \n",
       "2022-01-25  158.979996  162.759995  157.020004  159.779999  115798400   \n",
       "2022-01-26  163.500000  164.389999  157.820007  159.690002  108275300   \n",
       "2022-01-27  162.449997  163.839996  158.279999  159.220001  116691400   \n",
       "2022-01-28  165.710007  170.350006  162.800003  170.330002  179485800   \n",
       "\n",
       "            Dividends  Stock Splits  \n",
       "Date                                 \n",
       "2022-01-24        0.0           0.0  \n",
       "2022-01-25        0.0           0.0  \n",
       "2022-01-26        0.0           0.0  \n",
       "2022-01-27        0.0           0.0  \n",
       "2022-01-28        0.0           0.0  "
      ]
     },
     "execution_count": 6,
     "metadata": {},
     "output_type": "execute_result"
    }
   ],
   "source": [
    "ticker_Df.tail()"
   ]
  },
  {
   "cell_type": "code",
   "execution_count": 7,
   "metadata": {},
   "outputs": [
    {
     "data": {
      "text/plain": [
       "(1260, 7)"
      ]
     },
     "execution_count": 7,
     "metadata": {},
     "output_type": "execute_result"
    }
   ],
   "source": [
    "ticker_Df.shape"
   ]
  },
  {
   "cell_type": "markdown",
   "metadata": {},
   "source": [
    "### Max Chart"
   ]
  },
  {
   "cell_type": "code",
   "execution_count": 8,
   "metadata": {},
   "outputs": [
    {
     "data": {
      "text/plain": [
       "[<matplotlib.lines.Line2D at 0x1b37a29b100>]"
      ]
     },
     "execution_count": 8,
     "metadata": {},
     "output_type": "execute_result"
    },
    {
     "data": {
      "image/png": "[encoded data removed]",
      "text/plain": [
       "<Figure size 432x288 with 1 Axes>"
      ]
     },
     "metadata": {
      "needs_background": "light"
     },
     "output_type": "display_data"
    }
   ],
   "source": [
    "plt.plot(ticker_Df['Close'])"
   ]
  },
  {
   "cell_type": "code",
   "execution_count": 9,
   "metadata": {},
   "outputs": [],
   "source": [
    "data = ticker_Df.reset_index()['Close']"
   ]
  },
  {
   "cell_type": "code",
   "execution_count": 10,
   "metadata": {},
   "outputs": [
    {
     "data": {
      "text/plain": [
       "0        28.622026\n",
       "1        28.556135\n",
       "2        30.297508\n",
       "3        30.245733\n",
       "4        30.375164\n",
       "           ...    \n",
       "1255    161.619995\n",
       "1256    159.779999\n",
       "1257    159.690002\n",
       "1258    159.220001\n",
       "1259    170.330002\n",
       "Name: Close, Length: 1260, dtype: float64"
      ]
     },
     "execution_count": 10,
     "metadata": {},
     "output_type": "execute_result"
    }
   ],
   "source": [
    "data"
   ]
  },
  {
   "cell_type": "markdown",
   "metadata": {},
   "source": [
    "### Scaling the data"
   ]
  },
  {
   "cell_type": "code",
   "execution_count": 16,
   "metadata": {},
   "outputs": [],
   "source": [
    "from sklearn.preprocessing import MinMaxScaler\n",
    "SC = MinMaxScaler(feature_range = (0 , 1))\n",
    "data = SC.fit_transform(np.array(data).reshape(-1 , 1))"
   ]
  },
  {
   "cell_type": "code",
   "execution_count": 17,
   "metadata": {},
   "outputs": [
    {
     "data": {
      "text/plain": [
       "(1260, 1)"
      ]
     },
     "execution_count": 17,
     "metadata": {},
     "output_type": "execute_result"
    }
   ],
   "source": [
    "data.shape"
   ]
  },
  {
   "cell_type": "markdown",
   "metadata": {},
   "source": [
    "### Splitting the dataset into train and test split"
   ]
  },
  {
   "cell_type": "code",
   "execution_count": 18,
   "metadata": {},
   "outputs": [],
   "source": [
    "training_size = int(len(data) * 0.80)\n",
    "test_size = len(data) - training_size\n",
    "\n",
    "train_data , test_data = data[0 : training_size, : ], data[training_size : len(data) , : 1]"
   ]
  },
  {
   "cell_type": "code",
   "execution_count": 19,
   "metadata": {},
   "outputs": [
    {
     "data": {
      "text/plain": [
       "(1008, 252)"
      ]
     },
     "execution_count": 19,
     "metadata": {},
     "output_type": "execute_result"
    }
   ],
   "source": [
    "training_size , test_size"
   ]
  },
  {
   "cell_type": "markdown",
   "metadata": {},
   "source": [
    "#### Creating a data structure with 120 timestamps and 1 output"
   ]
  },
  {
   "cell_type": "code",
   "execution_count": 21,
   "metadata": {},
   "outputs": [],
   "source": [
    "x_train = []\n",
    "y_train = []\n",
    "\n",
    "for i in range(120 , 1008) :\n",
    "    x_train.append(train_data[i - 120 : i , 0])\n",
    "    y_train.append(train_data[i , 0])\n",
    "    \n",
    "x_train , y_train = np.array(x_train) , np.array(y_train)"
   ]
  },
  {
   "cell_type": "markdown",
   "metadata": {},
   "source": [
    "#### Reshaping "
   ]
  },
  {
   "cell_type": "code",
   "execution_count": 23,
   "metadata": {},
   "outputs": [],
   "source": [
    "x_train = np.reshape(x_train , (x_train.shape[0] , x_train.shape[1] , 1))"
   ]
  },
  {
   "cell_type": "code",
   "execution_count": 24,
   "metadata": {},
   "outputs": [
    {
     "data": {
      "text/plain": [
       "((888, 120, 1), (888,))"
      ]
     },
     "execution_count": 24,
     "metadata": {},
     "output_type": "execute_result"
    }
   ],
   "source": [
    "x_train.shape , y_train.shape"
   ]
  },
  {
   "cell_type": "markdown",
   "metadata": {},
   "source": [
    "## <b><u><i> Building the RNN"
   ]
  },
  {
   "cell_type": "markdown",
   "metadata": {},
   "source": [
    "### Importing keras libraries and packages"
   ]
  },
  {
   "cell_type": "code",
   "execution_count": 25,
   "metadata": {},
   "outputs": [],
   "source": [
    "from keras.models import Sequential\n",
    "from keras.layers import Dense\n",
    "from keras.layers import LSTM\n",
    "from keras.layers import Dropout"
   ]
  },
  {
   "cell_type": "markdown",
   "metadata": {},
   "source": [
    "#### Initializing the RNN"
   ]
  },
  {
   "cell_type": "code",
   "execution_count": 26,
   "metadata": {},
   "outputs": [],
   "source": [
    "regressor = Sequential()"
   ]
  },
  {
   "cell_type": "markdown",
   "metadata": {},
   "source": [
    "#### Adding the first LSTM layer and some Dropout Regularisation "
   ]
  },
  {
   "cell_type": "code",
   "execution_count": 27,
   "metadata": {},
   "outputs": [],
   "source": [
    "regressor.add(LSTM(units = 80 , return_sequences= True , input_shape = (x_train.shape[1] , 1)))\n",
    "regressor.add(Dropout(0.2))"
   ]
  },
  {
   "cell_type": "markdown",
   "metadata": {},
   "source": [
    "#### Adding a Second layer and some Droput Regularisation"
   ]
  },
  {
   "cell_type": "code",
   "execution_count": 28,
   "metadata": {},
   "outputs": [],
   "source": [
    "regressor.add(LSTM(units = 80 , return_sequences= True))\n",
    "regressor.add(Dropout(0.2))"
   ]
  },
  {
   "cell_type": "markdown",
   "metadata": {},
   "source": [
    "#### Adding a Third layer and some Dropout Regularisation"
   ]
  },
  {
   "cell_type": "code",
   "execution_count": 29,
   "metadata": {},
   "outputs": [],
   "source": [
    "regressor.add(LSTM(units = 80 , return_sequences= True))\n",
    "regressor.add(Dropout(0.2))"
   ]
  },
  {
   "cell_type": "markdown",
   "metadata": {},
   "source": [
    "#### Adding a Fourth layer and some Dropout Regularisation"
   ]
  },
  {
   "cell_type": "code",
   "execution_count": 30,
   "metadata": {},
   "outputs": [],
   "source": [
    "regressor.add(LSTM(units = 80))\n",
    "regressor.add(Dropout(0.2))"
   ]
  },
  {
   "cell_type": "markdown",
   "metadata": {},
   "source": [
    "#### Adding the output layer"
   ]
  },
  {
   "cell_type": "code",
   "execution_count": 31,
   "metadata": {},
   "outputs": [],
   "source": [
    "regressor.add(Dense(units = 1))"
   ]
  },
  {
   "cell_type": "markdown",
   "metadata": {},
   "source": [
    "#### Compiling the RNN"
   ]
  },
  {
   "cell_type": "code",
   "execution_count": 32,
   "metadata": {},
   "outputs": [],
   "source": [
    "regressor.compile(optimizer= 'adam' , loss = 'mean_squared_error')"
   ]
  },
  {
   "cell_type": "markdown",
   "metadata": {},
   "source": [
    "#### Summary of the model"
   ]
  },
  {
   "cell_type": "code",
   "execution_count": 33,
   "metadata": {},
   "outputs": [
    {
     "name": "stdout",
     "output_type": "stream",
     "text": [
      "Model: \"sequential\"\n",
      "_________________________________________________________________\n",
      " Layer (type)                Output Shape              Param #   \n",
      "=================================================================\n",
      " lstm (LSTM)                 (None, 120, 80)           26240     \n",
      "                                                                 \n",
      " dropout (Dropout)           (None, 120, 80)           0         \n",
      "                                                                 \n",
      " lstm_1 (LSTM)               (None, 120, 80)           51520     \n",
      "                                                                 \n",
      " dropout_1 (Dropout)         (None, 120, 80)           0         \n",
      "                                                                 \n",
      " lstm_2 (LSTM)               (None, 120, 80)           51520     \n",
      "                                                                 \n",
      " dropout_2 (Dropout)         (None, 120, 80)           0         \n",
      "                                                                 \n",
      " lstm_3 (LSTM)               (None, 80)                51520     \n",
      "                                                                 \n",
      " dropout_3 (Dropout)         (None, 80)                0         \n",
      "                                                                 \n",
      " dense (Dense)               (None, 1)                 81        \n",
      "                                                                 \n",
      "=================================================================\n",
      "Total params: 180,881\n",
      "Trainable params: 180,881\n",
      "Non-trainable params: 0\n",
      "_________________________________________________________________\n"
     ]
    }
   ],
   "source": [
    "regressor.summary()"
   ]
  },
  {
   "cell_type": "markdown",
   "metadata": {},
   "source": [
    "#### Fitting the RNN to the Training set"
   ]
  },
  {
   "cell_type": "code",
   "execution_count": 34,
   "metadata": {},
   "outputs": [
    {
     "name": "stdout",
     "output_type": "stream",
     "text": [
      "Epoch 1/100\n",
      "28/28 [==============================] - 22s 288ms/step - loss: 0.0115\n",
      "Epoch 2/100\n",
      "28/28 [==============================] - 8s 281ms/step - loss: 0.0017\n",
      "Epoch 3/100\n",
      "28/28 [==============================] - 8s 287ms/step - loss: 0.0015\n",
      "Epoch 4/100\n",
      "28/28 [==============================] - 8s 296ms/step - loss: 0.0015\n",
      "Epoch 5/100\n",
      "28/28 [==============================] - 8s 285ms/step - loss: 0.0014\n",
      "Epoch 6/100\n",
      "28/28 [==============================] - 8s 282ms/step - loss: 0.0014\n",
      "Epoch 7/100\n",
      "28/28 [==============================] - 9s 306ms/step - loss: 0.0014\n",
      "Epoch 8/100\n",
      "28/28 [==============================] - 11s 397ms/step - loss: 0.0014\n",
      "Epoch 9/100\n",
      "28/28 [==============================] - 8s 283ms/step - loss: 0.0015\n",
      "Epoch 10/100\n",
      "28/28 [==============================] - 8s 286ms/step - loss: 0.0013\n",
      "Epoch 11/100\n",
      "28/28 [==============================] - 8s 297ms/step - loss: 0.0011\n",
      "Epoch 12/100\n",
      "28/28 [==============================] - 10s 341ms/step - loss: 0.0013\n",
      "Epoch 13/100\n",
      "28/28 [==============================] - 8s 294ms/step - loss: 0.0013\n",
      "Epoch 14/100\n",
      "28/28 [==============================] - 8s 300ms/step - loss: 0.0012\n",
      "Epoch 15/100\n",
      "28/28 [==============================] - 8s 293ms/step - loss: 0.0010\n",
      "Epoch 16/100\n",
      "28/28 [==============================] - 8s 295ms/step - loss: 9.2768e-04\n",
      "Epoch 17/100\n",
      "28/28 [==============================] - 9s 324ms/step - loss: 9.7707e-04\n",
      "Epoch 18/100\n",
      "28/28 [==============================] - 8s 303ms/step - loss: 0.0010\n",
      "Epoch 19/100\n",
      "28/28 [==============================] - 8s 301ms/step - loss: 9.5626e-04\n",
      "Epoch 20/100\n",
      "28/28 [==============================] - 8s 293ms/step - loss: 9.8520e-04\n",
      "Epoch 21/100\n",
      "28/28 [==============================] - 8s 296ms/step - loss: 9.1044e-04\n",
      "Epoch 22/100\n",
      "28/28 [==============================] - 8s 298ms/step - loss: 9.8052e-04\n",
      "Epoch 23/100\n",
      "28/28 [==============================] - 8s 269ms/step - loss: 0.0012\n",
      "Epoch 24/100\n",
      "28/28 [==============================] - 7s 262ms/step - loss: 7.8882e-04\n",
      "Epoch 25/100\n",
      "28/28 [==============================] - 8s 266ms/step - loss: 8.8204e-04\n",
      "Epoch 26/100\n",
      "28/28 [==============================] - 8s 305ms/step - loss: 0.0011\n",
      "Epoch 27/100\n",
      "28/28 [==============================] - 8s 301ms/step - loss: 0.0011\n",
      "Epoch 28/100\n",
      "28/28 [==============================] - 8s 279ms/step - loss: 0.0010\n",
      "Epoch 29/100\n",
      "28/28 [==============================] - 8s 278ms/step - loss: 7.9066e-04\n",
      "Epoch 30/100\n",
      "28/28 [==============================] - 8s 286ms/step - loss: 7.5755e-04\n",
      "Epoch 31/100\n",
      "28/28 [==============================] - 8s 278ms/step - loss: 7.7904e-04\n",
      "Epoch 32/100\n",
      "28/28 [==============================] - 9s 306ms/step - loss: 8.6669e-04\n",
      "Epoch 33/100\n",
      "28/28 [==============================] - 8s 281ms/step - loss: 7.8845e-04\n",
      "Epoch 34/100\n",
      "28/28 [==============================] - 8s 284ms/step - loss: 8.6582e-04\n",
      "Epoch 35/100\n",
      "28/28 [==============================] - 8s 299ms/step - loss: 9.5491e-04\n",
      "Epoch 36/100\n",
      "28/28 [==============================] - 10s 344ms/step - loss: 9.0607e-04\n",
      "Epoch 37/100\n",
      "28/28 [==============================] - 9s 335ms/step - loss: 9.0081e-04\n",
      "Epoch 38/100\n",
      "28/28 [==============================] - 9s 305ms/step - loss: 6.9633e-04\n",
      "Epoch 39/100\n",
      "28/28 [==============================] - 9s 306ms/step - loss: 7.6887e-04\n",
      "Epoch 40/100\n",
      "28/28 [==============================] - 9s 332ms/step - loss: 8.5121e-04\n",
      "Epoch 41/100\n",
      "28/28 [==============================] - 8s 280ms/step - loss: 6.4504e-04\n",
      "Epoch 42/100\n",
      "28/28 [==============================] - 10s 351ms/step - loss: 6.5372e-04\n",
      "Epoch 43/100\n",
      "28/28 [==============================] - 9s 314ms/step - loss: 7.2223e-04\n",
      "Epoch 44/100\n",
      "28/28 [==============================] - 9s 308ms/step - loss: 8.6012e-04\n",
      "Epoch 45/100\n",
      "28/28 [==============================] - 10s 365ms/step - loss: 7.8597e-04\n",
      "Epoch 46/100\n",
      "28/28 [==============================] - 10s 341ms/step - loss: 0.0010\n",
      "Epoch 47/100\n",
      "28/28 [==============================] - 9s 327ms/step - loss: 6.3676e-04\n",
      "Epoch 48/100\n",
      "28/28 [==============================] - 10s 341ms/step - loss: 8.7723e-04\n",
      "Epoch 49/100\n",
      "28/28 [==============================] - 8s 276ms/step - loss: 8.0445e-04\n",
      "Epoch 50/100\n",
      "28/28 [==============================] - 9s 333ms/step - loss: 7.2614e-04\n",
      "Epoch 51/100\n",
      "28/28 [==============================] - 9s 332ms/step - loss: 6.3153e-04\n",
      "Epoch 52/100\n",
      "28/28 [==============================] - 8s 297ms/step - loss: 6.4225e-04\n",
      "Epoch 53/100\n",
      "28/28 [==============================] - 10s 346ms/step - loss: 7.6587e-04\n",
      "Epoch 54/100\n",
      "28/28 [==============================] - 10s 349ms/step - loss: 9.4793e-04\n",
      "Epoch 55/100\n",
      "28/28 [==============================] - 8s 287ms/step - loss: 5.8342e-04\n",
      "Epoch 56/100\n",
      "28/28 [==============================] - 9s 337ms/step - loss: 5.7945e-04\n",
      "Epoch 57/100\n",
      "28/28 [==============================] - 8s 288ms/step - loss: 6.5945e-04\n",
      "Epoch 58/100\n",
      "28/28 [==============================] - 9s 314ms/step - loss: 5.6345e-04\n",
      "Epoch 59/100\n",
      "28/28 [==============================] - 9s 337ms/step - loss: 6.2757e-04\n",
      "Epoch 60/100\n",
      "28/28 [==============================] - 9s 307ms/step - loss: 7.0097e-04\n",
      "Epoch 61/100\n",
      "28/28 [==============================] - 9s 307ms/step - loss: 6.8975e-04\n",
      "Epoch 62/100\n",
      "28/28 [==============================] - 10s 349ms/step - loss: 5.7303e-04\n",
      "Epoch 63/100\n",
      "28/28 [==============================] - 8s 292ms/step - loss: 5.2672e-04\n",
      "Epoch 64/100\n",
      "28/28 [==============================] - 10s 357ms/step - loss: 5.9094e-04\n",
      "Epoch 65/100\n",
      "28/28 [==============================] - 9s 317ms/step - loss: 5.8637e-04\n",
      "Epoch 66/100\n",
      "28/28 [==============================] - 9s 323ms/step - loss: 6.1587e-04\n",
      "Epoch 67/100\n",
      "28/28 [==============================] - 9s 324ms/step - loss: 5.8317e-04\n",
      "Epoch 68/100\n",
      "28/28 [==============================] - 8s 281ms/step - loss: 6.0149e-04\n",
      "Epoch 69/100\n",
      "28/28 [==============================] - 9s 321ms/step - loss: 5.6571e-04\n",
      "Epoch 70/100\n",
      "28/28 [==============================] - 9s 312ms/step - loss: 6.0825e-04\n",
      "Epoch 71/100\n",
      "28/28 [==============================] - 9s 308ms/step - loss: 5.7065e-04\n",
      "Epoch 72/100\n",
      "28/28 [==============================] - 11s 380ms/step - loss: 6.1528e-04\n",
      "Epoch 73/100\n",
      "28/28 [==============================] - 9s 311ms/step - loss: 5.2998e-04\n",
      "Epoch 74/100\n",
      "28/28 [==============================] - 9s 313ms/step - loss: 5.6582e-04\n",
      "Epoch 75/100\n",
      "28/28 [==============================] - 10s 352ms/step - loss: 5.8422e-04\n",
      "Epoch 76/100\n",
      "28/28 [==============================] - 8s 295ms/step - loss: 5.4093e-04\n",
      "Epoch 77/100\n",
      "28/28 [==============================] - 9s 331ms/step - loss: 5.2387e-04\n",
      "Epoch 78/100\n",
      "28/28 [==============================] - 10s 344ms/step - loss: 5.0299e-04\n",
      "Epoch 79/100\n",
      "28/28 [==============================] - 8s 275ms/step - loss: 5.1325e-04\n",
      "Epoch 80/100\n",
      "28/28 [==============================] - 10s 344ms/step - loss: 5.0466e-04\n",
      "Epoch 81/100\n",
      "28/28 [==============================] - 10s 342ms/step - loss: 6.3017e-04\n",
      "Epoch 82/100\n",
      "28/28 [==============================] - 8s 280ms/step - loss: 6.5158e-04\n",
      "Epoch 83/100\n",
      "28/28 [==============================] - 10s 368ms/step - loss: 6.1616e-04\n",
      "Epoch 84/100\n",
      "28/28 [==============================] - 9s 319ms/step - loss: 5.0007e-04\n",
      "Epoch 85/100\n",
      "28/28 [==============================] - 9s 307ms/step - loss: 6.2584e-04\n",
      "Epoch 86/100\n",
      "28/28 [==============================] - 10s 366ms/step - loss: 4.8534e-04\n",
      "Epoch 87/100\n",
      "28/28 [==============================] - 9s 303ms/step - loss: 4.0929e-04\n",
      "Epoch 88/100\n",
      "28/28 [==============================] - 10s 343ms/step - loss: 4.3528e-04\n",
      "Epoch 89/100\n",
      "28/28 [==============================] - 10s 352ms/step - loss: 4.9198e-04\n",
      "Epoch 90/100\n",
      "28/28 [==============================] - 10s 347ms/step - loss: 5.7369e-04\n",
      "Epoch 91/100\n",
      "28/28 [==============================] - 10s 366ms/step - loss: 4.7129e-04\n",
      "Epoch 92/100\n",
      "28/28 [==============================] - 9s 320ms/step - loss: 5.2095e-04\n",
      "Epoch 93/100\n",
      "28/28 [==============================] - 10s 351ms/step - loss: 4.4784e-04\n",
      "Epoch 94/100\n",
      "28/28 [==============================] - 10s 366ms/step - loss: 6.1873e-04\n",
      "Epoch 95/100\n",
      "28/28 [==============================] - 8s 301ms/step - loss: 5.6827e-04\n",
      "Epoch 96/100\n",
      "28/28 [==============================] - 10s 353ms/step - loss: 5.1063e-04\n",
      "Epoch 97/100\n",
      "28/28 [==============================] - 10s 357ms/step - loss: 5.5965e-04\n",
      "Epoch 98/100\n",
      "28/28 [==============================] - 9s 319ms/step - loss: 4.9027e-04\n",
      "Epoch 99/100\n",
      "28/28 [==============================] - 10s 367ms/step - loss: 6.0730e-04\n",
      "Epoch 100/100\n",
      "28/28 [==============================] - 10s 359ms/step - loss: 4.8416e-04\n"
     ]
    },
    {
     "data": {
      "text/plain": [
       "<keras.callbacks.History at 0x1b3055a4970>"
      ]
     },
     "execution_count": 34,
     "metadata": {},
     "output_type": "execute_result"
    }
   ],
   "source": [
    "regressor.fit(x_train , y_train, epochs = 100 , batch_size = 32 , verbose = 1)"
   ]
  },
  {
   "cell_type": "markdown",
   "metadata": {},
   "source": [
    "## <b><u><i> Making the prediction and visualising the results"
   ]
  },
  {
   "cell_type": "markdown",
   "metadata": {},
   "source": [
    "#### Getting the real stock price"
   ]
  },
  {
   "cell_type": "code",
   "execution_count": 150,
   "metadata": {},
   "outputs": [],
   "source": [
    "Unscaled_data = ticker_Df.reset_index()['Close']\n",
    "Unscaled_data = np.array(Unscaled_data).reshape(-1 , 1)\n",
    "\n",
    "Unscaled_train_data , Unscaled_test_data = Unscaled_data[0 : training_size, : ], Unscaled_data[training_size : len(Unscaled_data) , : 1]"
   ]
  },
  {
   "cell_type": "markdown",
   "metadata": {},
   "source": [
    "#### Getting the predicted Stock Price"
   ]
  },
  {
   "cell_type": "code",
   "execution_count": 159,
   "metadata": {},
   "outputs": [],
   "source": [
    "Total_data = ticker_Df.reset_index()['Close']\n",
    "input = Total_data[len(Total_data) - len(test_data) - 120 :].values\n",
    "input = input.reshape(-1,1)\n",
    "input = SC.transform(input)\n",
    "\n",
    "x_test = []\n",
    "for i in range(120 , 373) :\n",
    "    x_test.append(input[i - 120 : i , 0])\n",
    "\n",
    "x_test = np.array(x_test)\n",
    "\n",
    "\n",
    "x_test = np.reshape(x_test , (x_test.shape[0] , x_test.shape[1] , 1))"
   ]
  },
  {
   "cell_type": "markdown",
   "metadata": {},
   "source": [
    "#### Predicted Stock Price"
   ]
  },
  {
   "cell_type": "code",
   "execution_count": 160,
   "metadata": {},
   "outputs": [],
   "source": [
    "predicted_stock_price = regressor.predict(x_test)\n",
    "predicted_stock_price = SC.inverse_transform(predicted_stock_price)"
   ]
  },
  {
   "cell_type": "markdown",
   "metadata": {},
   "source": [
    "## <b><u><i> Visualising "
   ]
  },
  {
   "cell_type": "code",
   "execution_count": 162,
   "metadata": {},
   "outputs": [
    {
     "data": {
      "text/plain": [
       "1008"
      ]
     },
     "execution_count": 162,
     "metadata": {},
     "output_type": "execute_result"
    }
   ],
   "source": [
    "len(Total_data) - len(test_data)"
   ]
  },
  {
   "cell_type": "code",
   "execution_count": 165,
   "metadata": {},
   "outputs": [
    {
     "data": {
      "image/png": "[encoded data removed]",
      "text/plain": [
       "<Figure size 432x288 with 1 Axes>"
      ]
     },
     "metadata": {
      "needs_background": "light"
     },
     "output_type": "display_data"
    }
   ],
   "source": [
    "plt.plot(Total_data[len(Total_data) - len(test_data):].values, color = 'red', label = 'Real Stock Price')\n",
    "plt.plot(predicted_stock_price , color = 'blue', label = 'Predicted Stock Price')\n",
    "plt.xlabel('Time')\n",
    "plt.ylabel(\"Stock Price\")\n",
    "plt.title('Stock Price Prediction')\n",
    "plt.show()"
   ]
  },
  {
   "cell_type": "markdown",
   "metadata": {},
   "source": [
    "* <b><u><i><span style = \"color:red\"> <span style = \"font-family: Times New Roman\"> <font size = 50 > Red represents original stock graph <span> </font>\n",
    "\n",
    "* <b><u><i><span style = \"color:blue\"> <span style = \"font-family: Times New Roman\"> <font size = 50 > Blue represents predicted stock graph <span> </font>"
   ]
  },
  {
   "cell_type": "markdown",
   "metadata": {},
   "source": [
    "## <b><u><i> Plotting "
   ]
  },
  {
   "cell_type": "code",
   "execution_count": 131,
   "metadata": {},
   "outputs": [
    {
     "data": {
      "text/plain": [
       "(252, 1)"
      ]
     },
     "execution_count": 131,
     "metadata": {},
     "output_type": "execute_result"
    }
   ],
   "source": [
    "test_data.shape"
   ]
  },
  {
   "cell_type": "code",
   "execution_count": 136,
   "metadata": {},
   "outputs": [
    {
     "data": {
      "text/plain": [
       "(1, 120)"
      ]
     },
     "execution_count": 136,
     "metadata": {},
     "output_type": "execute_result"
    }
   ],
   "source": [
    "x_input = test_data[132:].reshape(1,-1)\n",
    "x_input.shape"
   ]
  },
  {
   "cell_type": "code",
   "execution_count": 137,
   "metadata": {},
   "outputs": [],
   "source": [
    "temp_input=list(x_input)\n",
    "temp_input=temp_input[0].tolist()"
   ]
  },
  {
   "cell_type": "markdown",
   "metadata": {},
   "source": [
    "## <b><u><i> Prediction for next 30 days"
   ]
  },
  {
   "cell_type": "code",
   "execution_count": 138,
   "metadata": {},
   "outputs": [
    {
     "name": "stdout",
     "output_type": "stream",
     "text": [
      "[0.85311234]\n",
      "121\n",
      "1 day input [0.7630391  0.78275571 0.78412225 0.79726656 0.791215   0.76629264\n",
      " 0.76850508 0.77820076 0.78809163 0.78750585 0.77930688 0.77397106\n",
      " 0.78086872 0.8102808  0.80188664 0.80631142 0.81372952 0.81795922\n",
      " 0.83351126 0.82323001 0.81646261 0.78327625 0.78705043 0.77774514\n",
      " 0.78366664 0.7821049  0.76434052 0.74403834 0.74722674 0.76297407\n",
      " 0.76935108 0.76993666 0.7598506  0.73733597 0.7433226  0.73466811\n",
      " 0.74215125 0.71931127 0.73213032 0.73792165 0.74631581 0.74377801\n",
      " 0.74319244 0.73473315 0.7308289  0.74937415 0.75640187 0.76752902\n",
      " 0.78190971 0.78516334 0.78659482 0.78145429 0.78112894 0.78555383\n",
      " 0.78249548 0.80670191 0.7886772  0.78321122 0.79010878 0.79967429\n",
      " 0.79622546 0.79974439 0.79427046 0.79668158 0.77784856 0.77752271\n",
      " 0.791338   0.79140313 0.79791975 0.81414616 0.84268887 0.86015346\n",
      " 0.86321628 0.86575775 0.86921155 0.83578128 0.85813332 0.89110739\n",
      " 0.88765359 0.88107174 0.86855985 0.89123775 0.92942503 0.95483989\n",
      " 0.95145122 0.98331748 0.95914088 0.94995243 0.98234002 0.93646299\n",
      " 0.92916441 0.92010631 0.94122019 0.95848918 0.96265981 0.98905213\n",
      " 0.98227479 0.98286137 0.97517171 0.9710663  1.         0.98494663\n",
      " 0.95379721 0.9347687  0.93587651 0.93600687 0.95483989 0.95777235\n",
      " 0.93600687 0.94174153 0.92043216 0.89716779 0.88595921 0.87227437\n",
      " 0.86712619 0.85513564 0.85454916 0.85148635 0.92388596 0.85311234]\n",
      "1 day output [[0.85789776]]\n",
      "2 day input [0.78275571 0.78412225 0.79726656 0.791215   0.76629264 0.76850508\n",
      " 0.77820076 0.78809163 0.78750585 0.77930688 0.77397106 0.78086872\n",
      " 0.8102808  0.80188664 0.80631142 0.81372952 0.81795922 0.83351126\n",
      " 0.82323001 0.81646261 0.78327625 0.78705043 0.77774514 0.78366664\n",
      " 0.7821049  0.76434052 0.74403834 0.74722674 0.76297407 0.76935108\n",
      " 0.76993666 0.7598506  0.73733597 0.7433226  0.73466811 0.74215125\n",
      " 0.71931127 0.73213032 0.73792165 0.74631581 0.74377801 0.74319244\n",
      " 0.73473315 0.7308289  0.74937415 0.75640187 0.76752902 0.78190971\n",
      " 0.78516334 0.78659482 0.78145429 0.78112894 0.78555383 0.78249548\n",
      " 0.80670191 0.7886772  0.78321122 0.79010878 0.79967429 0.79622546\n",
      " 0.79974439 0.79427046 0.79668158 0.77784856 0.77752271 0.791338\n",
      " 0.79140313 0.79791975 0.81414616 0.84268887 0.86015346 0.86321628\n",
      " 0.86575775 0.86921155 0.83578128 0.85813332 0.89110739 0.88765359\n",
      " 0.88107174 0.86855985 0.89123775 0.92942503 0.95483989 0.95145122\n",
      " 0.98331748 0.95914088 0.94995243 0.98234002 0.93646299 0.92916441\n",
      " 0.92010631 0.94122019 0.95848918 0.96265981 0.98905213 0.98227479\n",
      " 0.98286137 0.97517171 0.9710663  1.         0.98494663 0.95379721\n",
      " 0.9347687  0.93587651 0.93600687 0.95483989 0.95777235 0.93600687\n",
      " 0.94174153 0.92043216 0.89716779 0.88595921 0.87227437 0.86712619\n",
      " 0.85513564 0.85454916 0.85148635 0.92388596 0.85311234 0.85789776]\n",
      "2 day output [[0.85484123]]\n",
      "3 day input [0.78412225 0.79726656 0.791215   0.76629264 0.76850508 0.77820076\n",
      " 0.78809163 0.78750585 0.77930688 0.77397106 0.78086872 0.8102808\n",
      " 0.80188664 0.80631142 0.81372952 0.81795922 0.83351126 0.82323001\n",
      " 0.81646261 0.78327625 0.78705043 0.77774514 0.78366664 0.7821049\n",
      " 0.76434052 0.74403834 0.74722674 0.76297407 0.76935108 0.76993666\n",
      " 0.7598506  0.73733597 0.7433226  0.73466811 0.74215125 0.71931127\n",
      " 0.73213032 0.73792165 0.74631581 0.74377801 0.74319244 0.73473315\n",
      " 0.7308289  0.74937415 0.75640187 0.76752902 0.78190971 0.78516334\n",
      " 0.78659482 0.78145429 0.78112894 0.78555383 0.78249548 0.80670191\n",
      " 0.7886772  0.78321122 0.79010878 0.79967429 0.79622546 0.79974439\n",
      " 0.79427046 0.79668158 0.77784856 0.77752271 0.791338   0.79140313\n",
      " 0.79791975 0.81414616 0.84268887 0.86015346 0.86321628 0.86575775\n",
      " 0.86921155 0.83578128 0.85813332 0.89110739 0.88765359 0.88107174\n",
      " 0.86855985 0.89123775 0.92942503 0.95483989 0.95145122 0.98331748\n",
      " 0.95914088 0.94995243 0.98234002 0.93646299 0.92916441 0.92010631\n",
      " 0.94122019 0.95848918 0.96265981 0.98905213 0.98227479 0.98286137\n",
      " 0.97517171 0.9710663  1.         0.98494663 0.95379721 0.9347687\n",
      " 0.93587651 0.93600687 0.95483989 0.95777235 0.93600687 0.94174153\n",
      " 0.92043216 0.89716779 0.88595921 0.87227437 0.86712619 0.85513564\n",
      " 0.85454916 0.85148635 0.92388596 0.85311234 0.85789776 0.85484123]\n",
      "3 day output [[0.8474549]]\n",
      "4 day input [0.79726656 0.791215   0.76629264 0.76850508 0.77820076 0.78809163\n",
      " 0.78750585 0.77930688 0.77397106 0.78086872 0.8102808  0.80188664\n",
      " 0.80631142 0.81372952 0.81795922 0.83351126 0.82323001 0.81646261\n",
      " 0.78327625 0.78705043 0.77774514 0.78366664 0.7821049  0.76434052\n",
      " 0.74403834 0.74722674 0.76297407 0.76935108 0.76993666 0.7598506\n",
      " 0.73733597 0.7433226  0.73466811 0.74215125 0.71931127 0.73213032\n",
      " 0.73792165 0.74631581 0.74377801 0.74319244 0.73473315 0.7308289\n",
      " 0.74937415 0.75640187 0.76752902 0.78190971 0.78516334 0.78659482\n",
      " 0.78145429 0.78112894 0.78555383 0.78249548 0.80670191 0.7886772\n",
      " 0.78321122 0.79010878 0.79967429 0.79622546 0.79974439 0.79427046\n",
      " 0.79668158 0.77784856 0.77752271 0.791338   0.79140313 0.79791975\n",
      " 0.81414616 0.84268887 0.86015346 0.86321628 0.86575775 0.86921155\n",
      " 0.83578128 0.85813332 0.89110739 0.88765359 0.88107174 0.86855985\n",
      " 0.89123775 0.92942503 0.95483989 0.95145122 0.98331748 0.95914088\n",
      " 0.94995243 0.98234002 0.93646299 0.92916441 0.92010631 0.94122019\n",
      " 0.95848918 0.96265981 0.98905213 0.98227479 0.98286137 0.97517171\n",
      " 0.9710663  1.         0.98494663 0.95379721 0.9347687  0.93587651\n",
      " 0.93600687 0.95483989 0.95777235 0.93600687 0.94174153 0.92043216\n",
      " 0.89716779 0.88595921 0.87227437 0.86712619 0.85513564 0.85454916\n",
      " 0.85148635 0.92388596 0.85311234 0.85789776 0.85484123 0.84745491]\n",
      "4 day output [[0.8389389]]\n",
      "5 day input [0.791215   0.76629264 0.76850508 0.77820076 0.78809163 0.78750585\n",
      " 0.77930688 0.77397106 0.78086872 0.8102808  0.80188664 0.80631142\n",
      " 0.81372952 0.81795922 0.83351126 0.82323001 0.81646261 0.78327625\n",
      " 0.78705043 0.77774514 0.78366664 0.7821049  0.76434052 0.74403834\n",
      " 0.74722674 0.76297407 0.76935108 0.76993666 0.7598506  0.73733597\n",
      " 0.7433226  0.73466811 0.74215125 0.71931127 0.73213032 0.73792165\n",
      " 0.74631581 0.74377801 0.74319244 0.73473315 0.7308289  0.74937415\n",
      " 0.75640187 0.76752902 0.78190971 0.78516334 0.78659482 0.78145429\n",
      " 0.78112894 0.78555383 0.78249548 0.80670191 0.7886772  0.78321122\n",
      " 0.79010878 0.79967429 0.79622546 0.79974439 0.79427046 0.79668158\n",
      " 0.77784856 0.77752271 0.791338   0.79140313 0.79791975 0.81414616\n",
      " 0.84268887 0.86015346 0.86321628 0.86575775 0.86921155 0.83578128\n",
      " 0.85813332 0.89110739 0.88765359 0.88107174 0.86855985 0.89123775\n",
      " 0.92942503 0.95483989 0.95145122 0.98331748 0.95914088 0.94995243\n",
      " 0.98234002 0.93646299 0.92916441 0.92010631 0.94122019 0.95848918\n",
      " 0.96265981 0.98905213 0.98227479 0.98286137 0.97517171 0.9710663\n",
      " 1.         0.98494663 0.95379721 0.9347687  0.93587651 0.93600687\n",
      " 0.95483989 0.95777235 0.93600687 0.94174153 0.92043216 0.89716779\n",
      " 0.88595921 0.87227437 0.86712619 0.85513564 0.85454916 0.85148635\n",
      " 0.92388596 0.85311234 0.85789776 0.85484123 0.84745491 0.83893889]\n",
      "5 day output [[0.8310074]]\n",
      "6 day input [0.76629264 0.76850508 0.77820076 0.78809163 0.78750585 0.77930688\n",
      " 0.77397106 0.78086872 0.8102808  0.80188664 0.80631142 0.81372952\n",
      " 0.81795922 0.83351126 0.82323001 0.81646261 0.78327625 0.78705043\n",
      " 0.77774514 0.78366664 0.7821049  0.76434052 0.74403834 0.74722674\n",
      " 0.76297407 0.76935108 0.76993666 0.7598506  0.73733597 0.7433226\n",
      " 0.73466811 0.74215125 0.71931127 0.73213032 0.73792165 0.74631581\n",
      " 0.74377801 0.74319244 0.73473315 0.7308289  0.74937415 0.75640187\n",
      " 0.76752902 0.78190971 0.78516334 0.78659482 0.78145429 0.78112894\n",
      " 0.78555383 0.78249548 0.80670191 0.7886772  0.78321122 0.79010878\n",
      " 0.79967429 0.79622546 0.79974439 0.79427046 0.79668158 0.77784856\n",
      " 0.77752271 0.791338   0.79140313 0.79791975 0.81414616 0.84268887\n",
      " 0.86015346 0.86321628 0.86575775 0.86921155 0.83578128 0.85813332\n",
      " 0.89110739 0.88765359 0.88107174 0.86855985 0.89123775 0.92942503\n",
      " 0.95483989 0.95145122 0.98331748 0.95914088 0.94995243 0.98234002\n",
      " 0.93646299 0.92916441 0.92010631 0.94122019 0.95848918 0.96265981\n",
      " 0.98905213 0.98227479 0.98286137 0.97517171 0.9710663  1.\n",
      " 0.98494663 0.95379721 0.9347687  0.93587651 0.93600687 0.95483989\n",
      " 0.95777235 0.93600687 0.94174153 0.92043216 0.89716779 0.88595921\n",
      " 0.87227437 0.86712619 0.85513564 0.85454916 0.85148635 0.92388596\n",
      " 0.85311234 0.85789776 0.85484123 0.84745491 0.83893889 0.83100742]\n",
      "6 day output [[0.82427716]]\n",
      "7 day input [0.76850508 0.77820076 0.78809163 0.78750585 0.77930688 0.77397106\n",
      " 0.78086872 0.8102808  0.80188664 0.80631142 0.81372952 0.81795922\n",
      " 0.83351126 0.82323001 0.81646261 0.78327625 0.78705043 0.77774514\n",
      " 0.78366664 0.7821049  0.76434052 0.74403834 0.74722674 0.76297407\n",
      " 0.76935108 0.76993666 0.7598506  0.73733597 0.7433226  0.73466811\n",
      " 0.74215125 0.71931127 0.73213032 0.73792165 0.74631581 0.74377801\n",
      " 0.74319244 0.73473315 0.7308289  0.74937415 0.75640187 0.76752902\n",
      " 0.78190971 0.78516334 0.78659482 0.78145429 0.78112894 0.78555383\n",
      " 0.78249548 0.80670191 0.7886772  0.78321122 0.79010878 0.79967429\n",
      " 0.79622546 0.79974439 0.79427046 0.79668158 0.77784856 0.77752271\n",
      " 0.791338   0.79140313 0.79791975 0.81414616 0.84268887 0.86015346\n",
      " 0.86321628 0.86575775 0.86921155 0.83578128 0.85813332 0.89110739\n",
      " 0.88765359 0.88107174 0.86855985 0.89123775 0.92942503 0.95483989\n",
      " 0.95145122 0.98331748 0.95914088 0.94995243 0.98234002 0.93646299\n",
      " 0.92916441 0.92010631 0.94122019 0.95848918 0.96265981 0.98905213\n",
      " 0.98227479 0.98286137 0.97517171 0.9710663  1.         0.98494663\n",
      " 0.95379721 0.9347687  0.93587651 0.93600687 0.95483989 0.95777235\n",
      " 0.93600687 0.94174153 0.92043216 0.89716779 0.88595921 0.87227437\n",
      " 0.86712619 0.85513564 0.85454916 0.85148635 0.92388596 0.85311234\n",
      " 0.85789776 0.85484123 0.84745491 0.83893889 0.83100742 0.82427716]\n",
      "7 day output [[0.81879354]]\n",
      "8 day input [0.77820076 0.78809163 0.78750585 0.77930688 0.77397106 0.78086872\n",
      " 0.8102808  0.80188664 0.80631142 0.81372952 0.81795922 0.83351126\n",
      " 0.82323001 0.81646261 0.78327625 0.78705043 0.77774514 0.78366664\n",
      " 0.7821049  0.76434052 0.74403834 0.74722674 0.76297407 0.76935108\n",
      " 0.76993666 0.7598506  0.73733597 0.7433226  0.73466811 0.74215125\n",
      " 0.71931127 0.73213032 0.73792165 0.74631581 0.74377801 0.74319244\n",
      " 0.73473315 0.7308289  0.74937415 0.75640187 0.76752902 0.78190971\n",
      " 0.78516334 0.78659482 0.78145429 0.78112894 0.78555383 0.78249548\n",
      " 0.80670191 0.7886772  0.78321122 0.79010878 0.79967429 0.79622546\n",
      " 0.79974439 0.79427046 0.79668158 0.77784856 0.77752271 0.791338\n",
      " 0.79140313 0.79791975 0.81414616 0.84268887 0.86015346 0.86321628\n",
      " 0.86575775 0.86921155 0.83578128 0.85813332 0.89110739 0.88765359\n",
      " 0.88107174 0.86855985 0.89123775 0.92942503 0.95483989 0.95145122\n",
      " 0.98331748 0.95914088 0.94995243 0.98234002 0.93646299 0.92916441\n",
      " 0.92010631 0.94122019 0.95848918 0.96265981 0.98905213 0.98227479\n",
      " 0.98286137 0.97517171 0.9710663  1.         0.98494663 0.95379721\n",
      " 0.9347687  0.93587651 0.93600687 0.95483989 0.95777235 0.93600687\n",
      " 0.94174153 0.92043216 0.89716779 0.88595921 0.87227437 0.86712619\n",
      " 0.85513564 0.85454916 0.85148635 0.92388596 0.85311234 0.85789776\n",
      " 0.85484123 0.84745491 0.83893889 0.83100742 0.82427716 0.81879354]\n",
      "8 day output [[0.8143659]]\n",
      "9 day input [0.78809163 0.78750585 0.77930688 0.77397106 0.78086872 0.8102808\n",
      " 0.80188664 0.80631142 0.81372952 0.81795922 0.83351126 0.82323001\n",
      " 0.81646261 0.78327625 0.78705043 0.77774514 0.78366664 0.7821049\n",
      " 0.76434052 0.74403834 0.74722674 0.76297407 0.76935108 0.76993666\n",
      " 0.7598506  0.73733597 0.7433226  0.73466811 0.74215125 0.71931127\n",
      " 0.73213032 0.73792165 0.74631581 0.74377801 0.74319244 0.73473315\n",
      " 0.7308289  0.74937415 0.75640187 0.76752902 0.78190971 0.78516334\n",
      " 0.78659482 0.78145429 0.78112894 0.78555383 0.78249548 0.80670191\n",
      " 0.7886772  0.78321122 0.79010878 0.79967429 0.79622546 0.79974439\n",
      " 0.79427046 0.79668158 0.77784856 0.77752271 0.791338   0.79140313\n",
      " 0.79791975 0.81414616 0.84268887 0.86015346 0.86321628 0.86575775\n",
      " 0.86921155 0.83578128 0.85813332 0.89110739 0.88765359 0.88107174\n",
      " 0.86855985 0.89123775 0.92942503 0.95483989 0.95145122 0.98331748\n",
      " 0.95914088 0.94995243 0.98234002 0.93646299 0.92916441 0.92010631\n",
      " 0.94122019 0.95848918 0.96265981 0.98905213 0.98227479 0.98286137\n",
      " 0.97517171 0.9710663  1.         0.98494663 0.95379721 0.9347687\n",
      " 0.93587651 0.93600687 0.95483989 0.95777235 0.93600687 0.94174153\n",
      " 0.92043216 0.89716779 0.88595921 0.87227437 0.86712619 0.85513564\n",
      " 0.85454916 0.85148635 0.92388596 0.85311234 0.85789776 0.85484123\n",
      " 0.84745491 0.83893889 0.83100742 0.82427716 0.81879354 0.81436592]\n",
      "9 day output [[0.8107322]]\n",
      "10 day input [0.78750585 0.77930688 0.77397106 0.78086872 0.8102808  0.80188664\n",
      " 0.80631142 0.81372952 0.81795922 0.83351126 0.82323001 0.81646261\n",
      " 0.78327625 0.78705043 0.77774514 0.78366664 0.7821049  0.76434052\n",
      " 0.74403834 0.74722674 0.76297407 0.76935108 0.76993666 0.7598506\n",
      " 0.73733597 0.7433226  0.73466811 0.74215125 0.71931127 0.73213032\n",
      " 0.73792165 0.74631581 0.74377801 0.74319244 0.73473315 0.7308289\n",
      " 0.74937415 0.75640187 0.76752902 0.78190971 0.78516334 0.78659482\n",
      " 0.78145429 0.78112894 0.78555383 0.78249548 0.80670191 0.7886772\n",
      " 0.78321122 0.79010878 0.79967429 0.79622546 0.79974439 0.79427046\n",
      " 0.79668158 0.77784856 0.77752271 0.791338   0.79140313 0.79791975\n",
      " 0.81414616 0.84268887 0.86015346 0.86321628 0.86575775 0.86921155\n",
      " 0.83578128 0.85813332 0.89110739 0.88765359 0.88107174 0.86855985\n",
      " 0.89123775 0.92942503 0.95483989 0.95145122 0.98331748 0.95914088\n",
      " 0.94995243 0.98234002 0.93646299 0.92916441 0.92010631 0.94122019\n",
      " 0.95848918 0.96265981 0.98905213 0.98227479 0.98286137 0.97517171\n",
      " 0.9710663  1.         0.98494663 0.95379721 0.9347687  0.93587651\n",
      " 0.93600687 0.95483989 0.95777235 0.93600687 0.94174153 0.92043216\n",
      " 0.89716779 0.88595921 0.87227437 0.86712619 0.85513564 0.85454916\n",
      " 0.85148635 0.92388596 0.85311234 0.85789776 0.85484123 0.84745491\n",
      " 0.83893889 0.83100742 0.82427716 0.81879354 0.81436592 0.81073219]\n",
      "10 day output [[0.80763316]]\n",
      "11 day input [0.77930688 0.77397106 0.78086872 0.8102808  0.80188664 0.80631142\n",
      " 0.81372952 0.81795922 0.83351126 0.82323001 0.81646261 0.78327625\n",
      " 0.78705043 0.77774514 0.78366664 0.7821049  0.76434052 0.74403834\n",
      " 0.74722674 0.76297407 0.76935108 0.76993666 0.7598506  0.73733597\n",
      " 0.7433226  0.73466811 0.74215125 0.71931127 0.73213032 0.73792165\n",
      " 0.74631581 0.74377801 0.74319244 0.73473315 0.7308289  0.74937415\n",
      " 0.75640187 0.76752902 0.78190971 0.78516334 0.78659482 0.78145429\n",
      " 0.78112894 0.78555383 0.78249548 0.80670191 0.7886772  0.78321122\n",
      " 0.79010878 0.79967429 0.79622546 0.79974439 0.79427046 0.79668158\n",
      " 0.77784856 0.77752271 0.791338   0.79140313 0.79791975 0.81414616\n",
      " 0.84268887 0.86015346 0.86321628 0.86575775 0.86921155 0.83578128\n",
      " 0.85813332 0.89110739 0.88765359 0.88107174 0.86855985 0.89123775\n",
      " 0.92942503 0.95483989 0.95145122 0.98331748 0.95914088 0.94995243\n",
      " 0.98234002 0.93646299 0.92916441 0.92010631 0.94122019 0.95848918\n",
      " 0.96265981 0.98905213 0.98227479 0.98286137 0.97517171 0.9710663\n",
      " 1.         0.98494663 0.95379721 0.9347687  0.93587651 0.93600687\n",
      " 0.95483989 0.95777235 0.93600687 0.94174153 0.92043216 0.89716779\n",
      " 0.88595921 0.87227437 0.86712619 0.85513564 0.85454916 0.85148635\n",
      " 0.92388596 0.85311234 0.85789776 0.85484123 0.84745491 0.83893889\n",
      " 0.83100742 0.82427716 0.81879354 0.81436592 0.81073219 0.80763316]\n",
      "11 day output [[0.80484724]]\n",
      "12 day input [0.77397106 0.78086872 0.8102808  0.80188664 0.80631142 0.81372952\n",
      " 0.81795922 0.83351126 0.82323001 0.81646261 0.78327625 0.78705043\n",
      " 0.77774514 0.78366664 0.7821049  0.76434052 0.74403834 0.74722674\n",
      " 0.76297407 0.76935108 0.76993666 0.7598506  0.73733597 0.7433226\n",
      " 0.73466811 0.74215125 0.71931127 0.73213032 0.73792165 0.74631581\n",
      " 0.74377801 0.74319244 0.73473315 0.7308289  0.74937415 0.75640187\n",
      " 0.76752902 0.78190971 0.78516334 0.78659482 0.78145429 0.78112894\n",
      " 0.78555383 0.78249548 0.80670191 0.7886772  0.78321122 0.79010878\n",
      " 0.79967429 0.79622546 0.79974439 0.79427046 0.79668158 0.77784856\n",
      " 0.77752271 0.791338   0.79140313 0.79791975 0.81414616 0.84268887\n",
      " 0.86015346 0.86321628 0.86575775 0.86921155 0.83578128 0.85813332\n",
      " 0.89110739 0.88765359 0.88107174 0.86855985 0.89123775 0.92942503\n",
      " 0.95483989 0.95145122 0.98331748 0.95914088 0.94995243 0.98234002\n",
      " 0.93646299 0.92916441 0.92010631 0.94122019 0.95848918 0.96265981\n",
      " 0.98905213 0.98227479 0.98286137 0.97517171 0.9710663  1.\n",
      " 0.98494663 0.95379721 0.9347687  0.93587651 0.93600687 0.95483989\n",
      " 0.95777235 0.93600687 0.94174153 0.92043216 0.89716779 0.88595921\n",
      " 0.87227437 0.86712619 0.85513564 0.85454916 0.85148635 0.92388596\n",
      " 0.85311234 0.85789776 0.85484123 0.84745491 0.83893889 0.83100742\n",
      " 0.82427716 0.81879354 0.81436592 0.81073219 0.80763316 0.80484724]\n",
      "12 day output [[0.8022085]]\n",
      "13 day input [0.78086872 0.8102808  0.80188664 0.80631142 0.81372952 0.81795922\n",
      " 0.83351126 0.82323001 0.81646261 0.78327625 0.78705043 0.77774514\n",
      " 0.78366664 0.7821049  0.76434052 0.74403834 0.74722674 0.76297407\n",
      " 0.76935108 0.76993666 0.7598506  0.73733597 0.7433226  0.73466811\n",
      " 0.74215125 0.71931127 0.73213032 0.73792165 0.74631581 0.74377801\n",
      " 0.74319244 0.73473315 0.7308289  0.74937415 0.75640187 0.76752902\n",
      " 0.78190971 0.78516334 0.78659482 0.78145429 0.78112894 0.78555383\n",
      " 0.78249548 0.80670191 0.7886772  0.78321122 0.79010878 0.79967429\n",
      " 0.79622546 0.79974439 0.79427046 0.79668158 0.77784856 0.77752271\n",
      " 0.791338   0.79140313 0.79791975 0.81414616 0.84268887 0.86015346\n",
      " 0.86321628 0.86575775 0.86921155 0.83578128 0.85813332 0.89110739\n",
      " 0.88765359 0.88107174 0.86855985 0.89123775 0.92942503 0.95483989\n",
      " 0.95145122 0.98331748 0.95914088 0.94995243 0.98234002 0.93646299\n",
      " 0.92916441 0.92010631 0.94122019 0.95848918 0.96265981 0.98905213\n",
      " 0.98227479 0.98286137 0.97517171 0.9710663  1.         0.98494663\n",
      " 0.95379721 0.9347687  0.93587651 0.93600687 0.95483989 0.95777235\n",
      " 0.93600687 0.94174153 0.92043216 0.89716779 0.88595921 0.87227437\n",
      " 0.86712619 0.85513564 0.85454916 0.85148635 0.92388596 0.85311234\n",
      " 0.85789776 0.85484123 0.84745491 0.83893889 0.83100742 0.82427716\n",
      " 0.81879354 0.81436592 0.81073219 0.80763316 0.80484724 0.80220848]\n",
      "13 day output [[0.79960954]]\n",
      "14 day input [0.8102808  0.80188664 0.80631142 0.81372952 0.81795922 0.83351126\n",
      " 0.82323001 0.81646261 0.78327625 0.78705043 0.77774514 0.78366664\n",
      " 0.7821049  0.76434052 0.74403834 0.74722674 0.76297407 0.76935108\n",
      " 0.76993666 0.7598506  0.73733597 0.7433226  0.73466811 0.74215125\n",
      " 0.71931127 0.73213032 0.73792165 0.74631581 0.74377801 0.74319244\n",
      " 0.73473315 0.7308289  0.74937415 0.75640187 0.76752902 0.78190971\n",
      " 0.78516334 0.78659482 0.78145429 0.78112894 0.78555383 0.78249548\n",
      " 0.80670191 0.7886772  0.78321122 0.79010878 0.79967429 0.79622546\n",
      " 0.79974439 0.79427046 0.79668158 0.77784856 0.77752271 0.791338\n",
      " 0.79140313 0.79791975 0.81414616 0.84268887 0.86015346 0.86321628\n",
      " 0.86575775 0.86921155 0.83578128 0.85813332 0.89110739 0.88765359\n",
      " 0.88107174 0.86855985 0.89123775 0.92942503 0.95483989 0.95145122\n",
      " 0.98331748 0.95914088 0.94995243 0.98234002 0.93646299 0.92916441\n",
      " 0.92010631 0.94122019 0.95848918 0.96265981 0.98905213 0.98227479\n",
      " 0.98286137 0.97517171 0.9710663  1.         0.98494663 0.95379721\n",
      " 0.9347687  0.93587651 0.93600687 0.95483989 0.95777235 0.93600687\n",
      " 0.94174153 0.92043216 0.89716779 0.88595921 0.87227437 0.86712619\n",
      " 0.85513564 0.85454916 0.85148635 0.92388596 0.85311234 0.85789776\n",
      " 0.85484123 0.84745491 0.83893889 0.83100742 0.82427716 0.81879354\n",
      " 0.81436592 0.81073219 0.80763316 0.80484724 0.80220848 0.79960954]\n",
      "14 day output [[0.7969954]]\n",
      "15 day input [0.80188664 0.80631142 0.81372952 0.81795922 0.83351126 0.82323001\n",
      " 0.81646261 0.78327625 0.78705043 0.77774514 0.78366664 0.7821049\n",
      " 0.76434052 0.74403834 0.74722674 0.76297407 0.76935108 0.76993666\n",
      " 0.7598506  0.73733597 0.7433226  0.73466811 0.74215125 0.71931127\n",
      " 0.73213032 0.73792165 0.74631581 0.74377801 0.74319244 0.73473315\n",
      " 0.7308289  0.74937415 0.75640187 0.76752902 0.78190971 0.78516334\n",
      " 0.78659482 0.78145429 0.78112894 0.78555383 0.78249548 0.80670191\n",
      " 0.7886772  0.78321122 0.79010878 0.79967429 0.79622546 0.79974439\n",
      " 0.79427046 0.79668158 0.77784856 0.77752271 0.791338   0.79140313\n",
      " 0.79791975 0.81414616 0.84268887 0.86015346 0.86321628 0.86575775\n",
      " 0.86921155 0.83578128 0.85813332 0.89110739 0.88765359 0.88107174\n",
      " 0.86855985 0.89123775 0.92942503 0.95483989 0.95145122 0.98331748\n",
      " 0.95914088 0.94995243 0.98234002 0.93646299 0.92916441 0.92010631\n",
      " 0.94122019 0.95848918 0.96265981 0.98905213 0.98227479 0.98286137\n",
      " 0.97517171 0.9710663  1.         0.98494663 0.95379721 0.9347687\n",
      " 0.93587651 0.93600687 0.95483989 0.95777235 0.93600687 0.94174153\n",
      " 0.92043216 0.89716779 0.88595921 0.87227437 0.86712619 0.85513564\n",
      " 0.85454916 0.85148635 0.92388596 0.85311234 0.85789776 0.85484123\n",
      " 0.84745491 0.83893889 0.83100742 0.82427716 0.81879354 0.81436592\n",
      " 0.81073219 0.80763316 0.80484724 0.80220848 0.79960954 0.7969954 ]\n",
      "15 day output [[0.79435223]]\n",
      "16 day input [0.80631142 0.81372952 0.81795922 0.83351126 0.82323001 0.81646261\n",
      " 0.78327625 0.78705043 0.77774514 0.78366664 0.7821049  0.76434052\n",
      " 0.74403834 0.74722674 0.76297407 0.76935108 0.76993666 0.7598506\n",
      " 0.73733597 0.7433226  0.73466811 0.74215125 0.71931127 0.73213032\n",
      " 0.73792165 0.74631581 0.74377801 0.74319244 0.73473315 0.7308289\n",
      " 0.74937415 0.75640187 0.76752902 0.78190971 0.78516334 0.78659482\n",
      " 0.78145429 0.78112894 0.78555383 0.78249548 0.80670191 0.7886772\n",
      " 0.78321122 0.79010878 0.79967429 0.79622546 0.79974439 0.79427046\n",
      " 0.79668158 0.77784856 0.77752271 0.791338   0.79140313 0.79791975\n",
      " 0.81414616 0.84268887 0.86015346 0.86321628 0.86575775 0.86921155\n",
      " 0.83578128 0.85813332 0.89110739 0.88765359 0.88107174 0.86855985\n",
      " 0.89123775 0.92942503 0.95483989 0.95145122 0.98331748 0.95914088\n",
      " 0.94995243 0.98234002 0.93646299 0.92916441 0.92010631 0.94122019\n",
      " 0.95848918 0.96265981 0.98905213 0.98227479 0.98286137 0.97517171\n",
      " 0.9710663  1.         0.98494663 0.95379721 0.9347687  0.93587651\n",
      " 0.93600687 0.95483989 0.95777235 0.93600687 0.94174153 0.92043216\n",
      " 0.89716779 0.88595921 0.87227437 0.86712619 0.85513564 0.85454916\n",
      " 0.85148635 0.92388596 0.85311234 0.85789776 0.85484123 0.84745491\n",
      " 0.83893889 0.83100742 0.82427716 0.81879354 0.81436592 0.81073219\n",
      " 0.80763316 0.80484724 0.80220848 0.79960954 0.7969954  0.79435223]\n",
      "16 day output [[0.79169333]]\n",
      "17 day input [0.81372952 0.81795922 0.83351126 0.82323001 0.81646261 0.78327625\n",
      " 0.78705043 0.77774514 0.78366664 0.7821049  0.76434052 0.74403834\n",
      " 0.74722674 0.76297407 0.76935108 0.76993666 0.7598506  0.73733597\n",
      " 0.7433226  0.73466811 0.74215125 0.71931127 0.73213032 0.73792165\n",
      " 0.74631581 0.74377801 0.74319244 0.73473315 0.7308289  0.74937415\n",
      " 0.75640187 0.76752902 0.78190971 0.78516334 0.78659482 0.78145429\n",
      " 0.78112894 0.78555383 0.78249548 0.80670191 0.7886772  0.78321122\n",
      " 0.79010878 0.79967429 0.79622546 0.79974439 0.79427046 0.79668158\n",
      " 0.77784856 0.77752271 0.791338   0.79140313 0.79791975 0.81414616\n",
      " 0.84268887 0.86015346 0.86321628 0.86575775 0.86921155 0.83578128\n",
      " 0.85813332 0.89110739 0.88765359 0.88107174 0.86855985 0.89123775\n",
      " 0.92942503 0.95483989 0.95145122 0.98331748 0.95914088 0.94995243\n",
      " 0.98234002 0.93646299 0.92916441 0.92010631 0.94122019 0.95848918\n",
      " 0.96265981 0.98905213 0.98227479 0.98286137 0.97517171 0.9710663\n",
      " 1.         0.98494663 0.95379721 0.9347687  0.93587651 0.93600687\n",
      " 0.95483989 0.95777235 0.93600687 0.94174153 0.92043216 0.89716779\n",
      " 0.88595921 0.87227437 0.86712619 0.85513564 0.85454916 0.85148635\n",
      " 0.92388596 0.85311234 0.85789776 0.85484123 0.84745491 0.83893889\n",
      " 0.83100742 0.82427716 0.81879354 0.81436592 0.81073219 0.80763316\n",
      " 0.80484724 0.80220848 0.79960954 0.7969954  0.79435223 0.79169333]\n",
      "17 day output [[0.7890453]]\n",
      "18 day input [0.81795922 0.83351126 0.82323001 0.81646261 0.78327625 0.78705043\n",
      " 0.77774514 0.78366664 0.7821049  0.76434052 0.74403834 0.74722674\n",
      " 0.76297407 0.76935108 0.76993666 0.7598506  0.73733597 0.7433226\n",
      " 0.73466811 0.74215125 0.71931127 0.73213032 0.73792165 0.74631581\n",
      " 0.74377801 0.74319244 0.73473315 0.7308289  0.74937415 0.75640187\n",
      " 0.76752902 0.78190971 0.78516334 0.78659482 0.78145429 0.78112894\n",
      " 0.78555383 0.78249548 0.80670191 0.7886772  0.78321122 0.79010878\n",
      " 0.79967429 0.79622546 0.79974439 0.79427046 0.79668158 0.77784856\n",
      " 0.77752271 0.791338   0.79140313 0.79791975 0.81414616 0.84268887\n",
      " 0.86015346 0.86321628 0.86575775 0.86921155 0.83578128 0.85813332\n",
      " 0.89110739 0.88765359 0.88107174 0.86855985 0.89123775 0.92942503\n",
      " 0.95483989 0.95145122 0.98331748 0.95914088 0.94995243 0.98234002\n",
      " 0.93646299 0.92916441 0.92010631 0.94122019 0.95848918 0.96265981\n",
      " 0.98905213 0.98227479 0.98286137 0.97517171 0.9710663  1.\n",
      " 0.98494663 0.95379721 0.9347687  0.93587651 0.93600687 0.95483989\n",
      " 0.95777235 0.93600687 0.94174153 0.92043216 0.89716779 0.88595921\n",
      " 0.87227437 0.86712619 0.85513564 0.85454916 0.85148635 0.92388596\n",
      " 0.85311234 0.85789776 0.85484123 0.84745491 0.83893889 0.83100742\n",
      " 0.82427716 0.81879354 0.81436592 0.81073219 0.80763316 0.80484724\n",
      " 0.80220848 0.79960954 0.7969954  0.79435223 0.79169333 0.78904527]\n",
      "18 day output [[0.7864387]]\n",
      "19 day input [0.83351126 0.82323001 0.81646261 0.78327625 0.78705043 0.77774514\n",
      " 0.78366664 0.7821049  0.76434052 0.74403834 0.74722674 0.76297407\n",
      " 0.76935108 0.76993666 0.7598506  0.73733597 0.7433226  0.73466811\n",
      " 0.74215125 0.71931127 0.73213032 0.73792165 0.74631581 0.74377801\n",
      " 0.74319244 0.73473315 0.7308289  0.74937415 0.75640187 0.76752902\n",
      " 0.78190971 0.78516334 0.78659482 0.78145429 0.78112894 0.78555383\n",
      " 0.78249548 0.80670191 0.7886772  0.78321122 0.79010878 0.79967429\n",
      " 0.79622546 0.79974439 0.79427046 0.79668158 0.77784856 0.77752271\n",
      " 0.791338   0.79140313 0.79791975 0.81414616 0.84268887 0.86015346\n",
      " 0.86321628 0.86575775 0.86921155 0.83578128 0.85813332 0.89110739\n",
      " 0.88765359 0.88107174 0.86855985 0.89123775 0.92942503 0.95483989\n",
      " 0.95145122 0.98331748 0.95914088 0.94995243 0.98234002 0.93646299\n",
      " 0.92916441 0.92010631 0.94122019 0.95848918 0.96265981 0.98905213\n",
      " 0.98227479 0.98286137 0.97517171 0.9710663  1.         0.98494663\n",
      " 0.95379721 0.9347687  0.93587651 0.93600687 0.95483989 0.95777235\n",
      " 0.93600687 0.94174153 0.92043216 0.89716779 0.88595921 0.87227437\n",
      " 0.86712619 0.85513564 0.85454916 0.85148635 0.92388596 0.85311234\n",
      " 0.85789776 0.85484123 0.84745491 0.83893889 0.83100742 0.82427716\n",
      " 0.81879354 0.81436592 0.81073219 0.80763316 0.80484724 0.80220848\n",
      " 0.79960954 0.7969954  0.79435223 0.79169333 0.78904527 0.7864387 ]\n",
      "19 day output [[0.78389984]]\n",
      "20 day input [0.82323001 0.81646261 0.78327625 0.78705043 0.77774514 0.78366664\n",
      " 0.7821049  0.76434052 0.74403834 0.74722674 0.76297407 0.76935108\n",
      " 0.76993666 0.7598506  0.73733597 0.7433226  0.73466811 0.74215125\n",
      " 0.71931127 0.73213032 0.73792165 0.74631581 0.74377801 0.74319244\n",
      " 0.73473315 0.7308289  0.74937415 0.75640187 0.76752902 0.78190971\n",
      " 0.78516334 0.78659482 0.78145429 0.78112894 0.78555383 0.78249548\n",
      " 0.80670191 0.7886772  0.78321122 0.79010878 0.79967429 0.79622546\n",
      " 0.79974439 0.79427046 0.79668158 0.77784856 0.77752271 0.791338\n",
      " 0.79140313 0.79791975 0.81414616 0.84268887 0.86015346 0.86321628\n",
      " 0.86575775 0.86921155 0.83578128 0.85813332 0.89110739 0.88765359\n",
      " 0.88107174 0.86855985 0.89123775 0.92942503 0.95483989 0.95145122\n",
      " 0.98331748 0.95914088 0.94995243 0.98234002 0.93646299 0.92916441\n",
      " 0.92010631 0.94122019 0.95848918 0.96265981 0.98905213 0.98227479\n",
      " 0.98286137 0.97517171 0.9710663  1.         0.98494663 0.95379721\n",
      " 0.9347687  0.93587651 0.93600687 0.95483989 0.95777235 0.93600687\n",
      " 0.94174153 0.92043216 0.89716779 0.88595921 0.87227437 0.86712619\n",
      " 0.85513564 0.85454916 0.85148635 0.92388596 0.85311234 0.85789776\n",
      " 0.85484123 0.84745491 0.83893889 0.83100742 0.82427716 0.81879354\n",
      " 0.81436592 0.81073219 0.80763316 0.80484724 0.80220848 0.79960954\n",
      " 0.7969954  0.79435223 0.79169333 0.78904527 0.7864387  0.78389984]\n",
      "20 day output [[0.7814479]]\n",
      "21 day input [0.81646261 0.78327625 0.78705043 0.77774514 0.78366664 0.7821049\n",
      " 0.76434052 0.74403834 0.74722674 0.76297407 0.76935108 0.76993666\n",
      " 0.7598506  0.73733597 0.7433226  0.73466811 0.74215125 0.71931127\n",
      " 0.73213032 0.73792165 0.74631581 0.74377801 0.74319244 0.73473315\n",
      " 0.7308289  0.74937415 0.75640187 0.76752902 0.78190971 0.78516334\n",
      " 0.78659482 0.78145429 0.78112894 0.78555383 0.78249548 0.80670191\n",
      " 0.7886772  0.78321122 0.79010878 0.79967429 0.79622546 0.79974439\n",
      " 0.79427046 0.79668158 0.77784856 0.77752271 0.791338   0.79140313\n",
      " 0.79791975 0.81414616 0.84268887 0.86015346 0.86321628 0.86575775\n",
      " 0.86921155 0.83578128 0.85813332 0.89110739 0.88765359 0.88107174\n",
      " 0.86855985 0.89123775 0.92942503 0.95483989 0.95145122 0.98331748\n",
      " 0.95914088 0.94995243 0.98234002 0.93646299 0.92916441 0.92010631\n",
      " 0.94122019 0.95848918 0.96265981 0.98905213 0.98227479 0.98286137\n",
      " 0.97517171 0.9710663  1.         0.98494663 0.95379721 0.9347687\n",
      " 0.93587651 0.93600687 0.95483989 0.95777235 0.93600687 0.94174153\n",
      " 0.92043216 0.89716779 0.88595921 0.87227437 0.86712619 0.85513564\n",
      " 0.85454916 0.85148635 0.92388596 0.85311234 0.85789776 0.85484123\n",
      " 0.84745491 0.83893889 0.83100742 0.82427716 0.81879354 0.81436592\n",
      " 0.81073219 0.80763316 0.80484724 0.80220848 0.79960954 0.7969954\n",
      " 0.79435223 0.79169333 0.78904527 0.7864387  0.78389984 0.78144789]\n",
      "21 day output [[0.7790936]]\n",
      "22 day input [0.78327625 0.78705043 0.77774514 0.78366664 0.7821049  0.76434052\n",
      " 0.74403834 0.74722674 0.76297407 0.76935108 0.76993666 0.7598506\n",
      " 0.73733597 0.7433226  0.73466811 0.74215125 0.71931127 0.73213032\n",
      " 0.73792165 0.74631581 0.74377801 0.74319244 0.73473315 0.7308289\n",
      " 0.74937415 0.75640187 0.76752902 0.78190971 0.78516334 0.78659482\n",
      " 0.78145429 0.78112894 0.78555383 0.78249548 0.80670191 0.7886772\n",
      " 0.78321122 0.79010878 0.79967429 0.79622546 0.79974439 0.79427046\n",
      " 0.79668158 0.77784856 0.77752271 0.791338   0.79140313 0.79791975\n",
      " 0.81414616 0.84268887 0.86015346 0.86321628 0.86575775 0.86921155\n",
      " 0.83578128 0.85813332 0.89110739 0.88765359 0.88107174 0.86855985\n",
      " 0.89123775 0.92942503 0.95483989 0.95145122 0.98331748 0.95914088\n",
      " 0.94995243 0.98234002 0.93646299 0.92916441 0.92010631 0.94122019\n",
      " 0.95848918 0.96265981 0.98905213 0.98227479 0.98286137 0.97517171\n",
      " 0.9710663  1.         0.98494663 0.95379721 0.9347687  0.93587651\n",
      " 0.93600687 0.95483989 0.95777235 0.93600687 0.94174153 0.92043216\n",
      " 0.89716779 0.88595921 0.87227437 0.86712619 0.85513564 0.85454916\n",
      " 0.85148635 0.92388596 0.85311234 0.85789776 0.85484123 0.84745491\n",
      " 0.83893889 0.83100742 0.82427716 0.81879354 0.81436592 0.81073219\n",
      " 0.80763316 0.80484724 0.80220848 0.79960954 0.7969954  0.79435223\n",
      " 0.79169333 0.78904527 0.7864387  0.78389984 0.78144789 0.77909362]\n",
      "22 day output [[0.7768408]]\n",
      "23 day input [0.78705043 0.77774514 0.78366664 0.7821049  0.76434052 0.74403834\n",
      " 0.74722674 0.76297407 0.76935108 0.76993666 0.7598506  0.73733597\n",
      " 0.7433226  0.73466811 0.74215125 0.71931127 0.73213032 0.73792165\n",
      " 0.74631581 0.74377801 0.74319244 0.73473315 0.7308289  0.74937415\n",
      " 0.75640187 0.76752902 0.78190971 0.78516334 0.78659482 0.78145429\n",
      " 0.78112894 0.78555383 0.78249548 0.80670191 0.7886772  0.78321122\n",
      " 0.79010878 0.79967429 0.79622546 0.79974439 0.79427046 0.79668158\n",
      " 0.77784856 0.77752271 0.791338   0.79140313 0.79791975 0.81414616\n",
      " 0.84268887 0.86015346 0.86321628 0.86575775 0.86921155 0.83578128\n",
      " 0.85813332 0.89110739 0.88765359 0.88107174 0.86855985 0.89123775\n",
      " 0.92942503 0.95483989 0.95145122 0.98331748 0.95914088 0.94995243\n",
      " 0.98234002 0.93646299 0.92916441 0.92010631 0.94122019 0.95848918\n",
      " 0.96265981 0.98905213 0.98227479 0.98286137 0.97517171 0.9710663\n",
      " 1.         0.98494663 0.95379721 0.9347687  0.93587651 0.93600687\n",
      " 0.95483989 0.95777235 0.93600687 0.94174153 0.92043216 0.89716779\n",
      " 0.88595921 0.87227437 0.86712619 0.85513564 0.85454916 0.85148635\n",
      " 0.92388596 0.85311234 0.85789776 0.85484123 0.84745491 0.83893889\n",
      " 0.83100742 0.82427716 0.81879354 0.81436592 0.81073219 0.80763316\n",
      " 0.80484724 0.80220848 0.79960954 0.7969954  0.79435223 0.79169333\n",
      " 0.78904527 0.7864387  0.78389984 0.78144789 0.77909362 0.77684081]\n",
      "23 day output [[0.7746864]]\n",
      "24 day input [0.77774514 0.78366664 0.7821049  0.76434052 0.74403834 0.74722674\n",
      " 0.76297407 0.76935108 0.76993666 0.7598506  0.73733597 0.7433226\n",
      " 0.73466811 0.74215125 0.71931127 0.73213032 0.73792165 0.74631581\n",
      " 0.74377801 0.74319244 0.73473315 0.7308289  0.74937415 0.75640187\n",
      " 0.76752902 0.78190971 0.78516334 0.78659482 0.78145429 0.78112894\n",
      " 0.78555383 0.78249548 0.80670191 0.7886772  0.78321122 0.79010878\n",
      " 0.79967429 0.79622546 0.79974439 0.79427046 0.79668158 0.77784856\n",
      " 0.77752271 0.791338   0.79140313 0.79791975 0.81414616 0.84268887\n",
      " 0.86015346 0.86321628 0.86575775 0.86921155 0.83578128 0.85813332\n",
      " 0.89110739 0.88765359 0.88107174 0.86855985 0.89123775 0.92942503\n",
      " 0.95483989 0.95145122 0.98331748 0.95914088 0.94995243 0.98234002\n",
      " 0.93646299 0.92916441 0.92010631 0.94122019 0.95848918 0.96265981\n",
      " 0.98905213 0.98227479 0.98286137 0.97517171 0.9710663  1.\n",
      " 0.98494663 0.95379721 0.9347687  0.93587651 0.93600687 0.95483989\n",
      " 0.95777235 0.93600687 0.94174153 0.92043216 0.89716779 0.88595921\n",
      " 0.87227437 0.86712619 0.85513564 0.85454916 0.85148635 0.92388596\n",
      " 0.85311234 0.85789776 0.85484123 0.84745491 0.83893889 0.83100742\n",
      " 0.82427716 0.81879354 0.81436592 0.81073219 0.80763316 0.80484724\n",
      " 0.80220848 0.79960954 0.7969954  0.79435223 0.79169333 0.78904527\n",
      " 0.7864387  0.78389984 0.78144789 0.77909362 0.77684081 0.7746864 ]\n",
      "24 day output [[0.7726252]]\n",
      "25 day input [0.78366664 0.7821049  0.76434052 0.74403834 0.74722674 0.76297407\n",
      " 0.76935108 0.76993666 0.7598506  0.73733597 0.7433226  0.73466811\n",
      " 0.74215125 0.71931127 0.73213032 0.73792165 0.74631581 0.74377801\n",
      " 0.74319244 0.73473315 0.7308289  0.74937415 0.75640187 0.76752902\n",
      " 0.78190971 0.78516334 0.78659482 0.78145429 0.78112894 0.78555383\n",
      " 0.78249548 0.80670191 0.7886772  0.78321122 0.79010878 0.79967429\n",
      " 0.79622546 0.79974439 0.79427046 0.79668158 0.77784856 0.77752271\n",
      " 0.791338   0.79140313 0.79791975 0.81414616 0.84268887 0.86015346\n",
      " 0.86321628 0.86575775 0.86921155 0.83578128 0.85813332 0.89110739\n",
      " 0.88765359 0.88107174 0.86855985 0.89123775 0.92942503 0.95483989\n",
      " 0.95145122 0.98331748 0.95914088 0.94995243 0.98234002 0.93646299\n",
      " 0.92916441 0.92010631 0.94122019 0.95848918 0.96265981 0.98905213\n",
      " 0.98227479 0.98286137 0.97517171 0.9710663  1.         0.98494663\n",
      " 0.95379721 0.9347687  0.93587651 0.93600687 0.95483989 0.95777235\n",
      " 0.93600687 0.94174153 0.92043216 0.89716779 0.88595921 0.87227437\n",
      " 0.86712619 0.85513564 0.85454916 0.85148635 0.92388596 0.85311234\n",
      " 0.85789776 0.85484123 0.84745491 0.83893889 0.83100742 0.82427716\n",
      " 0.81879354 0.81436592 0.81073219 0.80763316 0.80484724 0.80220848\n",
      " 0.79960954 0.7969954  0.79435223 0.79169333 0.78904527 0.7864387\n",
      " 0.78389984 0.78144789 0.77909362 0.77684081 0.7746864  0.77262521]\n",
      "25 day output [[0.7706484]]\n",
      "26 day input [0.7821049  0.76434052 0.74403834 0.74722674 0.76297407 0.76935108\n",
      " 0.76993666 0.7598506  0.73733597 0.7433226  0.73466811 0.74215125\n",
      " 0.71931127 0.73213032 0.73792165 0.74631581 0.74377801 0.74319244\n",
      " 0.73473315 0.7308289  0.74937415 0.75640187 0.76752902 0.78190971\n",
      " 0.78516334 0.78659482 0.78145429 0.78112894 0.78555383 0.78249548\n",
      " 0.80670191 0.7886772  0.78321122 0.79010878 0.79967429 0.79622546\n",
      " 0.79974439 0.79427046 0.79668158 0.77784856 0.77752271 0.791338\n",
      " 0.79140313 0.79791975 0.81414616 0.84268887 0.86015346 0.86321628\n",
      " 0.86575775 0.86921155 0.83578128 0.85813332 0.89110739 0.88765359\n",
      " 0.88107174 0.86855985 0.89123775 0.92942503 0.95483989 0.95145122\n",
      " 0.98331748 0.95914088 0.94995243 0.98234002 0.93646299 0.92916441\n",
      " 0.92010631 0.94122019 0.95848918 0.96265981 0.98905213 0.98227479\n",
      " 0.98286137 0.97517171 0.9710663  1.         0.98494663 0.95379721\n",
      " 0.9347687  0.93587651 0.93600687 0.95483989 0.95777235 0.93600687\n",
      " 0.94174153 0.92043216 0.89716779 0.88595921 0.87227437 0.86712619\n",
      " 0.85513564 0.85454916 0.85148635 0.92388596 0.85311234 0.85789776\n",
      " 0.85484123 0.84745491 0.83893889 0.83100742 0.82427716 0.81879354\n",
      " 0.81436592 0.81073219 0.80763316 0.80484724 0.80220848 0.79960954\n",
      " 0.7969954  0.79435223 0.79169333 0.78904527 0.7864387  0.78389984\n",
      " 0.78144789 0.77909362 0.77684081 0.7746864  0.77262521 0.77064842]\n",
      "26 day output [[0.76874876]]\n",
      "27 day input [0.76434052 0.74403834 0.74722674 0.76297407 0.76935108 0.76993666\n",
      " 0.7598506  0.73733597 0.7433226  0.73466811 0.74215125 0.71931127\n",
      " 0.73213032 0.73792165 0.74631581 0.74377801 0.74319244 0.73473315\n",
      " 0.7308289  0.74937415 0.75640187 0.76752902 0.78190971 0.78516334\n",
      " 0.78659482 0.78145429 0.78112894 0.78555383 0.78249548 0.80670191\n",
      " 0.7886772  0.78321122 0.79010878 0.79967429 0.79622546 0.79974439\n",
      " 0.79427046 0.79668158 0.77784856 0.77752271 0.791338   0.79140313\n",
      " 0.79791975 0.81414616 0.84268887 0.86015346 0.86321628 0.86575775\n",
      " 0.86921155 0.83578128 0.85813332 0.89110739 0.88765359 0.88107174\n",
      " 0.86855985 0.89123775 0.92942503 0.95483989 0.95145122 0.98331748\n",
      " 0.95914088 0.94995243 0.98234002 0.93646299 0.92916441 0.92010631\n",
      " 0.94122019 0.95848918 0.96265981 0.98905213 0.98227479 0.98286137\n",
      " 0.97517171 0.9710663  1.         0.98494663 0.95379721 0.9347687\n",
      " 0.93587651 0.93600687 0.95483989 0.95777235 0.93600687 0.94174153\n",
      " 0.92043216 0.89716779 0.88595921 0.87227437 0.86712619 0.85513564\n",
      " 0.85454916 0.85148635 0.92388596 0.85311234 0.85789776 0.85484123\n",
      " 0.84745491 0.83893889 0.83100742 0.82427716 0.81879354 0.81436592\n",
      " 0.81073219 0.80763316 0.80484724 0.80220848 0.79960954 0.7969954\n",
      " 0.79435223 0.79169333 0.78904527 0.7864387  0.78389984 0.78144789\n",
      " 0.77909362 0.77684081 0.7746864  0.77262521 0.77064842 0.76874876]\n",
      "27 day output [[0.7669189]]\n",
      "28 day input [0.74403834 0.74722674 0.76297407 0.76935108 0.76993666 0.7598506\n",
      " 0.73733597 0.7433226  0.73466811 0.74215125 0.71931127 0.73213032\n",
      " 0.73792165 0.74631581 0.74377801 0.74319244 0.73473315 0.7308289\n",
      " 0.74937415 0.75640187 0.76752902 0.78190971 0.78516334 0.78659482\n",
      " 0.78145429 0.78112894 0.78555383 0.78249548 0.80670191 0.7886772\n",
      " 0.78321122 0.79010878 0.79967429 0.79622546 0.79974439 0.79427046\n",
      " 0.79668158 0.77784856 0.77752271 0.791338   0.79140313 0.79791975\n",
      " 0.81414616 0.84268887 0.86015346 0.86321628 0.86575775 0.86921155\n",
      " 0.83578128 0.85813332 0.89110739 0.88765359 0.88107174 0.86855985\n",
      " 0.89123775 0.92942503 0.95483989 0.95145122 0.98331748 0.95914088\n",
      " 0.94995243 0.98234002 0.93646299 0.92916441 0.92010631 0.94122019\n",
      " 0.95848918 0.96265981 0.98905213 0.98227479 0.98286137 0.97517171\n",
      " 0.9710663  1.         0.98494663 0.95379721 0.9347687  0.93587651\n",
      " 0.93600687 0.95483989 0.95777235 0.93600687 0.94174153 0.92043216\n",
      " 0.89716779 0.88595921 0.87227437 0.86712619 0.85513564 0.85454916\n",
      " 0.85148635 0.92388596 0.85311234 0.85789776 0.85484123 0.84745491\n",
      " 0.83893889 0.83100742 0.82427716 0.81879354 0.81436592 0.81073219\n",
      " 0.80763316 0.80484724 0.80220848 0.79960954 0.7969954  0.79435223\n",
      " 0.79169333 0.78904527 0.7864387  0.78389984 0.78144789 0.77909362\n",
      " 0.77684081 0.7746864  0.77262521 0.77064842 0.76874876 0.7669189 ]\n",
      "28 day output [[0.7651526]]\n",
      "29 day input [0.74722674 0.76297407 0.76935108 0.76993666 0.7598506  0.73733597\n",
      " 0.7433226  0.73466811 0.74215125 0.71931127 0.73213032 0.73792165\n",
      " 0.74631581 0.74377801 0.74319244 0.73473315 0.7308289  0.74937415\n",
      " 0.75640187 0.76752902 0.78190971 0.78516334 0.78659482 0.78145429\n",
      " 0.78112894 0.78555383 0.78249548 0.80670191 0.7886772  0.78321122\n",
      " 0.79010878 0.79967429 0.79622546 0.79974439 0.79427046 0.79668158\n",
      " 0.77784856 0.77752271 0.791338   0.79140313 0.79791975 0.81414616\n",
      " 0.84268887 0.86015346 0.86321628 0.86575775 0.86921155 0.83578128\n",
      " 0.85813332 0.89110739 0.88765359 0.88107174 0.86855985 0.89123775\n",
      " 0.92942503 0.95483989 0.95145122 0.98331748 0.95914088 0.94995243\n",
      " 0.98234002 0.93646299 0.92916441 0.92010631 0.94122019 0.95848918\n",
      " 0.96265981 0.98905213 0.98227479 0.98286137 0.97517171 0.9710663\n",
      " 1.         0.98494663 0.95379721 0.9347687  0.93587651 0.93600687\n",
      " 0.95483989 0.95777235 0.93600687 0.94174153 0.92043216 0.89716779\n",
      " 0.88595921 0.87227437 0.86712619 0.85513564 0.85454916 0.85148635\n",
      " 0.92388596 0.85311234 0.85789776 0.85484123 0.84745491 0.83893889\n",
      " 0.83100742 0.82427716 0.81879354 0.81436592 0.81073219 0.80763316\n",
      " 0.80484724 0.80220848 0.79960954 0.7969954  0.79435223 0.79169333\n",
      " 0.78904527 0.7864387  0.78389984 0.78144789 0.77909362 0.77684081\n",
      " 0.7746864  0.77262521 0.77064842 0.76874876 0.7669189  0.76515257]\n",
      "29 day output [[0.76344544]]\n"
     ]
    }
   ],
   "source": [
    "from numpy import array\n",
    "\n",
    "lst_output = []\n",
    "n_steps = 120\n",
    "i = 0\n",
    "while(i < 30):\n",
    "    \n",
    "    if(len(temp_input)>120):\n",
    "        #print(temp_input)\n",
    "        x_input = np.array(temp_input[1:])\n",
    "        print(\"{} day input {}\".format(i , x_input))\n",
    "        x_input = x_input.reshape(1 , -1)\n",
    "        x_input = x_input.reshape((1 , n_steps , 1))\n",
    "        #print(x_input)\n",
    "        yhat = regressor.predict(x_input, verbose=0)\n",
    "        print(\"{} day output {}\".format(i , yhat))\n",
    "        temp_input.extend(yhat[0].tolist())\n",
    "        temp_input = temp_input[1:]\n",
    "        #print(temp_input)\n",
    "        lst_output.extend(yhat.tolist())\n",
    "        i = i + 1\n",
    "    else:\n",
    "        x_input = x_input.reshape((1, n_steps,1))\n",
    "        yhat = regressor.predict(x_input, verbose=0)\n",
    "        print(yhat[0])\n",
    "        temp_input.extend(yhat[0].tolist())\n",
    "        print(len(temp_input))\n",
    "        lst_output.extend(yhat.tolist())\n",
    "        i = i + 1\n",
    "    "
   ]
  },
  {
   "cell_type": "code",
   "execution_count": 192,
   "metadata": {},
   "outputs": [],
   "source": [
    "day_new = np.arange(1 , 121)\n",
    "day_pred = np.arange(121 , 151)"
   ]
  },
  {
   "cell_type": "code",
   "execution_count": 193,
   "metadata": {},
   "outputs": [
    {
     "data": {
      "text/plain": [
       "1140"
      ]
     },
     "execution_count": 193,
     "metadata": {},
     "output_type": "execute_result"
    }
   ],
   "source": [
    "len(data) - 120"
   ]
  },
  {
   "cell_type": "code",
   "execution_count": 217,
   "metadata": {},
   "outputs": [
    {
     "data": {
      "text/plain": [
       "[<matplotlib.lines.Line2D at 0x1b315734340>]"
      ]
     },
     "execution_count": 217,
     "metadata": {},
     "output_type": "execute_result"
    },
    {
     "data": {
      "image/png": "[encoded data removed]",
      "text/plain": [
       "<Figure size 432x288 with 1 Axes>"
      ]
     },
     "metadata": {
      "needs_background": "light"
     },
     "output_type": "display_data"
    }
   ],
   "source": [
    "plt.plot(day_new, SC.inverse_transform(data[1140:]))\n",
    "plt.plot(day_pred, SC.inverse_transform(lst_output))"
   ]
  },
  {
   "cell_type": "code",
   "execution_count": 212,
   "metadata": {},
   "outputs": [
    {
     "data": {
      "text/plain": [
       "[<matplotlib.lines.Line2D at 0x1b3155ec130>]"
      ]
     },
     "execution_count": 212,
     "metadata": {},
     "output_type": "execute_result"
    },
    {
     "data": {
      "image/png": "[encoded data removed]",
      "text/plain": [
       "<Figure size 432x288 with 1 Axes>"
      ]
     },
     "metadata": {
      "needs_background": "light"
     },
     "output_type": "display_data"
    }
   ],
   "source": [
    "df3 = data.tolist()\n",
    "df3.extend(lst_output)\n",
    "plt.plot(df3[1140:])"
   ]
  },
  {
   "cell_type": "code",
   "execution_count": 213,
   "metadata": {},
   "outputs": [],
   "source": [
    "df3 = SC.inverse_transform(df3).tolist()"
   ]
  },
  {
   "cell_type": "code",
   "execution_count": 225,
   "metadata": {},
   "outputs": [
    {
     "data": {
      "text/plain": [
       "[<matplotlib.lines.Line2D at 0x1b3155fa550>]"
      ]
     },
     "execution_count": 225,
     "metadata": {},
     "output_type": "execute_result"
    },
    {
     "data": {
      "image/png": "[encoded data removed]",
      "text/plain": [
       "<Figure size 432x288 with 1 Axes>"
      ]
     },
     "metadata": {
      "needs_background": "light"
     },
     "output_type": "display_data"
    }
   ],
   "source": [
    "plt.plot(df3 , color = 'blue')\n",
    "plt.plot(ticker_Df['Close'].values , color = 'red')"
   ]
  }
 ],
 "metadata": {
  "interpreter": {
   "hash": "3ba20c9b3d080635768f0bd7ce5f3158a65b5f0f28269279444906c652d310d1"
  },
  "kernelspec": {
   "display_name": "Python 3.8.8 64-bit ('base': conda)",
   "language": "python",
   "name": "python3"
  },
  "language_info": {
   "codemirror_mode": {
    "name": "ipython",
    "version": 3
   },
   "file_extension": ".py",
   "mimetype": "text/x-python",
   "name": "python",
   "nbconvert_exporter": "python",
   "pygments_lexer": "ipython3",
   "version": "3.8.8"
  },
  "orig_nbformat": 4
 },
 "nbformat": 4,
 "nbformat_minor": 2
}
